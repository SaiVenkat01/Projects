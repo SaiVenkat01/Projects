{
 "cells": [
  {
   "cell_type": "markdown",
   "metadata": {
    "id": "8eSpOZfI0Dcu"
   },
   "source": [
    "#Importing libraries"
   ]
  },
  {
   "cell_type": "code",
   "execution_count": 1,
   "metadata": {
    "id": "yGWJ9lhdz-eP"
   },
   "outputs": [],
   "source": [
    "import numpy as np\n",
    "import pandas as pd\n",
    "import matplotlib.pyplot as plt"
   ]
  },
  {
   "cell_type": "code",
   "execution_count": null,
   "metadata": {},
   "outputs": [],
   "source": []
  },
  {
   "cell_type": "markdown",
   "metadata": {
    "id": "hUDysljI18u0"
   },
   "source": [
    "#Importing Dataset"
   ]
  },
  {
   "cell_type": "code",
   "execution_count": 2,
   "metadata": {
    "id": "KsIMacGj17iT"
   },
   "outputs": [],
   "source": [
    "dataset = pd.read_csv('weatherAUS.csv')\n",
    "X = dataset.iloc[:,[1,2,3,4,7,8,9,10,11,12,13,14,15,16,17,18,19,20,21]].values\n",
    "Y = dataset.iloc[:,-1].values"
   ]
  },
  {
   "cell_type": "code",
   "execution_count": 3,
   "metadata": {
    "colab": {
     "base_uri": "https://localhost:8080/"
    },
    "id": "lmk-Nsft31Jr",
    "outputId": "63a57eda-99a9-48b3-d4b0-931c48e54b48"
   },
   "outputs": [
    {
     "name": "stdout",
     "output_type": "stream",
     "text": [
      "[['Albury' 13.4 22.9 ... 16.9 21.8 'No']\n",
      " ['Albury' 7.4 25.1 ... 17.2 24.3 'No']\n",
      " ['Albury' 12.9 25.7 ... 21.0 23.2 'No']\n",
      " ...\n",
      " ['Uluru' 5.4 26.9 ... 12.5 26.1 'No']\n",
      " ['Uluru' 7.8 27.0 ... 15.1 26.0 'No']\n",
      " ['Uluru' 14.9 nan ... 15.0 20.9 'No']]\n"
     ]
    }
   ],
   "source": [
    "print(X)"
   ]
  },
  {
   "cell_type": "code",
   "execution_count": 4,
   "metadata": {
    "colab": {
     "base_uri": "https://localhost:8080/"
    },
    "id": "6WaCq0E033ej",
    "outputId": "97a64815-004c-47e6-b7f1-01be13c670f1"
   },
   "outputs": [
    {
     "name": "stdout",
     "output_type": "stream",
     "text": [
      "['No' 'No' 'No' ... 'No' 'No' nan]\n"
     ]
    }
   ],
   "source": [
    "print(Y)"
   ]
  },
  {
   "cell_type": "code",
   "execution_count": 5,
   "metadata": {
    "id": "YbemIbgA68O-"
   },
   "outputs": [],
   "source": [
    "Y = Y.reshape(-1,1)"
   ]
  },
  {
   "cell_type": "markdown",
   "metadata": {
    "id": "MHIv1iaT4O8A"
   },
   "source": [
    "#Dealing with invalid Data"
   ]
  },
  {
   "cell_type": "code",
   "execution_count": 6,
   "metadata": {
    "id": "E_y92J5-345v"
   },
   "outputs": [],
   "source": [
    "from sklearn.impute import SimpleImputer\n",
    "imputer = SimpleImputer(missing_values=np.nan,strategy='most_frequent')\n",
    "X = imputer.fit_transform(X)\n",
    "Y = imputer.fit_transform(Y)"
   ]
  },
  {
   "cell_type": "code",
   "execution_count": 7,
   "metadata": {
    "colab": {
     "base_uri": "https://localhost:8080/"
    },
    "id": "XPwVYJ2g5CG_",
    "outputId": "7c808a12-d6c1-4973-8c02-18f9bf9e85cd"
   },
   "outputs": [
    {
     "name": "stdout",
     "output_type": "stream",
     "text": [
      "[['Albury' 13.4 22.9 ... 16.9 21.8 'No']\n",
      " ['Albury' 7.4 25.1 ... 17.2 24.3 'No']\n",
      " ['Albury' 12.9 25.7 ... 21.0 23.2 'No']\n",
      " ...\n",
      " ['Uluru' 5.4 26.9 ... 12.5 26.1 'No']\n",
      " ['Uluru' 7.8 27.0 ... 15.1 26.0 'No']\n",
      " ['Uluru' 14.9 20.0 ... 15.0 20.9 'No']]\n"
     ]
    }
   ],
   "source": [
    "print(X)"
   ]
  },
  {
   "cell_type": "code",
   "execution_count": 8,
   "metadata": {
    "colab": {
     "base_uri": "https://localhost:8080/"
    },
    "id": "n5m3o-8x6ZWZ",
    "outputId": "5e27755e-7882-4f14-8df2-36503bfac35f"
   },
   "outputs": [
    {
     "name": "stdout",
     "output_type": "stream",
     "text": [
      "[['No']\n",
      " ['No']\n",
      " ['No']\n",
      " ...\n",
      " ['No']\n",
      " ['No']\n",
      " ['No']]\n"
     ]
    }
   ],
   "source": [
    "print(Y)"
   ]
  },
  {
   "cell_type": "markdown",
   "metadata": {
    "id": "r2_RFG2N6zXN"
   },
   "source": [
    "#Encoding Dataset"
   ]
  },
  {
   "cell_type": "code",
   "execution_count": 9,
   "metadata": {
    "id": "2N_ESqUX6wZC"
   },
   "outputs": [],
   "source": [
    "from sklearn.preprocessing import LabelEncoder\n",
    "le1 = LabelEncoder()\n",
    "X[:,0] = le1.fit_transform(X[:,0])\n",
    "le2 = LabelEncoder()\n",
    "X[:,4] = le2.fit_transform(X[:,4])\n",
    "le3 = LabelEncoder()\n",
    "X[:,6] = le3.fit_transform(X[:,6])\n",
    "le4 = LabelEncoder()\n",
    "X[:,7] = le4.fit_transform(X[:,7])\n",
    "le5 = LabelEncoder()\n",
    "X[:,-1] = le5.fit_transform(X[:,-1])\n",
    "le6 = LabelEncoder()\n",
    "Y[:,-1] = le6.fit_transform(Y[:,-1])"
   ]
  },
  {
   "cell_type": "code",
   "execution_count": 10,
   "metadata": {
    "colab": {
     "base_uri": "https://localhost:8080/"
    },
    "id": "Oj8Oj8iV8EIT",
    "outputId": "1fb5d1d1-3a41-4f46-b485-23728a4924d5"
   },
   "outputs": [
    {
     "name": "stdout",
     "output_type": "stream",
     "text": [
      "[[2 13.4 22.9 ... 16.9 21.8 0]\n",
      " [2 7.4 25.1 ... 17.2 24.3 0]\n",
      " [2 12.9 25.7 ... 21.0 23.2 0]\n",
      " ...\n",
      " [41 5.4 26.9 ... 12.5 26.1 0]\n",
      " [41 7.8 27.0 ... 15.1 26.0 0]\n",
      " [41 14.9 20.0 ... 15.0 20.9 0]]\n"
     ]
    }
   ],
   "source": [
    "print(X)"
   ]
  },
  {
   "cell_type": "code",
   "execution_count": 11,
   "metadata": {
    "colab": {
     "base_uri": "https://localhost:8080/"
    },
    "id": "Nxi3qYsa9nyg",
    "outputId": "a9960ad8-5c80-4df4-85c6-97fed5acb909"
   },
   "outputs": [
    {
     "name": "stdout",
     "output_type": "stream",
     "text": [
      "[[0]\n",
      " [0]\n",
      " [0]\n",
      " ...\n",
      " [0]\n",
      " [0]\n",
      " [0]]\n"
     ]
    }
   ],
   "source": [
    "print(Y)"
   ]
  },
  {
   "cell_type": "code",
   "execution_count": 12,
   "metadata": {
    "colab": {
     "base_uri": "https://localhost:8080/"
    },
    "id": "NUml4zNfEVcQ",
    "outputId": "ae265bb7-9e56-486f-fb55-29b489243b0b"
   },
   "outputs": [
    {
     "name": "stdout",
     "output_type": "stream",
     "text": [
      "[[0.]\n",
      " [0.]\n",
      " [0.]\n",
      " ...\n",
      " [0.]\n",
      " [0.]\n",
      " [0.]]\n"
     ]
    }
   ],
   "source": [
    "Y = np.array(Y,dtype=float)\n",
    "print(Y)"
   ]
  },
  {
   "cell_type": "markdown",
   "metadata": {
    "id": "A8ZyRLlk8_PZ"
   },
   "source": [
    "#Feature Scaling"
   ]
  },
  {
   "cell_type": "code",
   "execution_count": 13,
   "metadata": {
    "id": "2XXzjA8k8FMs"
   },
   "outputs": [],
   "source": [
    "from sklearn.preprocessing import StandardScaler\n",
    "sc = StandardScaler()\n",
    "X = sc.fit_transform(X)"
   ]
  },
  {
   "cell_type": "code",
   "execution_count": 14,
   "metadata": {
    "colab": {
     "base_uri": "https://localhost:8080/"
    },
    "id": "VHGXacqY-Jrg",
    "outputId": "d308bead-7472-412b-83e2-2c7edf6f4f6b"
   },
   "outputs": [
    {
     "name": "stdout",
     "output_type": "stream",
     "text": [
      "[[-1.53166617  0.19132753 -0.04135977 ... -0.01407077  0.02310362\n",
      "  -0.52979545]\n",
      " [-1.53166617 -0.75105231  0.26874452 ...  0.03244663  0.387799\n",
      "  -0.52979545]\n",
      " [-1.53166617  0.11279588  0.35331842 ...  0.62166712  0.22733303\n",
      "  -0.52979545]\n",
      " ...\n",
      " [ 1.20928479 -1.06517892  0.52246622 ... -0.69632607  0.65037966\n",
      "  -0.52979545]\n",
      " [ 1.20928479 -0.68822699  0.53656187 ... -0.29317521  0.63579185\n",
      "  -0.52979545]\n",
      " [ 1.20928479  0.42692249 -0.45013361 ... -0.30868102 -0.10818671\n",
      "  -0.52979545]]\n"
     ]
    }
   ],
   "source": [
    "print(X)"
   ]
  },
  {
   "cell_type": "markdown",
   "metadata": {
    "id": "aQDbMGGl-QST"
   },
   "source": [
    "#Splitting Dataset into Training set and Test set"
   ]
  },
  {
   "cell_type": "code",
   "execution_count": 15,
   "metadata": {
    "id": "xpVKkTfM-KsN"
   },
   "outputs": [],
   "source": [
    "from sklearn.model_selection import train_test_split\n",
    "X_train,X_test,Y_train,Y_test = train_test_split(X,Y,test_size=0.2,random_state=0)"
   ]
  },
  {
   "cell_type": "code",
   "execution_count": 16,
   "metadata": {
    "colab": {
     "base_uri": "https://localhost:8080/"
    },
    "id": "eA7K-Ygv_Z5b",
    "outputId": "b79f6299-e0f7-4c8c-c3fa-781129b30436"
   },
   "outputs": [
    {
     "name": "stdout",
     "output_type": "stream",
     "text": [
      "[[ 0.22535368  1.03946939  0.07140543 ...  0.68369032  0.08145488\n",
      "  -0.52979545]\n",
      " [ 1.42012717 -0.45263203  0.11369237 ... -0.41722163  0.22733303\n",
      "  -0.52979545]\n",
      " [ 0.50647685 -0.20133073 -0.14002932 ... -0.06058818 -0.02065982\n",
      "   1.88752093]\n",
      " ...\n",
      " [ 1.0687232   0.75675544  0.93124006 ...  1.10234698  1.07342629\n",
      "  -0.52979545]\n",
      " [ 0.57675765 -0.04426743 -0.16822062 ...  0.01694083 -0.28324049\n",
      "   1.88752093]\n",
      " [ 1.63096955 -0.0285611  -0.91529006 ... -0.35519842 -0.76463838\n",
      "  -0.52979545]]\n"
     ]
    }
   ],
   "source": [
    "print(X_train)"
   ]
  },
  {
   "cell_type": "code",
   "execution_count": 17,
   "metadata": {
    "colab": {
     "base_uri": "https://localhost:8080/"
    },
    "id": "d2lROgxR_Z-e",
    "outputId": "4e940073-07de-4645-ee06-2f3c83c08586"
   },
   "outputs": [
    {
     "name": "stdout",
     "output_type": "stream",
     "text": [
      "[[1.]\n",
      " [0.]\n",
      " [0.]\n",
      " ...\n",
      " [0.]\n",
      " [0.]\n",
      " [0.]]\n"
     ]
    }
   ],
   "source": [
    "print(Y_train)"
   ]
  },
  {
   "cell_type": "markdown",
   "metadata": {
    "id": "9wXaahXT-79-"
   },
   "source": [
    "#Training Model"
   ]
  },
  {
   "cell_type": "code",
   "execution_count": 18,
   "metadata": {
    "colab": {
     "base_uri": "https://localhost:8080/"
    },
    "id": "dgXgeZ43-uih",
    "outputId": "ef91c184-d7ae-4cb6-f975-b1fde06b17a8"
   },
   "outputs": [
    {
     "name": "stderr",
     "output_type": "stream",
     "text": [
      "<ipython-input-18-92250276c12a>:3: DataConversionWarning: A column-vector y was passed when a 1d array was expected. Please change the shape of y to (n_samples,), for example using ravel().\n",
      "  classifier_rf.fit(X_train,Y_train)\n"
     ]
    },
    {
     "data": {
      "text/plain": [
       "RandomForestClassifier(random_state=0)"
      ]
     },
     "execution_count": 18,
     "metadata": {},
     "output_type": "execute_result"
    }
   ],
   "source": [
    "from sklearn.ensemble import RandomForestClassifier\n",
    "classifier_rf = RandomForestClassifier(n_estimators=100,random_state=0)\n",
    "classifier_rf.fit(X_train,Y_train)"
   ]
  },
  {
   "cell_type": "code",
   "execution_count": 19,
   "metadata": {
    "colab": {
     "base_uri": "https://localhost:8080/"
    },
    "id": "cuEeou4R_UFC",
    "outputId": "2934aa4d-cbe4-45f9-c545-68d29b1a9b71"
   },
   "outputs": [
    {
     "data": {
      "text/plain": [
       "0.9999312525780283"
      ]
     },
     "execution_count": 19,
     "metadata": {},
     "output_type": "execute_result"
    }
   ],
   "source": [
    "classifier_rf.score(X_train,Y_train)"
   ]
  },
  {
   "cell_type": "code",
   "execution_count": 20,
   "metadata": {
    "colab": {
     "base_uri": "https://localhost:8080/"
    },
    "id": "54o6KevaEsvw",
    "outputId": "311cf167-f8f4-4248-ef74-59881e99f726"
   },
   "outputs": [
    {
     "name": "stderr",
     "output_type": "stream",
     "text": [
      "C:\\Users\\saive\\anaconda3\\lib\\site-packages\\sklearn\\utils\\validation.py:73: DataConversionWarning: A column-vector y was passed when a 1d array was expected. Please change the shape of y to (n_samples, ), for example using ravel().\n",
      "  return f(**kwargs)\n"
     ]
    }
   ],
   "source": [
    "y_pred_rf = le6.inverse_transform(np.array(classifier_rf.predict(X_test),dtype=int))\n",
    "Y_test_rf = le6.inverse_transform(np.array(Y_test,dtype=int))"
   ]
  },
  {
   "cell_type": "code",
   "execution_count": 21,
   "metadata": {
    "colab": {
     "base_uri": "https://localhost:8080/"
    },
    "id": "WxFvXuQzJr7T",
    "outputId": "37eb5f88-f821-40ac-fa87-e8fcfb2447e1"
   },
   "outputs": [
    {
     "name": "stdout",
     "output_type": "stream",
     "text": [
      "['No' 'No' 'No' ... 'No' 'No' 'No']\n"
     ]
    }
   ],
   "source": [
    "print(y_pred_rf)"
   ]
  },
  {
   "cell_type": "code",
   "execution_count": 22,
   "metadata": {
    "colab": {
     "base_uri": "https://localhost:8080/"
    },
    "id": "xt5Uti-IJsFk",
    "outputId": "dc8e71fa-fba1-4cf7-d8ab-8e3eb355aeab"
   },
   "outputs": [
    {
     "name": "stdout",
     "output_type": "stream",
     "text": [
      "['Yes' 'Yes' 'No' ... 'Yes' 'No' 'No']\n"
     ]
    }
   ],
   "source": [
    "print(Y_test_rf)"
   ]
  },
  {
   "cell_type": "code",
   "execution_count": 23,
   "metadata": {
    "id": "h6ZPXyGhFdtK"
   },
   "outputs": [],
   "source": [
    "y_pred_rf = y_pred_rf.reshape(-1,1)\n",
    "Y_test_rf = Y_test_rf.reshape(-1,1)"
   ]
  },
  {
   "cell_type": "code",
   "execution_count": 24,
   "metadata": {
    "id": "oQsshF72E3Le"
   },
   "outputs": [],
   "source": [
    "df = np.concatenate((Y_test_rf,y_pred_rf),axis=1)\n",
    "dataframe = pd.DataFrame(df,columns=['Rain on Tommorrow','Predition of Rain'])"
   ]
  },
  {
   "cell_type": "code",
   "execution_count": 25,
   "metadata": {
    "colab": {
     "base_uri": "https://localhost:8080/"
    },
    "id": "H_xbsXHSFVqu",
    "outputId": "4aa31cdc-a4cc-435e-83ba-7f58c682a505"
   },
   "outputs": [
    {
     "name": "stdout",
     "output_type": "stream",
     "text": [
      "      Rain on Tommorrow Predition of Rain\n",
      "0                   Yes                No\n",
      "1                   Yes                No\n",
      "2                    No                No\n",
      "3                    No               Yes\n",
      "4                    No                No\n",
      "...                 ...               ...\n",
      "29087                No               Yes\n",
      "29088                No                No\n",
      "29089               Yes                No\n",
      "29090                No                No\n",
      "29091                No                No\n",
      "\n",
      "[29092 rows x 2 columns]\n"
     ]
    }
   ],
   "source": [
    "print(dataframe)"
   ]
  },
  {
   "cell_type": "markdown",
   "metadata": {
    "id": "yd9wEmlNFyE1"
   },
   "source": [
    "#Calculating Accuracy"
   ]
  },
  {
   "cell_type": "code",
   "execution_count": 26,
   "metadata": {
    "colab": {
     "base_uri": "https://localhost:8080/"
    },
    "id": "8dpLQaQiFpPV",
    "outputId": "6b7aa976-cc3b-420f-eab9-4c9a62564bdd"
   },
   "outputs": [
    {
     "data": {
      "text/plain": [
       "0.8521930427608965"
      ]
     },
     "execution_count": 26,
     "metadata": {},
     "output_type": "execute_result"
    }
   ],
   "source": [
    "from sklearn.metrics import accuracy_score\n",
    "accuracy_score(Y_test_rf,y_pred_rf)"
   ]
  },
  {
   "cell_type": "code",
   "execution_count": null,
   "metadata": {},
   "outputs": [],
   "source": []
  },
  {
   "cell_type": "code",
   "execution_count": 27,
   "metadata": {},
   "outputs": [
    {
     "name": "stdout",
     "output_type": "stream",
     "text": [
      "[[21714  1012]\n",
      " [ 3288  3078]]\n"
     ]
    }
   ],
   "source": [
    "from sklearn.metrics import confusion_matrix,plot_confusion_matrix\n",
    "cm=confusion_matrix(Y_test_rf,y_pred_rf)\n",
    "print(cm)\n"
   ]
  },
  {
   "cell_type": "code",
   "execution_count": 28,
   "metadata": {},
   "outputs": [
    {
     "data": {
      "text/plain": [
       "Text(0, 0.5, 'True label')"
      ]
     },
     "execution_count": 28,
     "metadata": {},
     "output_type": "execute_result"
    },
    {
     "data": {
      "image/png": "[encoded data removed]",
      "text/plain": [
       "<Figure size 432x288 with 2 Axes>"
      ]
     },
     "metadata": {
      "needs_background": "light"
     },
     "output_type": "display_data"
    }
   ],
   "source": [
    "matrix=plot_confusion_matrix(classifier_rf,X_test,Y_test)\n",
    "matrix.ax_.set_title('Confusion Matrix',color='white')\n",
    "plt.xlabel('Predicted label',color='white')\n",
    "plt.ylabel('True label',color='white')"
   ]
  },
  {
   "cell_type": "code",
   "execution_count": 29,
   "metadata": {},
   "outputs": [
    {
     "data": {
      "text/plain": [
       "Text(0.5, 1.0, 'Normalized Confusion Matrix')"
      ]
     },
     "execution_count": 29,
     "metadata": {},
     "output_type": "execute_result"
    },
    {
     "data": {
      "image/png": "[encoded data removed]",
      "text/plain": [
       "<Figure size 432x288 with 2 Axes>"
      ]
     },
     "metadata": {
      "needs_background": "light"
     },
     "output_type": "display_data"
    }
   ],
   "source": [
    "import seaborn as sns\n",
    "cm_normalized=np.round(cm/np.sum(cm,axis=1).reshape(-1,1),2)\n",
    "sns.heatmap(cm_normalized,cmap='Greens',annot=True,xticklabels=[0,1],yticklabels=[0,1])\n",
    "plt.xlabel('Predicted label',color='white')\n",
    "plt.ylabel('Actual label',color='white')\n",
    "plt.title('Normalized Confusion Matrix',color='white')"
   ]
  },
  {
   "cell_type": "code",
   "execution_count": 30,
   "metadata": {},
   "outputs": [
    {
     "name": "stdout",
     "output_type": "stream",
     "text": [
      "              precision    recall  f1-score   support\n",
      "\n",
      "          No       0.87      0.96      0.91     22726\n",
      "         Yes       0.75      0.48      0.59      6366\n",
      "\n",
      "    accuracy                           0.85     29092\n",
      "   macro avg       0.81      0.72      0.75     29092\n",
      "weighted avg       0.84      0.85      0.84     29092\n",
      "\n"
     ]
    }
   ],
   "source": [
    "from sklearn.metrics import classification_report\n",
    "print(classification_report(Y_test_rf,y_pred_rf))"
   ]
  },
  {
   "cell_type": "code",
   "execution_count": 31,
   "metadata": {},
   "outputs": [
    {
     "name": "stderr",
     "output_type": "stream",
     "text": [
      "C:\\Users\\saive\\anaconda3\\lib\\site-packages\\sklearn\\utils\\validation.py:73: DataConversionWarning: A column-vector y was passed when a 1d array was expected. Please change the shape of y to (n_samples, ), for example using ravel().\n",
      "  return f(**kwargs)\n"
     ]
    },
    {
     "data": {
      "text/plain": [
       "LogisticRegression(random_state=0)"
      ]
     },
     "execution_count": 31,
     "metadata": {},
     "output_type": "execute_result"
    }
   ],
   "source": [
    "from sklearn.linear_model import LogisticRegression  \n",
    "classifier_lr = LogisticRegression(random_state=0)  \n",
    "classifier_lr.fit(X_train, Y_train)"
   ]
  },
  {
   "cell_type": "code",
   "execution_count": 32,
   "metadata": {},
   "outputs": [
    {
     "data": {
      "text/plain": [
       "0.8417778083321875"
      ]
     },
     "execution_count": 32,
     "metadata": {},
     "output_type": "execute_result"
    }
   ],
   "source": [
    "classifier_lr.score(X_train,Y_train)"
   ]
  },
  {
   "cell_type": "code",
   "execution_count": 33,
   "metadata": {},
   "outputs": [
    {
     "name": "stderr",
     "output_type": "stream",
     "text": [
      "C:\\Users\\saive\\anaconda3\\lib\\site-packages\\sklearn\\utils\\validation.py:73: DataConversionWarning: A column-vector y was passed when a 1d array was expected. Please change the shape of y to (n_samples, ), for example using ravel().\n",
      "  return f(**kwargs)\n"
     ]
    }
   ],
   "source": [
    "y_pred_lr = le6.inverse_transform(np.array(classifier_lr.predict(X_test),dtype=int))\n",
    "Y_test_lr = le6.inverse_transform(np.array(Y_test,dtype=int))"
   ]
  },
  {
   "cell_type": "code",
   "execution_count": 34,
   "metadata": {},
   "outputs": [
    {
     "name": "stdout",
     "output_type": "stream",
     "text": [
      "['No' 'No' 'No' ... 'Yes' 'No' 'No']\n"
     ]
    }
   ],
   "source": [
    "print(y_pred_lr)"
   ]
  },
  {
   "cell_type": "code",
   "execution_count": 35,
   "metadata": {},
   "outputs": [
    {
     "name": "stdout",
     "output_type": "stream",
     "text": [
      "['Yes' 'Yes' 'No' ... 'Yes' 'No' 'No']\n"
     ]
    }
   ],
   "source": [
    "print(Y_test_lr)"
   ]
  },
  {
   "cell_type": "code",
   "execution_count": 36,
   "metadata": {},
   "outputs": [],
   "source": [
    "y_pred_lr = y_pred_lr.reshape(-1,1)\n",
    "Y_test_lr = Y_test_lr.reshape(-1,1)"
   ]
  },
  {
   "cell_type": "code",
   "execution_count": 37,
   "metadata": {},
   "outputs": [],
   "source": [
    "df = np.concatenate((Y_test_lr,y_pred_lr),axis=1)\n",
    "dataframe = pd.DataFrame(df,columns=['Rain on Tommorrow','Predition of Rain'])"
   ]
  },
  {
   "cell_type": "code",
   "execution_count": 38,
   "metadata": {},
   "outputs": [
    {
     "name": "stdout",
     "output_type": "stream",
     "text": [
      "      Rain on Tommorrow Predition of Rain\n",
      "0                   Yes                No\n",
      "1                   Yes                No\n",
      "2                    No                No\n",
      "3                    No                No\n",
      "4                    No                No\n",
      "...                 ...               ...\n",
      "29087                No               Yes\n",
      "29088                No                No\n",
      "29089               Yes               Yes\n",
      "29090                No                No\n",
      "29091                No                No\n",
      "\n",
      "[29092 rows x 2 columns]\n"
     ]
    }
   ],
   "source": [
    "print(dataframe)"
   ]
  },
  {
   "cell_type": "code",
   "execution_count": 39,
   "metadata": {},
   "outputs": [
    {
     "data": {
      "text/plain": [
       "0.8428433933727485"
      ]
     },
     "execution_count": 39,
     "metadata": {},
     "output_type": "execute_result"
    }
   ],
   "source": [
    "from sklearn.metrics import accuracy_score\n",
    "accuracy_score(Y_test_lr,y_pred_lr)"
   ]
  },
  {
   "cell_type": "code",
   "execution_count": 40,
   "metadata": {},
   "outputs": [
    {
     "name": "stdout",
     "output_type": "stream",
     "text": [
      "[[21595  1131]\n",
      " [ 3441  2925]]\n"
     ]
    }
   ],
   "source": [
    "from sklearn.metrics import confusion_matrix,plot_confusion_matrix\n",
    "cm=confusion_matrix(Y_test_lr,y_pred_lr)\n",
    "print(cm)\n"
   ]
  },
  {
   "cell_type": "code",
   "execution_count": 41,
   "metadata": {},
   "outputs": [
    {
     "data": {
      "text/plain": [
       "Text(0, 0.5, 'True label')"
      ]
     },
     "execution_count": 41,
     "metadata": {},
     "output_type": "execute_result"
    },
    {
     "data": {
      "image/png": "[encoded data removed]",
      "text/plain": [
       "<Figure size 432x288 with 2 Axes>"
      ]
     },
     "metadata": {
      "needs_background": "light"
     },
     "output_type": "display_data"
    }
   ],
   "source": [
    "matrix=plot_confusion_matrix(classifier_lr,X_test,Y_test)\n",
    "matrix.ax_.set_title('Confusion Matrix',color='white')\n",
    "plt.xlabel('Predicted label',color='white')\n",
    "plt.ylabel('True label',color='white')"
   ]
  },
  {
   "cell_type": "code",
   "execution_count": 42,
   "metadata": {},
   "outputs": [
    {
     "data": {
      "text/plain": [
       "Text(0.5, 1.0, 'Normalized Confusion Matrix')"
      ]
     },
     "execution_count": 42,
     "metadata": {},
     "output_type": "execute_result"
    },
    {
     "data": {
      "image/png": "[encoded data removed]",
      "text/plain": [
       "<Figure size 432x288 with 2 Axes>"
      ]
     },
     "metadata": {
      "needs_background": "light"
     },
     "output_type": "display_data"
    }
   ],
   "source": [
    "import seaborn as sns\n",
    "cm_normalized=np.round(cm/np.sum(cm,axis=1).reshape(-1,1),2)\n",
    "sns.heatmap(cm_normalized,cmap='Greens',annot=True,xticklabels=[0,1],yticklabels=[0,1])\n",
    "plt.xlabel('Predicted label',color='white')\n",
    "plt.ylabel('Actual label',color='white')\n",
    "plt.title('Normalized Confusion Matrix',color='white')"
   ]
  },
  {
   "cell_type": "code",
   "execution_count": 43,
   "metadata": {},
   "outputs": [
    {
     "name": "stdout",
     "output_type": "stream",
     "text": [
      "              precision    recall  f1-score   support\n",
      "\n",
      "          No       0.86      0.95      0.90     22726\n",
      "         Yes       0.72      0.46      0.56      6366\n",
      "\n",
      "    accuracy                           0.84     29092\n",
      "   macro avg       0.79      0.70      0.73     29092\n",
      "weighted avg       0.83      0.84      0.83     29092\n",
      "\n"
     ]
    }
   ],
   "source": [
    "from sklearn.metrics import classification_report\n",
    "print(classification_report(Y_test_lr,y_pred_lr))"
   ]
  },
  {
   "cell_type": "code",
   "execution_count": 44,
   "metadata": {},
   "outputs": [
    {
     "data": {
      "text/plain": [
       "DecisionTreeClassifier(criterion='entropy', random_state=0)"
      ]
     },
     "execution_count": 44,
     "metadata": {},
     "output_type": "execute_result"
    }
   ],
   "source": [
    "from sklearn.tree import DecisionTreeClassifier  \n",
    "classifier_dt = DecisionTreeClassifier(criterion='entropy', random_state=0)  \n",
    "classifier_dt.fit(X_train, Y_train)  "
   ]
  },
  {
   "cell_type": "code",
   "execution_count": 45,
   "metadata": {},
   "outputs": [
    {
     "data": {
      "text/plain": [
       "0.9999398460057748"
      ]
     },
     "execution_count": 45,
     "metadata": {},
     "output_type": "execute_result"
    }
   ],
   "source": [
    "classifier_dt.score(X_train,Y_train)"
   ]
  },
  {
   "cell_type": "code",
   "execution_count": 46,
   "metadata": {},
   "outputs": [
    {
     "name": "stderr",
     "output_type": "stream",
     "text": [
      "C:\\Users\\saive\\anaconda3\\lib\\site-packages\\sklearn\\utils\\validation.py:73: DataConversionWarning: A column-vector y was passed when a 1d array was expected. Please change the shape of y to (n_samples, ), for example using ravel().\n",
      "  return f(**kwargs)\n"
     ]
    }
   ],
   "source": [
    "y_pred_dt = le6.inverse_transform(np.array(classifier_dt.predict(X_test),dtype=int))\n",
    "Y_test_dt = le6.inverse_transform(np.array(Y_test,dtype=int))"
   ]
  },
  {
   "cell_type": "code",
   "execution_count": 47,
   "metadata": {},
   "outputs": [
    {
     "name": "stdout",
     "output_type": "stream",
     "text": [
      "['No' 'Yes' 'No' ... 'Yes' 'Yes' 'No']\n"
     ]
    }
   ],
   "source": [
    "print(y_pred_dt)"
   ]
  },
  {
   "cell_type": "code",
   "execution_count": 48,
   "metadata": {},
   "outputs": [
    {
     "name": "stdout",
     "output_type": "stream",
     "text": [
      "['Yes' 'Yes' 'No' ... 'Yes' 'No' 'No']\n"
     ]
    }
   ],
   "source": [
    "print(Y_test_dt)"
   ]
  },
  {
   "cell_type": "code",
   "execution_count": 49,
   "metadata": {},
   "outputs": [],
   "source": [
    "y_pred_dt = y_pred_dt.reshape(-1,1)\n",
    "Y_test_dt = Y_test_dt.reshape(-1,1)"
   ]
  },
  {
   "cell_type": "code",
   "execution_count": 50,
   "metadata": {},
   "outputs": [],
   "source": [
    "df = np.concatenate((Y_test_dt,y_pred_dt),axis=1)\n",
    "dataframe = pd.DataFrame(df,columns=['Rain on Tommorrow','Predition of Rain'])"
   ]
  },
  {
   "cell_type": "code",
   "execution_count": 51,
   "metadata": {},
   "outputs": [
    {
     "name": "stdout",
     "output_type": "stream",
     "text": [
      "      Rain on Tommorrow Predition of Rain\n",
      "0                   Yes                No\n",
      "1                   Yes               Yes\n",
      "2                    No                No\n",
      "3                    No               Yes\n",
      "4                    No                No\n",
      "...                 ...               ...\n",
      "29087                No                No\n",
      "29088                No                No\n",
      "29089               Yes               Yes\n",
      "29090                No               Yes\n",
      "29091                No                No\n",
      "\n",
      "[29092 rows x 2 columns]\n"
     ]
    }
   ],
   "source": [
    "print(dataframe)"
   ]
  },
  {
   "cell_type": "code",
   "execution_count": 52,
   "metadata": {},
   "outputs": [
    {
     "data": {
      "text/plain": [
       "0.7883266877492094"
      ]
     },
     "execution_count": 52,
     "metadata": {},
     "output_type": "execute_result"
    }
   ],
   "source": [
    "from sklearn.metrics import accuracy_score\n",
    "accuracy_score(Y_test_dt,y_pred_dt)"
   ]
  },
  {
   "cell_type": "code",
   "execution_count": 53,
   "metadata": {
    "scrolled": true
   },
   "outputs": [
    {
     "name": "stdout",
     "output_type": "stream",
     "text": [
      "[[19621  3105]\n",
      " [ 3053  3313]]\n"
     ]
    }
   ],
   "source": [
    "from sklearn.metrics import confusion_matrix,plot_confusion_matrix\n",
    "cm=confusion_matrix(Y_test_dt,y_pred_dt)\n",
    "print(cm)"
   ]
  },
  {
   "cell_type": "code",
   "execution_count": 54,
   "metadata": {},
   "outputs": [
    {
     "data": {
      "text/plain": [
       "Text(0, 0.5, 'True label')"
      ]
     },
     "execution_count": 54,
     "metadata": {},
     "output_type": "execute_result"
    },
    {
     "data": {
      "image/png": "[encoded data removed]",
      "text/plain": [
       "<Figure size 432x288 with 2 Axes>"
      ]
     },
     "metadata": {
      "needs_background": "light"
     },
     "output_type": "display_data"
    }
   ],
   "source": [
    "matrix=plot_confusion_matrix(classifier_dt,X_test,Y_test)\n",
    "matrix.ax_.set_title('Confusion Matrix',color='white')\n",
    "plt.xlabel('Predicted label',color='white')\n",
    "plt.ylabel('True label',color='white')"
   ]
  },
  {
   "cell_type": "code",
   "execution_count": 55,
   "metadata": {},
   "outputs": [
    {
     "data": {
      "text/plain": [
       "Text(0.5, 1.0, 'Normalized Confusion Matrix')"
      ]
     },
     "execution_count": 55,
     "metadata": {},
     "output_type": "execute_result"
    },
    {
     "data": {
      "image/png": "[encoded data removed]",
      "text/plain": [
       "<Figure size 432x288 with 2 Axes>"
      ]
     },
     "metadata": {
      "needs_background": "light"
     },
     "output_type": "display_data"
    }
   ],
   "source": [
    "import seaborn as sns\n",
    "cm_normalized=np.round(cm/np.sum(cm,axis=1).reshape(-1,1),2)\n",
    "sns.heatmap(cm_normalized,cmap='Greens',annot=True,xticklabels=[0,1],yticklabels=[0,1])\n",
    "plt.xlabel('Predicted label',color='white')\n",
    "plt.ylabel('Actual label',color='white')\n",
    "plt.title('Normalized Confusion Matrix',color='white')"
   ]
  },
  {
   "cell_type": "code",
   "execution_count": 56,
   "metadata": {},
   "outputs": [
    {
     "name": "stdout",
     "output_type": "stream",
     "text": [
      "              precision    recall  f1-score   support\n",
      "\n",
      "          No       0.87      0.86      0.86     22726\n",
      "         Yes       0.52      0.52      0.52      6366\n",
      "\n",
      "    accuracy                           0.79     29092\n",
      "   macro avg       0.69      0.69      0.69     29092\n",
      "weighted avg       0.79      0.79      0.79     29092\n",
      "\n"
     ]
    }
   ],
   "source": [
    "from sklearn.metrics import classification_report\n",
    "print(classification_report(Y_test_dt,y_pred_dt))"
   ]
  },
  {
   "cell_type": "code",
   "execution_count": 57,
   "metadata": {},
   "outputs": [
    {
     "name": "stdout",
     "output_type": "stream",
     "text": [
      "Requirement already satisfied: lightgbm in c:\\users\\saive\\anaconda3\\lib\\site-packages (3.3.2)\n",
      "Requirement already satisfied: scipy in c:\\users\\saive\\anaconda3\\lib\\site-packages (from lightgbm) (1.5.0)\n",
      "Requirement already satisfied: wheel in c:\\users\\saive\\anaconda3\\lib\\site-packages (from lightgbm) (0.34.2)\n",
      "Requirement already satisfied: scikit-learn!=0.22.0 in c:\\users\\saive\\anaconda3\\lib\\site-packages (from lightgbm) (0.23.1)\n",
      "Requirement already satisfied: numpy in c:\\users\\saive\\anaconda3\\lib\\site-packages (from lightgbm) (1.18.5)\n",
      "Requirement already satisfied: threadpoolctl>=2.0.0 in c:\\users\\saive\\anaconda3\\lib\\site-packages (from scikit-learn!=0.22.0->lightgbm) (2.1.0)\n",
      "Requirement already satisfied: joblib>=0.11 in c:\\users\\saive\\anaconda3\\lib\\site-packages (from scikit-learn!=0.22.0->lightgbm) (0.16.0)\n"
     ]
    }
   ],
   "source": [
    "!pip install lightgbm"
   ]
  },
  {
   "cell_type": "code",
   "execution_count": 58,
   "metadata": {},
   "outputs": [
    {
     "name": "stderr",
     "output_type": "stream",
     "text": [
      "C:\\Users\\saive\\anaconda3\\lib\\site-packages\\sklearn\\utils\\validation.py:73: DataConversionWarning: A column-vector y was passed when a 1d array was expected. Please change the shape of y to (n_samples, ), for example using ravel().\n",
      "  return f(**kwargs)\n"
     ]
    },
    {
     "data": {
      "text/plain": [
       "LGBMClassifier(random_state=0)"
      ]
     },
     "execution_count": 58,
     "metadata": {},
     "output_type": "execute_result"
    }
   ],
   "source": [
    "from lightgbm import LGBMClassifier\n",
    "classifier_lgbm = LGBMClassifier(random_state = 0)\n",
    "classifier_lgbm.fit(X_train, Y_train)"
   ]
  },
  {
   "cell_type": "code",
   "execution_count": 59,
   "metadata": {},
   "outputs": [
    {
     "data": {
      "text/plain": [
       "0.8643527430221367"
      ]
     },
     "execution_count": 59,
     "metadata": {},
     "output_type": "execute_result"
    }
   ],
   "source": [
    "classifier_lgbm.score(X_train,Y_train)"
   ]
  },
  {
   "cell_type": "code",
   "execution_count": 60,
   "metadata": {},
   "outputs": [
    {
     "name": "stderr",
     "output_type": "stream",
     "text": [
      "C:\\Users\\saive\\anaconda3\\lib\\site-packages\\sklearn\\utils\\validation.py:73: DataConversionWarning: A column-vector y was passed when a 1d array was expected. Please change the shape of y to (n_samples, ), for example using ravel().\n",
      "  return f(**kwargs)\n"
     ]
    }
   ],
   "source": [
    "y_pred_lgbm = le6.inverse_transform(np.array(classifier_lgbm.predict(X_test),dtype=int))\n",
    "Y_test_lgbm = le6.inverse_transform(np.array(Y_test,dtype=int))"
   ]
  },
  {
   "cell_type": "code",
   "execution_count": 61,
   "metadata": {},
   "outputs": [
    {
     "name": "stdout",
     "output_type": "stream",
     "text": [
      "['No' 'No' 'No' ... 'No' 'No' 'No']\n"
     ]
    }
   ],
   "source": [
    "print(y_pred_lgbm)"
   ]
  },
  {
   "cell_type": "code",
   "execution_count": 62,
   "metadata": {},
   "outputs": [
    {
     "name": "stdout",
     "output_type": "stream",
     "text": [
      "['Yes' 'Yes' 'No' ... 'Yes' 'No' 'No']\n"
     ]
    }
   ],
   "source": [
    "print(Y_test_lgbm)"
   ]
  },
  {
   "cell_type": "code",
   "execution_count": 63,
   "metadata": {},
   "outputs": [],
   "source": [
    "y_pred_lgbm = y_pred_lgbm.reshape(-1,1)\n",
    "Y_test_lgbm = Y_test_lgbm.reshape(-1,1)"
   ]
  },
  {
   "cell_type": "code",
   "execution_count": 64,
   "metadata": {},
   "outputs": [],
   "source": [
    "df = np.concatenate((Y_test_lgbm,y_pred_lgbm),axis=1)\n",
    "dataframe = pd.DataFrame(df,columns=['Rain on Tommorrow','Predition of Rain'])"
   ]
  },
  {
   "cell_type": "code",
   "execution_count": 65,
   "metadata": {},
   "outputs": [
    {
     "name": "stdout",
     "output_type": "stream",
     "text": [
      "      Rain on Tommorrow Predition of Rain\n",
      "0                   Yes                No\n",
      "1                   Yes                No\n",
      "2                    No                No\n",
      "3                    No                No\n",
      "4                    No                No\n",
      "...                 ...               ...\n",
      "29087                No               Yes\n",
      "29088                No                No\n",
      "29089               Yes                No\n",
      "29090                No                No\n",
      "29091                No                No\n",
      "\n",
      "[29092 rows x 2 columns]\n"
     ]
    }
   ],
   "source": [
    "print(dataframe)"
   ]
  },
  {
   "cell_type": "code",
   "execution_count": 66,
   "metadata": {},
   "outputs": [
    {
     "data": {
      "text/plain": [
       "0.8562147669462395"
      ]
     },
     "execution_count": 66,
     "metadata": {},
     "output_type": "execute_result"
    }
   ],
   "source": [
    "from sklearn.metrics import accuracy_score\n",
    "accuracy_score(Y_test_lgbm,y_pred_lgbm)"
   ]
  },
  {
   "cell_type": "code",
   "execution_count": 67,
   "metadata": {},
   "outputs": [
    {
     "name": "stdout",
     "output_type": "stream",
     "text": [
      "[[21620  1106]\n",
      " [ 3077  3289]]\n"
     ]
    }
   ],
   "source": [
    "from sklearn.metrics import confusion_matrix,plot_confusion_matrix\n",
    "cm=confusion_matrix(Y_test_lgbm,y_pred_lgbm)\n",
    "print(cm)"
   ]
  },
  {
   "cell_type": "code",
   "execution_count": 68,
   "metadata": {},
   "outputs": [
    {
     "data": {
      "text/plain": [
       "Text(0, 0.5, 'True label')"
      ]
     },
     "execution_count": 68,
     "metadata": {},
     "output_type": "execute_result"
    },
    {
     "data": {
      "image/png": "[encoded data removed]",
      "text/plain": [
       "<Figure size 432x288 with 2 Axes>"
      ]
     },
     "metadata": {
      "needs_background": "light"
     },
     "output_type": "display_data"
    }
   ],
   "source": [
    "matrix=plot_confusion_matrix(classifier_lgbm,X_test,Y_test)\n",
    "matrix.ax_.set_title('Confusion Matrix',color='white')\n",
    "plt.xlabel('Predicted label',color='white')\n",
    "plt.ylabel('True label',color='white')"
   ]
  },
  {
   "cell_type": "code",
   "execution_count": 69,
   "metadata": {},
   "outputs": [
    {
     "data": {
      "text/plain": [
       "Text(0.5, 1.0, 'Normalized Confusion Matrix')"
      ]
     },
     "execution_count": 69,
     "metadata": {},
     "output_type": "execute_result"
    },
    {
     "data": {
      "image/png": "[encoded data removed]",
      "text/plain": [
       "<Figure size 432x288 with 2 Axes>"
      ]
     },
     "metadata": {
      "needs_background": "light"
     },
     "output_type": "display_data"
    }
   ],
   "source": [
    "import seaborn as sns\n",
    "cm_normalized=np.round(cm/np.sum(cm,axis=1).reshape(-1,1),2)\n",
    "sns.heatmap(cm_normalized,cmap='Greens',annot=True,xticklabels=[0,1],yticklabels=[0,1])\n",
    "plt.xlabel('Predicted label',color='white')\n",
    "plt.ylabel('Actual label',color='white')\n",
    "plt.title('Normalized Confusion Matrix',color='white')"
   ]
  },
  {
   "cell_type": "code",
   "execution_count": 70,
   "metadata": {},
   "outputs": [
    {
     "name": "stdout",
     "output_type": "stream",
     "text": [
      "              precision    recall  f1-score   support\n",
      "\n",
      "          No       0.88      0.95      0.91     22726\n",
      "         Yes       0.75      0.52      0.61      6366\n",
      "\n",
      "    accuracy                           0.86     29092\n",
      "   macro avg       0.81      0.73      0.76     29092\n",
      "weighted avg       0.85      0.86      0.85     29092\n",
      "\n"
     ]
    }
   ],
   "source": [
    "from sklearn.metrics import classification_report\n",
    "print(classification_report(Y_test_lgbm,y_pred_lgbm))"
   ]
  },
  {
   "cell_type": "code",
   "execution_count": 71,
   "metadata": {},
   "outputs": [
    {
     "name": "stderr",
     "output_type": "stream",
     "text": [
      "C:\\Users\\saive\\anaconda3\\lib\\site-packages\\sklearn\\utils\\validation.py:73: DataConversionWarning: A column-vector y was passed when a 1d array was expected. Please change the shape of y to (n_samples, ), for example using ravel().\n",
      "  return f(**kwargs)\n"
     ]
    },
    {
     "data": {
      "text/plain": [
       "GaussianNB()"
      ]
     },
     "execution_count": 71,
     "metadata": {},
     "output_type": "execute_result"
    }
   ],
   "source": [
    "from sklearn.naive_bayes import GaussianNB\n",
    "classifier_nb = GaussianNB()\n",
    "classifier_nb.fit(X_train, Y_train)"
   ]
  },
  {
   "cell_type": "code",
   "execution_count": 72,
   "metadata": {},
   "outputs": [
    {
     "data": {
      "text/plain": [
       "0.8022308538429809"
      ]
     },
     "execution_count": 72,
     "metadata": {},
     "output_type": "execute_result"
    }
   ],
   "source": [
    "classifier_nb.score(X_train,Y_train)"
   ]
  },
  {
   "cell_type": "code",
   "execution_count": 73,
   "metadata": {},
   "outputs": [
    {
     "name": "stderr",
     "output_type": "stream",
     "text": [
      "C:\\Users\\saive\\anaconda3\\lib\\site-packages\\sklearn\\utils\\validation.py:73: DataConversionWarning: A column-vector y was passed when a 1d array was expected. Please change the shape of y to (n_samples, ), for example using ravel().\n",
      "  return f(**kwargs)\n"
     ]
    }
   ],
   "source": [
    "y_pred_nb = le6.inverse_transform(np.array(classifier_nb.predict(X_test),dtype=int))\n",
    "Y_test_nb = le6.inverse_transform(np.array(Y_test,dtype=int))"
   ]
  },
  {
   "cell_type": "code",
   "execution_count": 74,
   "metadata": {},
   "outputs": [
    {
     "name": "stdout",
     "output_type": "stream",
     "text": [
      "['No' 'No' 'No' ... 'Yes' 'No' 'No']\n"
     ]
    }
   ],
   "source": [
    "print(y_pred_nb)"
   ]
  },
  {
   "cell_type": "code",
   "execution_count": 75,
   "metadata": {},
   "outputs": [
    {
     "name": "stdout",
     "output_type": "stream",
     "text": [
      "['Yes' 'Yes' 'No' ... 'Yes' 'No' 'No']\n"
     ]
    }
   ],
   "source": [
    "print(Y_test_nb)"
   ]
  },
  {
   "cell_type": "code",
   "execution_count": 76,
   "metadata": {},
   "outputs": [],
   "source": [
    "y_pred_nb = y_pred_nb.reshape(-1,1)\n",
    "Y_test_nb = Y_test_nb.reshape(-1,1)"
   ]
  },
  {
   "cell_type": "code",
   "execution_count": 77,
   "metadata": {},
   "outputs": [],
   "source": [
    "df = np.concatenate((Y_test_nb,y_pred_nb),axis=1)\n",
    "dataframe = pd.DataFrame(df,columns=['Rain on Tommorrow','Predition of Rain'])"
   ]
  },
  {
   "cell_type": "code",
   "execution_count": 78,
   "metadata": {},
   "outputs": [
    {
     "name": "stdout",
     "output_type": "stream",
     "text": [
      "      Rain on Tommorrow Predition of Rain\n",
      "0                   Yes                No\n",
      "1                   Yes                No\n",
      "2                    No                No\n",
      "3                    No                No\n",
      "4                    No                No\n",
      "...                 ...               ...\n",
      "29087                No               Yes\n",
      "29088                No                No\n",
      "29089               Yes               Yes\n",
      "29090                No                No\n",
      "29091                No                No\n",
      "\n",
      "[29092 rows x 2 columns]\n"
     ]
    }
   ],
   "source": [
    "print(dataframe)"
   ]
  },
  {
   "cell_type": "code",
   "execution_count": 79,
   "metadata": {},
   "outputs": [
    {
     "data": {
      "text/plain": [
       "0.8031417571841056"
      ]
     },
     "execution_count": 79,
     "metadata": {},
     "output_type": "execute_result"
    }
   ],
   "source": [
    "from sklearn.metrics import accuracy_score\n",
    "accuracy_score(Y_test_nb,y_pred_nb)"
   ]
  },
  {
   "cell_type": "code",
   "execution_count": 80,
   "metadata": {},
   "outputs": [
    {
     "name": "stdout",
     "output_type": "stream",
     "text": [
      "[[19744  2982]\n",
      " [ 2745  3621]]\n"
     ]
    }
   ],
   "source": [
    "from sklearn.metrics import confusion_matrix,plot_confusion_matrix\n",
    "cm=confusion_matrix(Y_test_nb,y_pred_nb)\n",
    "print(cm)"
   ]
  },
  {
   "cell_type": "code",
   "execution_count": 81,
   "metadata": {},
   "outputs": [
    {
     "data": {
      "text/plain": [
       "Text(0, 0.5, 'True label')"
      ]
     },
     "execution_count": 81,
     "metadata": {},
     "output_type": "execute_result"
    },
    {
     "data": {
      "image/png": "[encoded data removed]",
      "text/plain": [
       "<Figure size 432x288 with 2 Axes>"
      ]
     },
     "metadata": {
      "needs_background": "light"
     },
     "output_type": "display_data"
    }
   ],
   "source": [
    "matrix=plot_confusion_matrix(classifier_nb,X_test,Y_test)\n",
    "matrix.ax_.set_title('Confusion Matrix',color='white')\n",
    "plt.xlabel('Predicted label',color='white')\n",
    "plt.ylabel('True label',color='white')"
   ]
  },
  {
   "cell_type": "code",
   "execution_count": 82,
   "metadata": {},
   "outputs": [
    {
     "data": {
      "text/plain": [
       "Text(0.5, 1.0, 'Normalized Confusion Matrix')"
      ]
     },
     "execution_count": 82,
     "metadata": {},
     "output_type": "execute_result"
    },
    {
     "data": {
      "image/png": "[encoded data removed]",
      "text/plain": [
       "<Figure size 432x288 with 2 Axes>"
      ]
     },
     "metadata": {
      "needs_background": "light"
     },
     "output_type": "display_data"
    }
   ],
   "source": [
    "import seaborn as sns\n",
    "cm_normalized=np.round(cm/np.sum(cm,axis=1).reshape(-1,1),2)\n",
    "sns.heatmap(cm_normalized,cmap='Greens',annot=True,xticklabels=[0,1],yticklabels=[0,1])\n",
    "plt.xlabel('Predicted label',color='white')\n",
    "plt.ylabel('Actual label',color='white')\n",
    "plt.title('Normalized Confusion Matrix',color='white')"
   ]
  },
  {
   "cell_type": "code",
   "execution_count": 83,
   "metadata": {},
   "outputs": [
    {
     "name": "stdout",
     "output_type": "stream",
     "text": [
      "              precision    recall  f1-score   support\n",
      "\n",
      "          No       0.88      0.87      0.87     22726\n",
      "         Yes       0.55      0.57      0.56      6366\n",
      "\n",
      "    accuracy                           0.80     29092\n",
      "   macro avg       0.71      0.72      0.72     29092\n",
      "weighted avg       0.81      0.80      0.80     29092\n",
      "\n"
     ]
    }
   ],
   "source": [
    "from sklearn.metrics import classification_report\n",
    "print(classification_report(Y_test_nb,y_pred_nb))"
   ]
  },
  {
   "cell_type": "code",
   "execution_count": null,
   "metadata": {},
   "outputs": [],
   "source": []
  }
 ],
 "metadata": {
  "colab": {
   "name": "Untitled4.ipynb",
   "provenance": []
  },
  "kernelspec": {
   "display_name": "Python 3",
   "language": "python",
   "name": "python3"
  },
  "language_info": {
   "codemirror_mode": {
    "name": "ipython",
    "version": 3
   },
   "file_extension": ".py",
   "mimetype": "text/x-python",
   "name": "python",
   "nbconvert_exporter": "python",
   "pygments_lexer": "ipython3",
   "version": "3.8.3"
  }
 },
 "nbformat": 4,
 "nbformat_minor": 1
}
