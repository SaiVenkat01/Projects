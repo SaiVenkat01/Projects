{
  "cells": [
    {
      "cell_type": "markdown",
      "source": [],
      "metadata": {
        "id": "hk4SC5ecQ3F8"
      }
    },
    {
      "cell_type": "markdown",
      "metadata": {
        "id": "8eSpOZfI0Dcu"
      },
      "source": [
        "#Importing libraries"
      ]
    },
    {
      "cell_type": "code",
      "execution_count": 3,
      "metadata": {
        "id": "yGWJ9lhdz-eP"
      },
      "outputs": [],
      "source": [
        "import numpy as np\n",
        "import pandas as pd\n",
        "import matplotlib.pyplot as plt\n",
        "import seaborn as sns"
      ]
    },
    {
      "cell_type": "markdown",
      "metadata": {
        "id": "hUDysljI18u0"
      },
      "source": [
        "#Importing Dataset"
      ]
    },
    {
      "cell_type": "code",
      "execution_count": 4,
      "metadata": {
        "id": "KsIMacGj17iT"
      },
      "outputs": [],
      "source": [
        "dataset = pd.read_csv('weatherAUS.csv')"
      ]
    },
    {
      "cell_type": "code",
      "source": [
        "dataset.head()"
      ],
      "metadata": {
        "colab": {
          "base_uri": "https://localhost:8080/",
          "height": 386
        },
        "id": "dF-E04-WQaDg",
        "outputId": "ddc335a6-2946-4930-9f48-46617a73a868"
      },
      "execution_count": 5,
      "outputs": [
        {
          "output_type": "execute_result",
          "data": {
            "text/plain": [
              "         Date Location  MinTemp  MaxTemp  Rainfall  Evaporation  Sunshine  \\\n",
              "0  2008-12-01   Albury     13.4     22.9       0.6          NaN       NaN   \n",
              "1  2008-12-02   Albury      7.4     25.1       0.0          NaN       NaN   \n",
              "2  2008-12-03   Albury     12.9     25.7       0.0          NaN       NaN   \n",
              "3  2008-12-04   Albury      9.2     28.0       0.0          NaN       NaN   \n",
              "4  2008-12-05   Albury     17.5     32.3       1.0          NaN       NaN   \n",
              "\n",
              "  WindGustDir  WindGustSpeed WindDir9am  ... Humidity9am  Humidity3pm  \\\n",
              "0           W           44.0          W  ...        71.0         22.0   \n",
              "1         WNW           44.0        NNW  ...        44.0         25.0   \n",
              "2         WSW           46.0          W  ...        38.0         30.0   \n",
              "3          NE           24.0         SE  ...        45.0         16.0   \n",
              "4           W           41.0        ENE  ...        82.0         33.0   \n",
              "\n",
              "   Pressure9am  Pressure3pm  Cloud9am  Cloud3pm  Temp9am  Temp3pm  RainToday  \\\n",
              "0       1007.7       1007.1       8.0       NaN     16.9     21.8         No   \n",
              "1       1010.6       1007.8       NaN       NaN     17.2     24.3         No   \n",
              "2       1007.6       1008.7       NaN       2.0     21.0     23.2         No   \n",
              "3       1017.6       1012.8       NaN       NaN     18.1     26.5         No   \n",
              "4       1010.8       1006.0       7.0       8.0     17.8     29.7         No   \n",
              "\n",
              "   RainTomorrow  \n",
              "0            No  \n",
              "1            No  \n",
              "2            No  \n",
              "3            No  \n",
              "4            No  \n",
              "\n",
              "[5 rows x 23 columns]"
            ],
            "text/html": [
              "\n",
              "  <div id=\"df-f019690e-352b-4111-8964-d3348c95b97c\">\n",
              "    <div class=\"colab-df-container\">\n",
              "      <div>\n",
              "<style scoped>\n",
              "    .dataframe tbody tr th:only-of-type {\n",
              "        vertical-align: middle;\n",
              "    }\n",
              "\n",
              "    .dataframe tbody tr th {\n",
              "        vertical-align: top;\n",
              "    }\n",
              "\n",
              "    .dataframe thead th {\n",
              "        text-align: right;\n",
              "    }\n",
              "</style>\n",
              "<table border=\"1\" class=\"dataframe\">\n",
              "  <thead>\n",
              "    <tr style=\"text-align: right;\">\n",
              "      <th></th>\n",
              "      <th>Date</th>\n",
              "      <th>Location</th>\n",
              "      <th>MinTemp</th>\n",
              "      <th>MaxTemp</th>\n",
              "      <th>Rainfall</th>\n",
              "      <th>Evaporation</th>\n",
              "      <th>Sunshine</th>\n",
              "      <th>WindGustDir</th>\n",
              "      <th>WindGustSpeed</th>\n",
              "      <th>WindDir9am</th>\n",
              "      <th>...</th>\n",
              "      <th>Humidity9am</th>\n",
              "      <th>Humidity3pm</th>\n",
              "      <th>Pressure9am</th>\n",
              "      <th>Pressure3pm</th>\n",
              "      <th>Cloud9am</th>\n",
              "      <th>Cloud3pm</th>\n",
              "      <th>Temp9am</th>\n",
              "      <th>Temp3pm</th>\n",
              "      <th>RainToday</th>\n",
              "      <th>RainTomorrow</th>\n",
              "    </tr>\n",
              "  </thead>\n",
              "  <tbody>\n",
              "    <tr>\n",
              "      <th>0</th>\n",
              "      <td>2008-12-01</td>\n",
              "      <td>Albury</td>\n",
              "      <td>13.4</td>\n",
              "      <td>22.9</td>\n",
              "      <td>0.6</td>\n",
              "      <td>NaN</td>\n",
              "      <td>NaN</td>\n",
              "      <td>W</td>\n",
              "      <td>44.0</td>\n",
              "      <td>W</td>\n",
              "      <td>...</td>\n",
              "      <td>71.0</td>\n",
              "      <td>22.0</td>\n",
              "      <td>1007.7</td>\n",
              "      <td>1007.1</td>\n",
              "      <td>8.0</td>\n",
              "      <td>NaN</td>\n",
              "      <td>16.9</td>\n",
              "      <td>21.8</td>\n",
              "      <td>No</td>\n",
              "      <td>No</td>\n",
              "    </tr>\n",
              "    <tr>\n",
              "      <th>1</th>\n",
              "      <td>2008-12-02</td>\n",
              "      <td>Albury</td>\n",
              "      <td>7.4</td>\n",
              "      <td>25.1</td>\n",
              "      <td>0.0</td>\n",
              "      <td>NaN</td>\n",
              "      <td>NaN</td>\n",
              "      <td>WNW</td>\n",
              "      <td>44.0</td>\n",
              "      <td>NNW</td>\n",
              "      <td>...</td>\n",
              "      <td>44.0</td>\n",
              "      <td>25.0</td>\n",
              "      <td>1010.6</td>\n",
              "      <td>1007.8</td>\n",
              "      <td>NaN</td>\n",
              "      <td>NaN</td>\n",
              "      <td>17.2</td>\n",
              "      <td>24.3</td>\n",
              "      <td>No</td>\n",
              "      <td>No</td>\n",
              "    </tr>\n",
              "    <tr>\n",
              "      <th>2</th>\n",
              "      <td>2008-12-03</td>\n",
              "      <td>Albury</td>\n",
              "      <td>12.9</td>\n",
              "      <td>25.7</td>\n",
              "      <td>0.0</td>\n",
              "      <td>NaN</td>\n",
              "      <td>NaN</td>\n",
              "      <td>WSW</td>\n",
              "      <td>46.0</td>\n",
              "      <td>W</td>\n",
              "      <td>...</td>\n",
              "      <td>38.0</td>\n",
              "      <td>30.0</td>\n",
              "      <td>1007.6</td>\n",
              "      <td>1008.7</td>\n",
              "      <td>NaN</td>\n",
              "      <td>2.0</td>\n",
              "      <td>21.0</td>\n",
              "      <td>23.2</td>\n",
              "      <td>No</td>\n",
              "      <td>No</td>\n",
              "    </tr>\n",
              "    <tr>\n",
              "      <th>3</th>\n",
              "      <td>2008-12-04</td>\n",
              "      <td>Albury</td>\n",
              "      <td>9.2</td>\n",
              "      <td>28.0</td>\n",
              "      <td>0.0</td>\n",
              "      <td>NaN</td>\n",
              "      <td>NaN</td>\n",
              "      <td>NE</td>\n",
              "      <td>24.0</td>\n",
              "      <td>SE</td>\n",
              "      <td>...</td>\n",
              "      <td>45.0</td>\n",
              "      <td>16.0</td>\n",
              "      <td>1017.6</td>\n",
              "      <td>1012.8</td>\n",
              "      <td>NaN</td>\n",
              "      <td>NaN</td>\n",
              "      <td>18.1</td>\n",
              "      <td>26.5</td>\n",
              "      <td>No</td>\n",
              "      <td>No</td>\n",
              "    </tr>\n",
              "    <tr>\n",
              "      <th>4</th>\n",
              "      <td>2008-12-05</td>\n",
              "      <td>Albury</td>\n",
              "      <td>17.5</td>\n",
              "      <td>32.3</td>\n",
              "      <td>1.0</td>\n",
              "      <td>NaN</td>\n",
              "      <td>NaN</td>\n",
              "      <td>W</td>\n",
              "      <td>41.0</td>\n",
              "      <td>ENE</td>\n",
              "      <td>...</td>\n",
              "      <td>82.0</td>\n",
              "      <td>33.0</td>\n",
              "      <td>1010.8</td>\n",
              "      <td>1006.0</td>\n",
              "      <td>7.0</td>\n",
              "      <td>8.0</td>\n",
              "      <td>17.8</td>\n",
              "      <td>29.7</td>\n",
              "      <td>No</td>\n",
              "      <td>No</td>\n",
              "    </tr>\n",
              "  </tbody>\n",
              "</table>\n",
              "<p>5 rows × 23 columns</p>\n",
              "</div>\n",
              "      <button class=\"colab-df-convert\" onclick=\"convertToInteractive('df-f019690e-352b-4111-8964-d3348c95b97c')\"\n",
              "              title=\"Convert this dataframe to an interactive table.\"\n",
              "              style=\"display:none;\">\n",
              "        \n",
              "  <svg xmlns=\"http://www.w3.org/2000/svg\" height=\"24px\"viewBox=\"0 0 24 24\"\n",
              "       width=\"24px\">\n",
              "    <path d=\"M0 0h24v24H0V0z\" fill=\"none\"/>\n",
              "    <path d=\"M18.56 5.44l.94 2.06.94-2.06 2.06-.94-2.06-.94-.94-2.06-.94 2.06-2.06.94zm-11 1L8.5 8.5l.94-2.06 2.06-.94-2.06-.94L8.5 2.5l-.94 2.06-2.06.94zm10 10l.94 2.06.94-2.06 2.06-.94-2.06-.94-.94-2.06-.94 2.06-2.06.94z\"/><path d=\"M17.41 7.96l-1.37-1.37c-.4-.4-.92-.59-1.43-.59-.52 0-1.04.2-1.43.59L10.3 9.45l-7.72 7.72c-.78.78-.78 2.05 0 2.83L4 21.41c.39.39.9.59 1.41.59.51 0 1.02-.2 1.41-.59l7.78-7.78 2.81-2.81c.8-.78.8-2.07 0-2.86zM5.41 20L4 18.59l7.72-7.72 1.47 1.35L5.41 20z\"/>\n",
              "  </svg>\n",
              "      </button>\n",
              "      \n",
              "  <style>\n",
              "    .colab-df-container {\n",
              "      display:flex;\n",
              "      flex-wrap:wrap;\n",
              "      gap: 12px;\n",
              "    }\n",
              "\n",
              "    .colab-df-convert {\n",
              "      background-color: #E8F0FE;\n",
              "      border: none;\n",
              "      border-radius: 50%;\n",
              "      cursor: pointer;\n",
              "      display: none;\n",
              "      fill: #1967D2;\n",
              "      height: 32px;\n",
              "      padding: 0 0 0 0;\n",
              "      width: 32px;\n",
              "    }\n",
              "\n",
              "    .colab-df-convert:hover {\n",
              "      background-color: #E2EBFA;\n",
              "      box-shadow: 0px 1px 2px rgba(60, 64, 67, 0.3), 0px 1px 3px 1px rgba(60, 64, 67, 0.15);\n",
              "      fill: #174EA6;\n",
              "    }\n",
              "\n",
              "    [theme=dark] .colab-df-convert {\n",
              "      background-color: #3B4455;\n",
              "      fill: #D2E3FC;\n",
              "    }\n",
              "\n",
              "    [theme=dark] .colab-df-convert:hover {\n",
              "      background-color: #434B5C;\n",
              "      box-shadow: 0px 1px 3px 1px rgba(0, 0, 0, 0.15);\n",
              "      filter: drop-shadow(0px 1px 2px rgba(0, 0, 0, 0.3));\n",
              "      fill: #FFFFFF;\n",
              "    }\n",
              "  </style>\n",
              "\n",
              "      <script>\n",
              "        const buttonEl =\n",
              "          document.querySelector('#df-f019690e-352b-4111-8964-d3348c95b97c button.colab-df-convert');\n",
              "        buttonEl.style.display =\n",
              "          google.colab.kernel.accessAllowed ? 'block' : 'none';\n",
              "\n",
              "        async function convertToInteractive(key) {\n",
              "          const element = document.querySelector('#df-f019690e-352b-4111-8964-d3348c95b97c');\n",
              "          const dataTable =\n",
              "            await google.colab.kernel.invokeFunction('convertToInteractive',\n",
              "                                                     [key], {});\n",
              "          if (!dataTable) return;\n",
              "\n",
              "          const docLinkHtml = 'Like what you see? Visit the ' +\n",
              "            '<a target=\"_blank\" href=https://colab.research.google.com/notebooks/data_table.ipynb>data table notebook</a>'\n",
              "            + ' to learn more about interactive tables.';\n",
              "          element.innerHTML = '';\n",
              "          dataTable['output_type'] = 'display_data';\n",
              "          await google.colab.output.renderOutput(dataTable, element);\n",
              "          const docLink = document.createElement('div');\n",
              "          docLink.innerHTML = docLinkHtml;\n",
              "          element.appendChild(docLink);\n",
              "        }\n",
              "      </script>\n",
              "    </div>\n",
              "  </div>\n",
              "  "
            ]
          },
          "metadata": {},
          "execution_count": 5
        }
      ]
    },
    {
      "cell_type": "code",
      "source": [
        "#Describe Method says the statistics of our data like Maxvalue,Mean,Count..etc for every column\n",
        "dataset.describe() "
      ],
      "metadata": {
        "colab": {
          "base_uri": "https://localhost:8080/",
          "height": 364
        },
        "id": "H8aY7T2mQm48",
        "outputId": "5971d584-fcbe-4313-834b-e77e899894b7"
      },
      "execution_count": 6,
      "outputs": [
        {
          "output_type": "execute_result",
          "data": {
            "text/plain": [
              "            MinTemp       MaxTemp      Rainfall  Evaporation     Sunshine  \\\n",
              "count  10757.000000  10766.000000  10676.000000  4357.000000  2005.000000   \n",
              "mean      11.749642     24.091975      2.356641     5.628896     7.718404   \n",
              "std        6.246996      6.976632      9.592674     4.741609     3.773698   \n",
              "min       -3.000000      6.800000      0.000000     0.000000     0.000000   \n",
              "25%        6.700000     18.700000      0.000000     2.600000     5.100000   \n",
              "50%       11.700000     23.600000      0.000000     4.400000     8.900000   \n",
              "75%       16.800000     28.900000      0.400000     7.400000    10.600000   \n",
              "max       29.700000     46.600000    371.000000    86.200000    13.800000   \n",
              "\n",
              "       WindGustSpeed  WindSpeed9am  WindSpeed3pm   Humidity9am   Humidity3pm  \\\n",
              "count   10624.000000  10730.000000  10734.000000  10616.000000  10610.000000   \n",
              "mean       35.244447     11.158155     15.601453     68.585625     47.294722   \n",
              "std        12.585695      7.531044      7.760213     20.172628     21.003623   \n",
              "min         7.000000      0.000000      0.000000      5.000000      1.000000   \n",
              "25%        26.000000      6.000000      9.000000     55.000000     32.000000   \n",
              "50%        33.000000      9.000000     15.000000     70.000000     46.000000   \n",
              "75%        43.000000     17.000000     20.000000     84.000000     61.000000   \n",
              "max       107.000000     48.000000     56.000000    100.000000    100.000000   \n",
              "\n",
              "        Pressure9am   Pressure3pm     Cloud9am     Cloud3pm       Temp9am  \\\n",
              "count  10599.000000  10595.000000  5655.000000  5857.000000  10750.000000   \n",
              "mean    1018.214596   1015.565106     4.202653     4.335496     16.928670   \n",
              "std        6.811869      6.698703     3.078956     2.852108      6.113098   \n",
              "min      989.800000    982.900000     0.000000     0.000000      0.300000   \n",
              "25%     1013.500000   1010.900000     1.000000     1.000000     12.300000   \n",
              "50%     1018.200000   1015.500000     5.000000     5.000000     17.200000   \n",
              "75%     1022.800000   1020.100000     7.000000     7.000000     21.300000   \n",
              "max     1039.900000   1036.800000     8.000000     8.000000     37.700000   \n",
              "\n",
              "            Temp3pm  \n",
              "count  10747.000000  \n",
              "mean      22.683186  \n",
              "std        6.757823  \n",
              "min        6.400000  \n",
              "25%       17.500000  \n",
              "50%       22.100000  \n",
              "75%       27.200000  \n",
              "max       45.200000  "
            ],
            "text/html": [
              "\n",
              "  <div id=\"df-3429a57c-2384-4d24-aa6e-5162119ed53a\">\n",
              "    <div class=\"colab-df-container\">\n",
              "      <div>\n",
              "<style scoped>\n",
              "    .dataframe tbody tr th:only-of-type {\n",
              "        vertical-align: middle;\n",
              "    }\n",
              "\n",
              "    .dataframe tbody tr th {\n",
              "        vertical-align: top;\n",
              "    }\n",
              "\n",
              "    .dataframe thead th {\n",
              "        text-align: right;\n",
              "    }\n",
              "</style>\n",
              "<table border=\"1\" class=\"dataframe\">\n",
              "  <thead>\n",
              "    <tr style=\"text-align: right;\">\n",
              "      <th></th>\n",
              "      <th>MinTemp</th>\n",
              "      <th>MaxTemp</th>\n",
              "      <th>Rainfall</th>\n",
              "      <th>Evaporation</th>\n",
              "      <th>Sunshine</th>\n",
              "      <th>WindGustSpeed</th>\n",
              "      <th>WindSpeed9am</th>\n",
              "      <th>WindSpeed3pm</th>\n",
              "      <th>Humidity9am</th>\n",
              "      <th>Humidity3pm</th>\n",
              "      <th>Pressure9am</th>\n",
              "      <th>Pressure3pm</th>\n",
              "      <th>Cloud9am</th>\n",
              "      <th>Cloud3pm</th>\n",
              "      <th>Temp9am</th>\n",
              "      <th>Temp3pm</th>\n",
              "    </tr>\n",
              "  </thead>\n",
              "  <tbody>\n",
              "    <tr>\n",
              "      <th>count</th>\n",
              "      <td>10757.000000</td>\n",
              "      <td>10766.000000</td>\n",
              "      <td>10676.000000</td>\n",
              "      <td>4357.000000</td>\n",
              "      <td>2005.000000</td>\n",
              "      <td>10624.000000</td>\n",
              "      <td>10730.000000</td>\n",
              "      <td>10734.000000</td>\n",
              "      <td>10616.000000</td>\n",
              "      <td>10610.000000</td>\n",
              "      <td>10599.000000</td>\n",
              "      <td>10595.000000</td>\n",
              "      <td>5655.000000</td>\n",
              "      <td>5857.000000</td>\n",
              "      <td>10750.000000</td>\n",
              "      <td>10747.000000</td>\n",
              "    </tr>\n",
              "    <tr>\n",
              "      <th>mean</th>\n",
              "      <td>11.749642</td>\n",
              "      <td>24.091975</td>\n",
              "      <td>2.356641</td>\n",
              "      <td>5.628896</td>\n",
              "      <td>7.718404</td>\n",
              "      <td>35.244447</td>\n",
              "      <td>11.158155</td>\n",
              "      <td>15.601453</td>\n",
              "      <td>68.585625</td>\n",
              "      <td>47.294722</td>\n",
              "      <td>1018.214596</td>\n",
              "      <td>1015.565106</td>\n",
              "      <td>4.202653</td>\n",
              "      <td>4.335496</td>\n",
              "      <td>16.928670</td>\n",
              "      <td>22.683186</td>\n",
              "    </tr>\n",
              "    <tr>\n",
              "      <th>std</th>\n",
              "      <td>6.246996</td>\n",
              "      <td>6.976632</td>\n",
              "      <td>9.592674</td>\n",
              "      <td>4.741609</td>\n",
              "      <td>3.773698</td>\n",
              "      <td>12.585695</td>\n",
              "      <td>7.531044</td>\n",
              "      <td>7.760213</td>\n",
              "      <td>20.172628</td>\n",
              "      <td>21.003623</td>\n",
              "      <td>6.811869</td>\n",
              "      <td>6.698703</td>\n",
              "      <td>3.078956</td>\n",
              "      <td>2.852108</td>\n",
              "      <td>6.113098</td>\n",
              "      <td>6.757823</td>\n",
              "    </tr>\n",
              "    <tr>\n",
              "      <th>min</th>\n",
              "      <td>-3.000000</td>\n",
              "      <td>6.800000</td>\n",
              "      <td>0.000000</td>\n",
              "      <td>0.000000</td>\n",
              "      <td>0.000000</td>\n",
              "      <td>7.000000</td>\n",
              "      <td>0.000000</td>\n",
              "      <td>0.000000</td>\n",
              "      <td>5.000000</td>\n",
              "      <td>1.000000</td>\n",
              "      <td>989.800000</td>\n",
              "      <td>982.900000</td>\n",
              "      <td>0.000000</td>\n",
              "      <td>0.000000</td>\n",
              "      <td>0.300000</td>\n",
              "      <td>6.400000</td>\n",
              "    </tr>\n",
              "    <tr>\n",
              "      <th>25%</th>\n",
              "      <td>6.700000</td>\n",
              "      <td>18.700000</td>\n",
              "      <td>0.000000</td>\n",
              "      <td>2.600000</td>\n",
              "      <td>5.100000</td>\n",
              "      <td>26.000000</td>\n",
              "      <td>6.000000</td>\n",
              "      <td>9.000000</td>\n",
              "      <td>55.000000</td>\n",
              "      <td>32.000000</td>\n",
              "      <td>1013.500000</td>\n",
              "      <td>1010.900000</td>\n",
              "      <td>1.000000</td>\n",
              "      <td>1.000000</td>\n",
              "      <td>12.300000</td>\n",
              "      <td>17.500000</td>\n",
              "    </tr>\n",
              "    <tr>\n",
              "      <th>50%</th>\n",
              "      <td>11.700000</td>\n",
              "      <td>23.600000</td>\n",
              "      <td>0.000000</td>\n",
              "      <td>4.400000</td>\n",
              "      <td>8.900000</td>\n",
              "      <td>33.000000</td>\n",
              "      <td>9.000000</td>\n",
              "      <td>15.000000</td>\n",
              "      <td>70.000000</td>\n",
              "      <td>46.000000</td>\n",
              "      <td>1018.200000</td>\n",
              "      <td>1015.500000</td>\n",
              "      <td>5.000000</td>\n",
              "      <td>5.000000</td>\n",
              "      <td>17.200000</td>\n",
              "      <td>22.100000</td>\n",
              "    </tr>\n",
              "    <tr>\n",
              "      <th>75%</th>\n",
              "      <td>16.800000</td>\n",
              "      <td>28.900000</td>\n",
              "      <td>0.400000</td>\n",
              "      <td>7.400000</td>\n",
              "      <td>10.600000</td>\n",
              "      <td>43.000000</td>\n",
              "      <td>17.000000</td>\n",
              "      <td>20.000000</td>\n",
              "      <td>84.000000</td>\n",
              "      <td>61.000000</td>\n",
              "      <td>1022.800000</td>\n",
              "      <td>1020.100000</td>\n",
              "      <td>7.000000</td>\n",
              "      <td>7.000000</td>\n",
              "      <td>21.300000</td>\n",
              "      <td>27.200000</td>\n",
              "    </tr>\n",
              "    <tr>\n",
              "      <th>max</th>\n",
              "      <td>29.700000</td>\n",
              "      <td>46.600000</td>\n",
              "      <td>371.000000</td>\n",
              "      <td>86.200000</td>\n",
              "      <td>13.800000</td>\n",
              "      <td>107.000000</td>\n",
              "      <td>48.000000</td>\n",
              "      <td>56.000000</td>\n",
              "      <td>100.000000</td>\n",
              "      <td>100.000000</td>\n",
              "      <td>1039.900000</td>\n",
              "      <td>1036.800000</td>\n",
              "      <td>8.000000</td>\n",
              "      <td>8.000000</td>\n",
              "      <td>37.700000</td>\n",
              "      <td>45.200000</td>\n",
              "    </tr>\n",
              "  </tbody>\n",
              "</table>\n",
              "</div>\n",
              "      <button class=\"colab-df-convert\" onclick=\"convertToInteractive('df-3429a57c-2384-4d24-aa6e-5162119ed53a')\"\n",
              "              title=\"Convert this dataframe to an interactive table.\"\n",
              "              style=\"display:none;\">\n",
              "        \n",
              "  <svg xmlns=\"http://www.w3.org/2000/svg\" height=\"24px\"viewBox=\"0 0 24 24\"\n",
              "       width=\"24px\">\n",
              "    <path d=\"M0 0h24v24H0V0z\" fill=\"none\"/>\n",
              "    <path d=\"M18.56 5.44l.94 2.06.94-2.06 2.06-.94-2.06-.94-.94-2.06-.94 2.06-2.06.94zm-11 1L8.5 8.5l.94-2.06 2.06-.94-2.06-.94L8.5 2.5l-.94 2.06-2.06.94zm10 10l.94 2.06.94-2.06 2.06-.94-2.06-.94-.94-2.06-.94 2.06-2.06.94z\"/><path d=\"M17.41 7.96l-1.37-1.37c-.4-.4-.92-.59-1.43-.59-.52 0-1.04.2-1.43.59L10.3 9.45l-7.72 7.72c-.78.78-.78 2.05 0 2.83L4 21.41c.39.39.9.59 1.41.59.51 0 1.02-.2 1.41-.59l7.78-7.78 2.81-2.81c.8-.78.8-2.07 0-2.86zM5.41 20L4 18.59l7.72-7.72 1.47 1.35L5.41 20z\"/>\n",
              "  </svg>\n",
              "      </button>\n",
              "      \n",
              "  <style>\n",
              "    .colab-df-container {\n",
              "      display:flex;\n",
              "      flex-wrap:wrap;\n",
              "      gap: 12px;\n",
              "    }\n",
              "\n",
              "    .colab-df-convert {\n",
              "      background-color: #E8F0FE;\n",
              "      border: none;\n",
              "      border-radius: 50%;\n",
              "      cursor: pointer;\n",
              "      display: none;\n",
              "      fill: #1967D2;\n",
              "      height: 32px;\n",
              "      padding: 0 0 0 0;\n",
              "      width: 32px;\n",
              "    }\n",
              "\n",
              "    .colab-df-convert:hover {\n",
              "      background-color: #E2EBFA;\n",
              "      box-shadow: 0px 1px 2px rgba(60, 64, 67, 0.3), 0px 1px 3px 1px rgba(60, 64, 67, 0.15);\n",
              "      fill: #174EA6;\n",
              "    }\n",
              "\n",
              "    [theme=dark] .colab-df-convert {\n",
              "      background-color: #3B4455;\n",
              "      fill: #D2E3FC;\n",
              "    }\n",
              "\n",
              "    [theme=dark] .colab-df-convert:hover {\n",
              "      background-color: #434B5C;\n",
              "      box-shadow: 0px 1px 3px 1px rgba(0, 0, 0, 0.15);\n",
              "      filter: drop-shadow(0px 1px 2px rgba(0, 0, 0, 0.3));\n",
              "      fill: #FFFFFF;\n",
              "    }\n",
              "  </style>\n",
              "\n",
              "      <script>\n",
              "        const buttonEl =\n",
              "          document.querySelector('#df-3429a57c-2384-4d24-aa6e-5162119ed53a button.colab-df-convert');\n",
              "        buttonEl.style.display =\n",
              "          google.colab.kernel.accessAllowed ? 'block' : 'none';\n",
              "\n",
              "        async function convertToInteractive(key) {\n",
              "          const element = document.querySelector('#df-3429a57c-2384-4d24-aa6e-5162119ed53a');\n",
              "          const dataTable =\n",
              "            await google.colab.kernel.invokeFunction('convertToInteractive',\n",
              "                                                     [key], {});\n",
              "          if (!dataTable) return;\n",
              "\n",
              "          const docLinkHtml = 'Like what you see? Visit the ' +\n",
              "            '<a target=\"_blank\" href=https://colab.research.google.com/notebooks/data_table.ipynb>data table notebook</a>'\n",
              "            + ' to learn more about interactive tables.';\n",
              "          element.innerHTML = '';\n",
              "          dataTable['output_type'] = 'display_data';\n",
              "          await google.colab.output.renderOutput(dataTable, element);\n",
              "          const docLink = document.createElement('div');\n",
              "          docLink.innerHTML = docLinkHtml;\n",
              "          element.appendChild(docLink);\n",
              "        }\n",
              "      </script>\n",
              "    </div>\n",
              "  </div>\n",
              "  "
            ]
          },
          "metadata": {},
          "execution_count": 6
        }
      ]
    },
    {
      "cell_type": "code",
      "source": [
        "#count all the null values in the data\n",
        "dataset.isna().sum()"
      ],
      "metadata": {
        "colab": {
          "base_uri": "https://localhost:8080/"
        },
        "id": "UsZD3ZwmQwRM",
        "outputId": "1a1e98db-e0fa-419c-a826-50635db2401e"
      },
      "execution_count": 7,
      "outputs": [
        {
          "output_type": "execute_result",
          "data": {
            "text/plain": [
              "Date                0\n",
              "Location            0\n",
              "MinTemp            54\n",
              "MaxTemp            45\n",
              "Rainfall          135\n",
              "Evaporation      6454\n",
              "Sunshine         8806\n",
              "WindGustDir       187\n",
              "WindGustSpeed     187\n",
              "WindDir9am       1025\n",
              "WindDir3pm        154\n",
              "WindSpeed9am       81\n",
              "WindSpeed3pm       77\n",
              "Humidity9am       195\n",
              "Humidity3pm       201\n",
              "Pressure9am       212\n",
              "Pressure3pm       216\n",
              "Cloud9am         5156\n",
              "Cloud3pm         4954\n",
              "Temp9am            61\n",
              "Temp3pm            64\n",
              "RainToday         136\n",
              "RainTomorrow      136\n",
              "dtype: int64"
            ]
          },
          "metadata": {},
          "execution_count": 7
        }
      ]
    },
    {
      "cell_type": "code",
      "source": [
        "#it is clear that evaporation and sunshine have more missing values so better remove them "
      ],
      "metadata": {
        "id": "1PJ252nVQ6Xg"
      },
      "execution_count": 8,
      "outputs": []
    },
    {
      "cell_type": "code",
      "metadata": {
        "id": "Rc3HsLy-RJut",
        "colab": {
          "base_uri": "https://localhost:8080/",
          "height": 774
        },
        "outputId": "0f5c9bb0-0257-43c6-85ba-9e64e31dcbf8"
      },
      "source": [
        "fig = plt.gcf()\n",
        "fig.set_size_inches((15, 12));\n",
        "\n",
        "dataset['RainToday'].replace({'No': 0, 'Yes': 1}, inplace  = True)\n",
        "dataset['RainTomorrow'].replace({'No': 0, 'Yes': 1}, inplace = True)\n",
        "\n",
        "sns.heatmap(dataset.corr(), annot = True, cmap = sns.color_palette(\"coolwarm\", as_cmap = True));"
      ],
      "execution_count": 9,
      "outputs": [
        {
          "output_type": "display_data",
          "data": {
            "text/plain": [
              "<Figure size 1080x864 with 2 Axes>"
            ],
            "image/png": "[encoded data removed]"
          },
          "metadata": {
            "needs_background": "light"
          }
        }
      ]
    },
    {
      "cell_type": "markdown",
      "source": [
        "## **cleaning and preprocessing**"
      ],
      "metadata": {
        "id": "tKfVbilcSFFz"
      }
    },
    {
      "cell_type": "markdown",
      "source": [
        "## Feature Selection"
      ],
      "metadata": {
        "id": "DqcamAOVSnjz"
      }
    },
    {
      "cell_type": "markdown",
      "source": [
        "**bold text**"
      ],
      "metadata": {
        "id": "mHKmcVNUSBA0"
      }
    },
    {
      "cell_type": "code",
      "source": [
        "X = dataset.iloc[:,[1,2,3,4,7,8,9,10,11,12,13,14,15,16,19,20,21]].values\n",
        "Y = dataset.iloc[:,-1].values"
      ],
      "metadata": {
        "id": "C3-F1KblS4Tl"
      },
      "execution_count": 10,
      "outputs": []
    },
    {
      "cell_type": "code",
      "execution_count": 11,
      "metadata": {
        "id": "lmk-Nsft31Jr",
        "colab": {
          "base_uri": "https://localhost:8080/"
        },
        "outputId": "ef2ef16f-403a-43bf-b883-e849f90d0b94"
      },
      "outputs": [
        {
          "output_type": "stream",
          "name": "stdout",
          "text": [
            "[['Albury' 13.4 22.9 ... 16.9 21.8 0.0]\n",
            " ['Albury' 7.4 25.1 ... 17.2 24.3 0.0]\n",
            " ['Albury' 12.9 25.7 ... 21.0 23.2 0.0]\n",
            " ...\n",
            " ['CoffsHarbour' 18.3 27.1 ... 24.8 25.9 0.0]\n",
            " ['CoffsHarbour' 17.8 28.1 ... 24.6 26.7 0.0]\n",
            " ['CoffsHarbour' 19.2 28.0 ... nan nan nan]]\n"
          ]
        }
      ],
      "source": [
        "print(X)"
      ]
    },
    {
      "cell_type": "code",
      "execution_count": 12,
      "metadata": {
        "id": "6WaCq0E033ej",
        "colab": {
          "base_uri": "https://localhost:8080/"
        },
        "outputId": "49795845-7c9b-42d2-95e0-9e162dc7f176"
      },
      "outputs": [
        {
          "output_type": "stream",
          "name": "stdout",
          "text": [
            "[ 0.  0.  0. ...  0.  0. nan]\n"
          ]
        }
      ],
      "source": [
        "print(Y)"
      ]
    },
    {
      "cell_type": "code",
      "execution_count": 13,
      "metadata": {
        "id": "YbemIbgA68O-"
      },
      "outputs": [],
      "source": [
        "Y = Y.reshape(-1,1)\n"
      ]
    },
    {
      "cell_type": "markdown",
      "metadata": {
        "id": "MHIv1iaT4O8A"
      },
      "source": [
        "#Dealing with invalid Data"
      ]
    },
    {
      "cell_type": "code",
      "execution_count": 14,
      "metadata": {
        "id": "E_y92J5-345v"
      },
      "outputs": [],
      "source": [
        "from sklearn.impute import SimpleImputer\n",
        "imputer = SimpleImputer(missing_values=np.nan,strategy='most_frequent')\n",
        "X = imputer.fit_transform(X)\n",
        "Y = imputer.fit_transform(Y)"
      ]
    },
    {
      "cell_type": "code",
      "execution_count": 15,
      "metadata": {
        "id": "XPwVYJ2g5CG_",
        "colab": {
          "base_uri": "https://localhost:8080/"
        },
        "outputId": "2611410b-e313-45f6-c3c0-13ec194cb760"
      },
      "outputs": [
        {
          "output_type": "stream",
          "name": "stdout",
          "text": [
            "[['Albury' 13.4 22.9 ... 16.9 21.8 0.0]\n",
            " ['Albury' 7.4 25.1 ... 17.2 24.3 0.0]\n",
            " ['Albury' 12.9 25.7 ... 21.0 23.2 0.0]\n",
            " ...\n",
            " ['CoffsHarbour' 18.3 27.1 ... 24.8 25.9 0.0]\n",
            " ['CoffsHarbour' 17.8 28.1 ... 24.6 26.7 0.0]\n",
            " ['CoffsHarbour' 19.2 28.0 ... 20.6 18.4 0.0]]\n"
          ]
        }
      ],
      "source": [
        "print(X)"
      ]
    },
    {
      "cell_type": "code",
      "execution_count": 16,
      "metadata": {
        "id": "n5m3o-8x6ZWZ",
        "colab": {
          "base_uri": "https://localhost:8080/"
        },
        "outputId": "41f0cad2-cd09-419e-954e-9dfbf224790b"
      },
      "outputs": [
        {
          "output_type": "stream",
          "name": "stdout",
          "text": [
            "[[0.]\n",
            " [0.]\n",
            " [0.]\n",
            " ...\n",
            " [0.]\n",
            " [0.]\n",
            " [0.]]\n"
          ]
        }
      ],
      "source": [
        "print(Y)"
      ]
    },
    {
      "cell_type": "markdown",
      "metadata": {
        "id": "r2_RFG2N6zXN"
      },
      "source": [
        "#Encoding Dataset"
      ]
    },
    {
      "cell_type": "code",
      "execution_count": 17,
      "metadata": {
        "id": "2N_ESqUX6wZC"
      },
      "outputs": [],
      "source": [
        "from sklearn.preprocessing import LabelEncoder\n",
        "le1 = LabelEncoder()\n",
        "X[:,0] = le1.fit_transform(X[:,0])\n",
        "le2 = LabelEncoder()\n",
        "X[:,4] = le2.fit_transform(X[:,4])\n",
        "le3 = LabelEncoder()\n",
        "X[:,6] = le3.fit_transform(X[:,6])\n",
        "le4 = LabelEncoder()\n",
        "X[:,7] = le4.fit_transform(X[:,7])\n",
        "le5 = LabelEncoder()\n",
        "X[:,-1] = le5.fit_transform(X[:,-1])\n",
        "le6 = LabelEncoder()\n",
        "Y[:,-1] = le6.fit_transform(Y[:,-1])"
      ]
    },
    {
      "cell_type": "code",
      "execution_count": 18,
      "metadata": {
        "id": "Oj8Oj8iV8EIT",
        "colab": {
          "base_uri": "https://localhost:8080/"
        },
        "outputId": "187db0ea-6561-45ba-823a-518602e3578e"
      },
      "outputs": [
        {
          "output_type": "stream",
          "name": "stdout",
          "text": [
            "[[0 13.4 22.9 ... 16.9 21.8 0]\n",
            " [0 7.4 25.1 ... 17.2 24.3 0]\n",
            " [0 12.9 25.7 ... 21.0 23.2 0]\n",
            " ...\n",
            " [3 18.3 27.1 ... 24.8 25.9 0]\n",
            " [3 17.8 28.1 ... 24.6 26.7 0]\n",
            " [3 19.2 28.0 ... 20.6 18.4 0]]\n"
          ]
        }
      ],
      "source": [
        "print(X)"
      ]
    },
    {
      "cell_type": "code",
      "execution_count": 19,
      "metadata": {
        "id": "Nxi3qYsa9nyg",
        "colab": {
          "base_uri": "https://localhost:8080/"
        },
        "outputId": "106d5d78-28c6-44f1-b0ad-801e5daf23c0"
      },
      "outputs": [
        {
          "output_type": "stream",
          "name": "stdout",
          "text": [
            "[[0.]\n",
            " [0.]\n",
            " [0.]\n",
            " ...\n",
            " [0.]\n",
            " [0.]\n",
            " [0.]]\n"
          ]
        }
      ],
      "source": [
        "print(Y)"
      ]
    },
    {
      "cell_type": "code",
      "execution_count": 20,
      "metadata": {
        "id": "NUml4zNfEVcQ",
        "colab": {
          "base_uri": "https://localhost:8080/"
        },
        "outputId": "4f5d3808-e96a-4268-c5a8-ee178e741234"
      },
      "outputs": [
        {
          "output_type": "stream",
          "name": "stdout",
          "text": [
            "[[0.]\n",
            " [0.]\n",
            " [0.]\n",
            " ...\n",
            " [0.]\n",
            " [0.]\n",
            " [0.]]\n"
          ]
        }
      ],
      "source": [
        "Y = np.array(Y,dtype=float)\n",
        "print(Y)"
      ]
    },
    {
      "cell_type": "markdown",
      "metadata": {
        "id": "A8ZyRLlk8_PZ"
      },
      "source": [
        "#Feature Scaling"
      ]
    },
    {
      "cell_type": "code",
      "execution_count": 21,
      "metadata": {
        "id": "2XXzjA8k8FMs"
      },
      "outputs": [],
      "source": [
        "from sklearn.preprocessing import StandardScaler\n",
        "sc = StandardScaler()\n",
        "X = sc.fit_transform(X)"
      ]
    },
    {
      "cell_type": "code",
      "execution_count": 22,
      "metadata": {
        "id": "VHGXacqY-Jrg",
        "colab": {
          "base_uri": "https://localhost:8080/"
        },
        "outputId": "6619d72e-dba9-44f3-a34a-374698f10919"
      },
      "outputs": [
        {
          "output_type": "stream",
          "name": "stdout",
          "text": [
            "[[-1.25719422  0.26620921 -0.16798647 ... -0.00809357 -0.12717099\n",
            "  -0.49345847]\n",
            " [-1.25719422 -0.69651634  0.14767515 ...  0.0410727   0.2434473\n",
            "  -0.49345847]\n",
            " [-1.25719422  0.18598209  0.23376468 ...  0.66384551  0.08037525\n",
            "  -0.49345847]\n",
            " ...\n",
            " [ 1.5969693   1.05243509  0.43464026 ...  1.28661831  0.480643\n",
            "  -0.49345847]\n",
            " [ 1.5969693   0.97220796  0.57812282 ...  1.25384079  0.59924086\n",
            "  -0.49345847]\n",
            " [ 1.5969693   1.19684392  0.56377456 ...  0.59829047 -0.63121187\n",
            "  -0.49345847]]\n"
          ]
        }
      ],
      "source": [
        "print(X)"
      ]
    },
    {
      "cell_type": "code",
      "source": [
        "Y"
      ],
      "metadata": {
        "id": "hiFblSkoTBys",
        "colab": {
          "base_uri": "https://localhost:8080/"
        },
        "outputId": "d5595b3b-e876-4fde-ada8-53d04e3849e5"
      },
      "execution_count": 23,
      "outputs": [
        {
          "output_type": "execute_result",
          "data": {
            "text/plain": [
              "array([[0.],\n",
              "       [0.],\n",
              "       [0.],\n",
              "       ...,\n",
              "       [0.],\n",
              "       [0.],\n",
              "       [0.]])"
            ]
          },
          "metadata": {},
          "execution_count": 23
        }
      ]
    },
    {
      "cell_type": "markdown",
      "source": [
        "## MODELLING"
      ],
      "metadata": {
        "id": "sOLvYslXTG9B"
      }
    },
    {
      "cell_type": "markdown",
      "metadata": {
        "id": "aQDbMGGl-QST"
      },
      "source": [
        "#Splitting Dataset into Training set and Test set"
      ]
    },
    {
      "cell_type": "code",
      "execution_count": 24,
      "metadata": {
        "id": "xpVKkTfM-KsN"
      },
      "outputs": [],
      "source": [
        "from sklearn.model_selection import train_test_split\n",
        "X_train,X_test,Y_train,Y_test = train_test_split(X,Y,test_size=0.2,random_state=None)"
      ]
    },
    {
      "cell_type": "code",
      "execution_count": 25,
      "metadata": {
        "id": "eA7K-Ygv_Z5b",
        "colab": {
          "base_uri": "https://localhost:8080/"
        },
        "outputId": "2d3b759c-b56c-4f76-86c8-9a55a7bb95b1"
      },
      "outputs": [
        {
          "output_type": "stream",
          "name": "stdout",
          "text": [
            "[[ 0.64558146 -0.84092517 -1.37323995 ... -1.10614035 -1.31314952\n",
            "   2.02651298]\n",
            " [ 0.64558146  2.03120607  2.5581821  ...  2.85993907  2.80812586\n",
            "  -0.49345847]\n",
            " [-1.25719422  1.61402499  1.02291874 ...  1.30300706  1.07363227\n",
            "  -0.49345847]\n",
            " ...\n",
            " [-0.30580638  0.68339029 -0.11059345 ...  0.64745675 -0.43849036\n",
            "   2.02651298]\n",
            " [-0.30580638 -1.64319647 -1.6458568  ... -1.41752675 -1.87648932\n",
            "  -0.49345847]\n",
            " [-1.25719422  0.92407168  1.037267   ...  1.22106327  1.14775592\n",
            "  -0.49345847]]\n"
          ]
        }
      ],
      "source": [
        "print(X_train)"
      ]
    },
    {
      "cell_type": "code",
      "execution_count": 26,
      "metadata": {
        "id": "d2lROgxR_Z-e",
        "colab": {
          "base_uri": "https://localhost:8080/"
        },
        "outputId": "e80b37be-5bba-44d4-93a5-cf1d6d0cd81d"
      },
      "outputs": [
        {
          "output_type": "stream",
          "name": "stdout",
          "text": [
            "[[0.]\n",
            " [0.]\n",
            " [0.]\n",
            " ...\n",
            " [1.]\n",
            " [1.]\n",
            " [0.]]\n"
          ]
        }
      ],
      "source": [
        "print(Y_train)"
      ]
    },
    {
      "cell_type": "code",
      "source": [
        "Y_test.shape\n"
      ],
      "metadata": {
        "colab": {
          "base_uri": "https://localhost:8080/"
        },
        "id": "EDllo55_aGKq",
        "outputId": "654e7397-8787-4c0e-9fbb-49b633d425c1"
      },
      "execution_count": 27,
      "outputs": [
        {
          "output_type": "execute_result",
          "data": {
            "text/plain": [
              "(2163, 1)"
            ]
          },
          "metadata": {},
          "execution_count": 27
        }
      ]
    },
    {
      "cell_type": "markdown",
      "source": [
        "## MODELS"
      ],
      "metadata": {
        "id": "w9YbqTLETRiu"
      }
    },
    {
      "cell_type": "markdown",
      "metadata": {
        "id": "9wXaahXT-79-"
      },
      "source": [
        "#Training Model"
      ]
    },
    {
      "cell_type": "markdown",
      "source": [
        "# **Random Forest**"
      ],
      "metadata": {
        "id": "HOB4nqFWTWdk"
      }
    },
    {
      "cell_type": "code",
      "execution_count": 28,
      "metadata": {
        "id": "dgXgeZ43-uih",
        "colab": {
          "base_uri": "https://localhost:8080/"
        },
        "outputId": "f039a178-fe3b-4c55-d497-59785e105259"
      },
      "outputs": [
        {
          "output_type": "stream",
          "name": "stderr",
          "text": [
            "/usr/local/lib/python3.7/dist-packages/ipykernel_launcher.py:3: DataConversionWarning: A column-vector y was passed when a 1d array was expected. Please change the shape of y to (n_samples,), for example using ravel().\n",
            "  This is separate from the ipykernel package so we can avoid doing imports until\n"
          ]
        },
        {
          "output_type": "execute_result",
          "data": {
            "text/plain": [
              "RandomForestClassifier(random_state=0)"
            ]
          },
          "metadata": {},
          "execution_count": 28
        }
      ],
      "source": [
        "from sklearn.ensemble import RandomForestClassifier\n",
        "classifier_rf = RandomForestClassifier(n_estimators=100,random_state=0)\n",
        "classifier_rf.fit(X_train,Y_train)"
      ]
    },
    {
      "cell_type": "code",
      "execution_count": 29,
      "metadata": {
        "id": "cuEeou4R_UFC",
        "colab": {
          "base_uri": "https://localhost:8080/"
        },
        "outputId": "f65cf534-635b-4fb4-fff2-19b174324af2"
      },
      "outputs": [
        {
          "output_type": "execute_result",
          "data": {
            "text/plain": [
              "1.0"
            ]
          },
          "metadata": {},
          "execution_count": 29
        }
      ],
      "source": [
        "classifier_rf.score(X_train,Y_train)"
      ]
    },
    {
      "cell_type": "code",
      "execution_count": 30,
      "metadata": {
        "id": "54o6KevaEsvw",
        "colab": {
          "base_uri": "https://localhost:8080/"
        },
        "outputId": "e30a4ce9-b4a7-4520-df6a-81bb80c64013"
      },
      "outputs": [
        {
          "output_type": "stream",
          "name": "stderr",
          "text": [
            "/usr/local/lib/python3.7/dist-packages/sklearn/preprocessing/_label.py:154: DataConversionWarning: A column-vector y was passed when a 1d array was expected. Please change the shape of y to (n_samples, ), for example using ravel().\n",
            "  y = column_or_1d(y, warn=True)\n"
          ]
        }
      ],
      "source": [
        "y_pred_rf = le6.inverse_transform(np.array(classifier_rf.predict(X_test),dtype=int))\n",
        "Y_test_rf = le6.inverse_transform(np.array(Y_test,dtype=int))"
      ]
    },
    {
      "cell_type": "code",
      "execution_count": 31,
      "metadata": {
        "id": "WxFvXuQzJr7T",
        "colab": {
          "base_uri": "https://localhost:8080/"
        },
        "outputId": "5dc99580-23f4-452d-bcbf-66aed83ad45e"
      },
      "outputs": [
        {
          "output_type": "stream",
          "name": "stdout",
          "text": [
            "[0. 0. 0. ... 0. 0. 0.]\n"
          ]
        }
      ],
      "source": [
        "print(y_pred_rf)"
      ]
    },
    {
      "cell_type": "code",
      "execution_count": 32,
      "metadata": {
        "id": "xt5Uti-IJsFk",
        "colab": {
          "base_uri": "https://localhost:8080/"
        },
        "outputId": "a5e5661c-48ab-413a-ab8a-ccb5620e58ab"
      },
      "outputs": [
        {
          "output_type": "stream",
          "name": "stdout",
          "text": [
            "[0. 0. 0. ... 0. 0. 0.]\n"
          ]
        }
      ],
      "source": [
        "print(Y_test_rf)"
      ]
    },
    {
      "cell_type": "code",
      "execution_count": 33,
      "metadata": {
        "id": "h6ZPXyGhFdtK"
      },
      "outputs": [],
      "source": [
        "y_pred_rf = y_pred_rf.reshape(-1,1)\n",
        "Y_test_rf = Y_test_rf.reshape(-1,1)"
      ]
    },
    {
      "cell_type": "code",
      "execution_count": 34,
      "metadata": {
        "id": "oQsshF72E3Le"
      },
      "outputs": [],
      "source": [
        "df = np.concatenate((Y_test_rf,y_pred_rf),axis=1)\n",
        "dataframe = pd.DataFrame(df,columns=['Rain on Tommorrow','Predition of Rain'])"
      ]
    },
    {
      "cell_type": "code",
      "execution_count": 35,
      "metadata": {
        "id": "H_xbsXHSFVqu",
        "colab": {
          "base_uri": "https://localhost:8080/"
        },
        "outputId": "9f4b9e13-43bb-48a7-a6c4-5a57213bd895"
      },
      "outputs": [
        {
          "output_type": "stream",
          "name": "stdout",
          "text": [
            "      Rain on Tommorrow  Predition of Rain\n",
            "0                   0.0                0.0\n",
            "1                   0.0                0.0\n",
            "2                   0.0                0.0\n",
            "3                   0.0                0.0\n",
            "4                   0.0                0.0\n",
            "...                 ...                ...\n",
            "2158                0.0                0.0\n",
            "2159                1.0                1.0\n",
            "2160                0.0                0.0\n",
            "2161                0.0                0.0\n",
            "2162                0.0                0.0\n",
            "\n",
            "[2163 rows x 2 columns]\n"
          ]
        }
      ],
      "source": [
        "print(dataframe)"
      ]
    },
    {
      "cell_type": "markdown",
      "metadata": {
        "id": "yd9wEmlNFyE1"
      },
      "source": [
        "Calculating Accuracy of random forest"
      ]
    },
    {
      "cell_type": "code",
      "execution_count": 36,
      "metadata": {
        "id": "8dpLQaQiFpPV",
        "colab": {
          "base_uri": "https://localhost:8080/"
        },
        "outputId": "8adf2c90-6c00-44bc-a032-98081791d919"
      },
      "outputs": [
        {
          "output_type": "execute_result",
          "data": {
            "text/plain": [
              "0.8811835413777162"
            ]
          },
          "metadata": {},
          "execution_count": 36
        }
      ],
      "source": [
        "from sklearn.metrics import accuracy_score\n",
        "acc_rfs=accuracy_score(Y_test_rf,y_pred_rf)\n",
        "acc_rfs"
      ]
    },
    {
      "cell_type": "code",
      "execution_count": 37,
      "metadata": {
        "id": "eCTjPeUjUM3Z",
        "colab": {
          "base_uri": "https://localhost:8080/"
        },
        "outputId": "3466b8c0-221b-40fc-99e3-23054bf2723b"
      },
      "outputs": [
        {
          "output_type": "stream",
          "name": "stdout",
          "text": [
            "[[1696   72]\n",
            " [ 185  210]]\n"
          ]
        }
      ],
      "source": [
        "from sklearn.metrics import confusion_matrix,plot_confusion_matrix\n",
        "cm=confusion_matrix(Y_test_rf,y_pred_rf)\n",
        "print(cm)\n"
      ]
    },
    {
      "cell_type": "code",
      "source": [
        "group_names = ['True Pos','False Neg','False Pos','True Neg']\n",
        "group_counts = [\"{0:0.0f}\".format(value) for value in\n",
        "                cm.flatten()]\n",
        "group_percentages = ['{0:.2%}'.format(value) for value in\n",
        "                     cm.flatten()/np.sum(cm)]\n",
        "labels = [f\"{v1}\\n{v2}\\n{v3}\" for v1, v2, v3 in\n",
        "          zip(group_names,group_counts,group_percentages)]\n",
        "labels = np.asarray(labels).reshape(2,2)\n",
        "sns.heatmap(cm, annot=labels, fmt=\"\", cmap='Blues');"
      ],
      "metadata": {
        "id": "XyPJP3x5WgZw",
        "colab": {
          "base_uri": "https://localhost:8080/",
          "height": 265
        },
        "outputId": "1579e862-c61f-4598-ca09-d790f7f2b8ea"
      },
      "execution_count": 38,
      "outputs": [
        {
          "output_type": "display_data",
          "data": {
            "text/plain": [
              "<Figure size 432x288 with 2 Axes>"
            ],
            "image/png": "[encoded data removed]"
          },
          "metadata": {
            "needs_background": "light"
          }
        }
      ]
    },
    {
      "cell_type": "code",
      "execution_count": 39,
      "metadata": {
        "id": "5daOdUGxUM3d",
        "colab": {
          "base_uri": "https://localhost:8080/"
        },
        "outputId": "a5220575-3fc1-48c7-f6be-61588c6875d4"
      },
      "outputs": [
        {
          "output_type": "stream",
          "name": "stdout",
          "text": [
            "              precision    recall  f1-score   support\n",
            "\n",
            "         0.0       0.90      0.96      0.93      1768\n",
            "         1.0       0.74      0.53      0.62       395\n",
            "\n",
            "    accuracy                           0.88      2163\n",
            "   macro avg       0.82      0.75      0.77      2163\n",
            "weighted avg       0.87      0.88      0.87      2163\n",
            "\n"
          ]
        }
      ],
      "source": [
        "from sklearn.metrics import classification_report\n",
        "print(classification_report(Y_test_rf,y_pred_rf))"
      ]
    },
    {
      "cell_type": "markdown",
      "source": [
        "# **Logisitic Regression**"
      ],
      "metadata": {
        "id": "HN8lM5VjVMi1"
      }
    },
    {
      "cell_type": "code",
      "execution_count": 40,
      "metadata": {
        "id": "0EAkqZYQUM3e",
        "colab": {
          "base_uri": "https://localhost:8080/"
        },
        "outputId": "bbfe7cc8-ae35-4405-be2c-7e7da613f8ce"
      },
      "outputs": [
        {
          "output_type": "stream",
          "name": "stderr",
          "text": [
            "/usr/local/lib/python3.7/dist-packages/sklearn/utils/validation.py:993: DataConversionWarning: A column-vector y was passed when a 1d array was expected. Please change the shape of y to (n_samples, ), for example using ravel().\n",
            "  y = column_or_1d(y, warn=True)\n"
          ]
        },
        {
          "output_type": "execute_result",
          "data": {
            "text/plain": [
              "LogisticRegression(random_state=0)"
            ]
          },
          "metadata": {},
          "execution_count": 40
        }
      ],
      "source": [
        "from sklearn.linear_model import LogisticRegression  \n",
        "classifier_lr = LogisticRegression(random_state=0)  \n",
        "classifier_lr.fit(X_train, Y_train)"
      ]
    },
    {
      "cell_type": "code",
      "execution_count": 41,
      "metadata": {
        "id": "iR3f9Rg5UM3f",
        "colab": {
          "base_uri": "https://localhost:8080/"
        },
        "outputId": "0db4b1ec-5f4c-4624-9f8f-f73282a4f155"
      },
      "outputs": [
        {
          "output_type": "execute_result",
          "data": {
            "text/plain": [
              "0.8677150786308974"
            ]
          },
          "metadata": {},
          "execution_count": 41
        }
      ],
      "source": [
        "classifier_lr.score(X_train,Y_train)"
      ]
    },
    {
      "cell_type": "code",
      "execution_count": 42,
      "metadata": {
        "id": "VZAMDObSUM3g",
        "colab": {
          "base_uri": "https://localhost:8080/"
        },
        "outputId": "79fd318f-3c8a-4e1a-f34a-a13caffaf33a"
      },
      "outputs": [
        {
          "output_type": "stream",
          "name": "stderr",
          "text": [
            "/usr/local/lib/python3.7/dist-packages/sklearn/preprocessing/_label.py:154: DataConversionWarning: A column-vector y was passed when a 1d array was expected. Please change the shape of y to (n_samples, ), for example using ravel().\n",
            "  y = column_or_1d(y, warn=True)\n"
          ]
        }
      ],
      "source": [
        "y_pred_lr = le6.inverse_transform(np.array(classifier_lr.predict(X_test),dtype=int))\n",
        "Y_test_lr = le6.inverse_transform(np.array(Y_test,dtype=int))"
      ]
    },
    {
      "cell_type": "code",
      "execution_count": 43,
      "metadata": {
        "id": "OWZIXlM0UM3h",
        "colab": {
          "base_uri": "https://localhost:8080/"
        },
        "outputId": "cb9ef406-ea7d-47d8-963f-223f8789df1d"
      },
      "outputs": [
        {
          "output_type": "stream",
          "name": "stdout",
          "text": [
            "[0. 0. 0. ... 0. 0. 0.]\n"
          ]
        }
      ],
      "source": [
        "print(y_pred_lr)"
      ]
    },
    {
      "cell_type": "code",
      "execution_count": 44,
      "metadata": {
        "id": "JkfEj6E-UM3h",
        "colab": {
          "base_uri": "https://localhost:8080/"
        },
        "outputId": "10349612-e227-48a5-ac8d-69dd74431f16"
      },
      "outputs": [
        {
          "output_type": "stream",
          "name": "stdout",
          "text": [
            "[0. 0. 0. ... 0. 0. 0.]\n"
          ]
        }
      ],
      "source": [
        "print(Y_test_lr)"
      ]
    },
    {
      "cell_type": "code",
      "execution_count": 45,
      "metadata": {
        "id": "5X6q4npWUM3i"
      },
      "outputs": [],
      "source": [
        "y_pred_lr = y_pred_lr.reshape(-1,1)\n",
        "Y_test_lr = Y_test_lr.reshape(-1,1)"
      ]
    },
    {
      "cell_type": "code",
      "execution_count": 46,
      "metadata": {
        "id": "VQN_3topUM3i"
      },
      "outputs": [],
      "source": [
        "df = np.concatenate((Y_test_lr,y_pred_lr),axis=1)\n",
        "dataframe = pd.DataFrame(df,columns=['Rain on Tommorrow','Predition of Rain'])"
      ]
    },
    {
      "cell_type": "code",
      "execution_count": 47,
      "metadata": {
        "id": "Ztkl2K0rUM3j",
        "colab": {
          "base_uri": "https://localhost:8080/"
        },
        "outputId": "5a211138-d8a3-4ee9-9781-fec1344f0ea9"
      },
      "outputs": [
        {
          "output_type": "stream",
          "name": "stdout",
          "text": [
            "      Rain on Tommorrow  Predition of Rain\n",
            "0                   0.0                0.0\n",
            "1                   0.0                0.0\n",
            "2                   0.0                0.0\n",
            "3                   0.0                0.0\n",
            "4                   0.0                0.0\n",
            "...                 ...                ...\n",
            "2158                0.0                0.0\n",
            "2159                1.0                1.0\n",
            "2160                0.0                0.0\n",
            "2161                0.0                0.0\n",
            "2162                0.0                0.0\n",
            "\n",
            "[2163 rows x 2 columns]\n"
          ]
        }
      ],
      "source": [
        "print(dataframe)"
      ]
    },
    {
      "cell_type": "code",
      "execution_count": 48,
      "metadata": {
        "id": "AKgPBp4kUM3j",
        "colab": {
          "base_uri": "https://localhost:8080/"
        },
        "outputId": "5a52eaac-12a4-43b2-c725-d5f6cc3d85b4"
      },
      "outputs": [
        {
          "output_type": "execute_result",
          "data": {
            "text/plain": [
              "0.8793342579750347"
            ]
          },
          "metadata": {},
          "execution_count": 48
        }
      ],
      "source": [
        "from sklearn.metrics import accuracy_score\n",
        "acc_lr=accuracy_score(Y_test_lr,y_pred_lr)\n",
        "acc_lr"
      ]
    },
    {
      "cell_type": "code",
      "execution_count": 49,
      "metadata": {
        "id": "v0MSXURIUM3k",
        "colab": {
          "base_uri": "https://localhost:8080/"
        },
        "outputId": "2c2d9f80-13fc-4d4e-ec7f-f5a9ed9c7ae1"
      },
      "outputs": [
        {
          "output_type": "stream",
          "name": "stdout",
          "text": [
            "[[1698   70]\n",
            " [ 191  204]]\n"
          ]
        }
      ],
      "source": [
        "from sklearn.metrics import confusion_matrix,plot_confusion_matrix\n",
        "cm_lr=confusion_matrix(Y_test_lr,y_pred_lr)\n",
        "print(cm_lr)\n"
      ]
    },
    {
      "cell_type": "code",
      "execution_count": 50,
      "metadata": {
        "id": "O_Gf85Z0UM3k",
        "colab": {
          "base_uri": "https://localhost:8080/",
          "height": 265
        },
        "outputId": "88fd660f-9b5e-447c-c02b-23c2f4b4b2e3"
      },
      "outputs": [
        {
          "output_type": "display_data",
          "data": {
            "text/plain": [
              "<Figure size 432x288 with 2 Axes>"
            ],
            "image/png": "[encoded data removed]"
          },
          "metadata": {
            "needs_background": "light"
          }
        }
      ],
      "source": [
        "group_names = ['True Pos','False Neg','False Pos','True Neg']\n",
        "group_counts = [\"{0:0.0f}\".format(value) for value in\n",
        "                cm_lr.flatten()]\n",
        "group_percentages = ['{0:.2%}'.format(value) for value in\n",
        "                     cm_lr.flatten()/np.sum(cm_lr)]\n",
        "labels = [f\"{v1}\\n{v2}\\n{v3}\" for v1, v2, v3 in\n",
        "          zip(group_names,group_counts,group_percentages)]\n",
        "labels = np.asarray(labels).reshape(2,2)\n",
        "sns.heatmap(cm, annot=labels, fmt=\"\", cmap='Reds');"
      ]
    },
    {
      "cell_type": "code",
      "execution_count": 51,
      "metadata": {
        "id": "Kzpu2Y0pUM3m",
        "colab": {
          "base_uri": "https://localhost:8080/"
        },
        "outputId": "082e660a-34dd-4220-fdc4-ccb87bc93bf7"
      },
      "outputs": [
        {
          "output_type": "stream",
          "name": "stdout",
          "text": [
            "              precision    recall  f1-score   support\n",
            "\n",
            "         0.0       0.90      0.96      0.93      1768\n",
            "         1.0       0.74      0.52      0.61       395\n",
            "\n",
            "    accuracy                           0.88      2163\n",
            "   macro avg       0.82      0.74      0.77      2163\n",
            "weighted avg       0.87      0.88      0.87      2163\n",
            "\n"
          ]
        }
      ],
      "source": [
        "from sklearn.metrics import classification_report\n",
        "print(classification_report(Y_test_lr,y_pred_lr))"
      ]
    },
    {
      "cell_type": "markdown",
      "source": [
        "# **DecisionTree Classifier**"
      ],
      "metadata": {
        "id": "3WPc5rw_bvI0"
      }
    },
    {
      "cell_type": "code",
      "execution_count": 52,
      "metadata": {
        "id": "8b9XkER3UM3m",
        "colab": {
          "base_uri": "https://localhost:8080/"
        },
        "outputId": "0adb00cc-e63f-4616-95e7-8f4eaaa5d35d"
      },
      "outputs": [
        {
          "output_type": "execute_result",
          "data": {
            "text/plain": [
              "DecisionTreeClassifier(criterion='entropy', random_state=0)"
            ]
          },
          "metadata": {},
          "execution_count": 52
        }
      ],
      "source": [
        "from sklearn.tree import DecisionTreeClassifier  \n",
        "classifier_dt = DecisionTreeClassifier(criterion='entropy', random_state=0)  \n",
        "classifier_dt.fit(X_train, Y_train)  "
      ]
    },
    {
      "cell_type": "code",
      "execution_count": 53,
      "metadata": {
        "id": "A1_Owql8UM3n",
        "colab": {
          "base_uri": "https://localhost:8080/"
        },
        "outputId": "d4dc17b8-25b2-469b-e01e-0128c861bf10"
      },
      "outputs": [
        {
          "output_type": "execute_result",
          "data": {
            "text/plain": [
              "1.0"
            ]
          },
          "metadata": {},
          "execution_count": 53
        }
      ],
      "source": [
        "classifier_dt.score(X_train,Y_train)"
      ]
    },
    {
      "cell_type": "code",
      "execution_count": 54,
      "metadata": {
        "id": "-Nu4WH8kUM3p",
        "colab": {
          "base_uri": "https://localhost:8080/"
        },
        "outputId": "550fd0d6-a9cc-4ff5-c815-103f611b1082"
      },
      "outputs": [
        {
          "output_type": "stream",
          "name": "stderr",
          "text": [
            "/usr/local/lib/python3.7/dist-packages/sklearn/preprocessing/_label.py:154: DataConversionWarning: A column-vector y was passed when a 1d array was expected. Please change the shape of y to (n_samples, ), for example using ravel().\n",
            "  y = column_or_1d(y, warn=True)\n"
          ]
        }
      ],
      "source": [
        "y_pred_dt = le6.inverse_transform(np.array(classifier_dt.predict(X_test),dtype=int))\n",
        "Y_test_dt = le6.inverse_transform(np.array(Y_test,dtype=int))"
      ]
    },
    {
      "cell_type": "code",
      "execution_count": 55,
      "metadata": {
        "id": "--QdrSKUUM3q",
        "colab": {
          "base_uri": "https://localhost:8080/"
        },
        "outputId": "334c9896-d59d-4a7c-c0a0-8d97036a6062"
      },
      "outputs": [
        {
          "output_type": "stream",
          "name": "stdout",
          "text": [
            "[0. 0. 0. ... 0. 0. 0.]\n"
          ]
        }
      ],
      "source": [
        "print(y_pred_dt)"
      ]
    },
    {
      "cell_type": "code",
      "execution_count": 56,
      "metadata": {
        "id": "1UsBkFqrUM3s",
        "colab": {
          "base_uri": "https://localhost:8080/"
        },
        "outputId": "82b8a6d4-455d-42a5-c957-f2d3fc7cbdf5"
      },
      "outputs": [
        {
          "output_type": "stream",
          "name": "stdout",
          "text": [
            "[0. 0. 0. ... 0. 0. 0.]\n"
          ]
        }
      ],
      "source": [
        "print(Y_test_dt)"
      ]
    },
    {
      "cell_type": "code",
      "execution_count": 57,
      "metadata": {
        "id": "cuS1ZhUGUM3u"
      },
      "outputs": [],
      "source": [
        "y_pred_dt = y_pred_dt.reshape(-1,1)\n",
        "Y_test_dt = Y_test_dt.reshape(-1,1)"
      ]
    },
    {
      "cell_type": "code",
      "execution_count": 58,
      "metadata": {
        "id": "GhJo6wZSUM3x"
      },
      "outputs": [],
      "source": [
        "df = np.concatenate((Y_test_dt,y_pred_dt),axis=1)\n",
        "dataframe = pd.DataFrame(df,columns=['Rain on Tommorrow','Predition of Rain'])"
      ]
    },
    {
      "cell_type": "code",
      "execution_count": 59,
      "metadata": {
        "id": "DKbvlXmjUM3y",
        "colab": {
          "base_uri": "https://localhost:8080/"
        },
        "outputId": "bb89cec1-1056-4ab4-be19-6199f941e70f"
      },
      "outputs": [
        {
          "output_type": "stream",
          "name": "stdout",
          "text": [
            "      Rain on Tommorrow  Predition of Rain\n",
            "0                   0.0                0.0\n",
            "1                   0.0                0.0\n",
            "2                   0.0                0.0\n",
            "3                   0.0                0.0\n",
            "4                   0.0                0.0\n",
            "...                 ...                ...\n",
            "2158                0.0                0.0\n",
            "2159                1.0                1.0\n",
            "2160                0.0                0.0\n",
            "2161                0.0                0.0\n",
            "2162                0.0                0.0\n",
            "\n",
            "[2163 rows x 2 columns]\n"
          ]
        }
      ],
      "source": [
        "print(dataframe)"
      ]
    },
    {
      "cell_type": "code",
      "execution_count": 60,
      "metadata": {
        "id": "xXZLoj5aUM30",
        "colab": {
          "base_uri": "https://localhost:8080/"
        },
        "outputId": "db7c1490-127c-4a5b-8bbc-4929d79d7231"
      },
      "outputs": [
        {
          "output_type": "execute_result",
          "data": {
            "text/plain": [
              "0.8257050392972723"
            ]
          },
          "metadata": {},
          "execution_count": 60
        }
      ],
      "source": [
        "from sklearn.metrics import accuracy_score\n",
        "acc_dt=accuracy_score(Y_test_dt,y_pred_dt)\n",
        "acc_dt"
      ]
    },
    {
      "cell_type": "code",
      "execution_count": 61,
      "metadata": {
        "scrolled": true,
        "id": "LzAE81QXUM31",
        "colab": {
          "base_uri": "https://localhost:8080/"
        },
        "outputId": "f37625d7-a4a8-4c00-d128-b321bff30c99"
      },
      "outputs": [
        {
          "output_type": "stream",
          "name": "stdout",
          "text": [
            "[[1564  204]\n",
            " [ 173  222]]\n"
          ]
        }
      ],
      "source": [
        "from sklearn.metrics import confusion_matrix,plot_confusion_matrix\n",
        "cm_dt=confusion_matrix(Y_test_dt,y_pred_dt)\n",
        "print(cm_dt)"
      ]
    },
    {
      "cell_type": "code",
      "execution_count": 62,
      "metadata": {
        "id": "zgJo11PeUM33",
        "colab": {
          "base_uri": "https://localhost:8080/",
          "height": 265
        },
        "outputId": "55bd7eca-8b2c-4675-b271-d8150d6778d6"
      },
      "outputs": [
        {
          "output_type": "display_data",
          "data": {
            "text/plain": [
              "<Figure size 432x288 with 2 Axes>"
            ],
            "image/png": "[encoded data removed]"
          },
          "metadata": {
            "needs_background": "light"
          }
        }
      ],
      "source": [
        "group_names = ['True Pos','False Neg','False Pos','True Neg']\n",
        "group_counts = [\"{0:0.0f}\".format(value) for value in\n",
        "                cm_dt.flatten()]\n",
        "group_percentages = ['{0:.2%}'.format(value) for value in\n",
        "                     cm_dt.flatten()/np.sum(cm_dt)]\n",
        "labels = [f\"{v1}\\n{v2}\\n{v3}\" for v1, v2, v3 in\n",
        "          zip(group_names,group_counts,group_percentages)]\n",
        "labels = np.asarray(labels).reshape(2,2)\n",
        "sns.heatmap(cm_dt, annot=labels, fmt=\"\", cmap='Purples');"
      ]
    },
    {
      "cell_type": "code",
      "execution_count": 63,
      "metadata": {
        "id": "dTnkPSEKUM34",
        "colab": {
          "base_uri": "https://localhost:8080/"
        },
        "outputId": "59c21f75-e86f-4098-91c4-a94fb0f87d88"
      },
      "outputs": [
        {
          "output_type": "stream",
          "name": "stdout",
          "text": [
            "              precision    recall  f1-score   support\n",
            "\n",
            "         0.0       0.90      0.88      0.89      1768\n",
            "         1.0       0.52      0.56      0.54       395\n",
            "\n",
            "    accuracy                           0.83      2163\n",
            "   macro avg       0.71      0.72      0.72      2163\n",
            "weighted avg       0.83      0.83      0.83      2163\n",
            "\n"
          ]
        }
      ],
      "source": [
        "from sklearn.metrics import classification_report\n",
        "print(classification_report(Y_test_dt,y_pred_dt))"
      ]
    },
    {
      "cell_type": "markdown",
      "source": [
        "# **Light Gbm**"
      ],
      "metadata": {
        "id": "mQB6hxOUcg4W"
      }
    },
    {
      "cell_type": "code",
      "execution_count": 64,
      "metadata": {
        "id": "VYmnMCnAUM35",
        "colab": {
          "base_uri": "https://localhost:8080/"
        },
        "outputId": "9f9f81fb-b7f8-4404-8535-b7d4d3153f2d"
      },
      "outputs": [
        {
          "output_type": "stream",
          "name": "stdout",
          "text": [
            "Looking in indexes: https://pypi.org/simple, https://us-python.pkg.dev/colab-wheels/public/simple/\n",
            "Requirement already satisfied: lightgbm in /usr/local/lib/python3.7/dist-packages (2.2.3)\n",
            "Requirement already satisfied: scikit-learn in /usr/local/lib/python3.7/dist-packages (from lightgbm) (1.0.2)\n",
            "Requirement already satisfied: numpy in /usr/local/lib/python3.7/dist-packages (from lightgbm) (1.21.6)\n",
            "Requirement already satisfied: scipy in /usr/local/lib/python3.7/dist-packages (from lightgbm) (1.7.3)\n",
            "Requirement already satisfied: joblib>=0.11 in /usr/local/lib/python3.7/dist-packages (from scikit-learn->lightgbm) (1.2.0)\n",
            "Requirement already satisfied: threadpoolctl>=2.0.0 in /usr/local/lib/python3.7/dist-packages (from scikit-learn->lightgbm) (3.1.0)\n"
          ]
        }
      ],
      "source": [
        "!pip install lightgbm"
      ]
    },
    {
      "cell_type": "code",
      "execution_count": 65,
      "metadata": {
        "id": "qlGnpBPzUM35",
        "colab": {
          "base_uri": "https://localhost:8080/"
        },
        "outputId": "7b91c682-e0a0-45aa-f3d3-d290313e68a5"
      },
      "outputs": [
        {
          "output_type": "stream",
          "name": "stderr",
          "text": [
            "/usr/local/lib/python3.7/dist-packages/sklearn/preprocessing/_label.py:98: DataConversionWarning: A column-vector y was passed when a 1d array was expected. Please change the shape of y to (n_samples, ), for example using ravel().\n",
            "  y = column_or_1d(y, warn=True)\n",
            "/usr/local/lib/python3.7/dist-packages/sklearn/preprocessing/_label.py:133: DataConversionWarning: A column-vector y was passed when a 1d array was expected. Please change the shape of y to (n_samples, ), for example using ravel().\n",
            "  y = column_or_1d(y, warn=True)\n"
          ]
        },
        {
          "output_type": "execute_result",
          "data": {
            "text/plain": [
              "LGBMClassifier(random_state=0)"
            ]
          },
          "metadata": {},
          "execution_count": 65
        }
      ],
      "source": [
        "from lightgbm import LGBMClassifier\n",
        "classifier_lgbm = LGBMClassifier(random_state =0)\n",
        "classifier_lgbm.fit(X_train, Y_train)"
      ]
    },
    {
      "cell_type": "code",
      "execution_count": 66,
      "metadata": {
        "id": "toPqw68SUM36",
        "colab": {
          "base_uri": "https://localhost:8080/"
        },
        "outputId": "bcd5165b-bd8e-4d2a-988e-8a7df3924c43"
      },
      "outputs": [
        {
          "output_type": "execute_result",
          "data": {
            "text/plain": [
              "0.9399861239592969"
            ]
          },
          "metadata": {},
          "execution_count": 66
        }
      ],
      "source": [
        "classifier_lgbm.score(X_train,Y_train)"
      ]
    },
    {
      "cell_type": "code",
      "execution_count": 67,
      "metadata": {
        "id": "mv4LyQxAUM37",
        "colab": {
          "base_uri": "https://localhost:8080/"
        },
        "outputId": "5d769126-c6e4-4e24-f547-e6ea566e7489"
      },
      "outputs": [
        {
          "output_type": "stream",
          "name": "stderr",
          "text": [
            "/usr/local/lib/python3.7/dist-packages/sklearn/preprocessing/_label.py:154: DataConversionWarning: A column-vector y was passed when a 1d array was expected. Please change the shape of y to (n_samples, ), for example using ravel().\n",
            "  y = column_or_1d(y, warn=True)\n"
          ]
        }
      ],
      "source": [
        "y_pred_lgbm = le6.inverse_transform(np.array(classifier_lgbm.predict(X_test),dtype=int))\n",
        "Y_test_lgbm = le6.inverse_transform(np.array(Y_test,dtype=int))"
      ]
    },
    {
      "cell_type": "code",
      "execution_count": 68,
      "metadata": {
        "id": "ZzUvHU2AUM38",
        "colab": {
          "base_uri": "https://localhost:8080/"
        },
        "outputId": "78722f96-cea1-4d71-8c3e-c8e2d2bdd70c"
      },
      "outputs": [
        {
          "output_type": "stream",
          "name": "stdout",
          "text": [
            "[0. 0. 0. ... 0. 0. 0.]\n"
          ]
        }
      ],
      "source": [
        "print(y_pred_lgbm)"
      ]
    },
    {
      "cell_type": "code",
      "execution_count": 69,
      "metadata": {
        "id": "TTAKsGYaUM39",
        "colab": {
          "base_uri": "https://localhost:8080/"
        },
        "outputId": "2fa3b5d8-bfeb-4c6d-e957-c04fd4f5f55d"
      },
      "outputs": [
        {
          "output_type": "stream",
          "name": "stdout",
          "text": [
            "[0. 0. 0. ... 0. 0. 0.]\n"
          ]
        }
      ],
      "source": [
        "print(Y_test_lgbm)"
      ]
    },
    {
      "cell_type": "code",
      "execution_count": 70,
      "metadata": {
        "id": "rqzmue4pUM3_"
      },
      "outputs": [],
      "source": [
        "y_pred_lgbm = y_pred_lgbm.reshape(-1,1)\n",
        "Y_test_lgbm = Y_test_lgbm.reshape(-1,1)"
      ]
    },
    {
      "cell_type": "code",
      "execution_count": 71,
      "metadata": {
        "id": "AZTNJVUAUM3_"
      },
      "outputs": [],
      "source": [
        "df = np.concatenate((Y_test_lgbm,y_pred_lgbm),axis=1)\n",
        "dataframe = pd.DataFrame(df,columns=['Rain on Tommorrow','Predition of Rain'])"
      ]
    },
    {
      "cell_type": "code",
      "execution_count": 72,
      "metadata": {
        "id": "sR8zjv3oUM4A",
        "colab": {
          "base_uri": "https://localhost:8080/"
        },
        "outputId": "518f72fe-e5a0-4208-bd7d-8957dc01f40e"
      },
      "outputs": [
        {
          "output_type": "stream",
          "name": "stdout",
          "text": [
            "      Rain on Tommorrow  Predition of Rain\n",
            "0                   0.0                0.0\n",
            "1                   0.0                0.0\n",
            "2                   0.0                0.0\n",
            "3                   0.0                0.0\n",
            "4                   0.0                0.0\n",
            "...                 ...                ...\n",
            "2158                0.0                0.0\n",
            "2159                1.0                1.0\n",
            "2160                0.0                0.0\n",
            "2161                0.0                0.0\n",
            "2162                0.0                0.0\n",
            "\n",
            "[2163 rows x 2 columns]\n"
          ]
        }
      ],
      "source": [
        "print(dataframe)"
      ]
    },
    {
      "cell_type": "code",
      "execution_count": 73,
      "metadata": {
        "id": "dhOoiifyUM4A",
        "colab": {
          "base_uri": "https://localhost:8080/"
        },
        "outputId": "6a1fe0ca-9da7-4585-9381-9714c9a253db"
      },
      "outputs": [
        {
          "output_type": "execute_result",
          "data": {
            "text/plain": [
              "0.8830328247803976"
            ]
          },
          "metadata": {},
          "execution_count": 73
        }
      ],
      "source": [
        "from sklearn.metrics import accuracy_score\n",
        "acc_lg=accuracy_score(Y_test_lgbm,y_pred_lgbm)\n",
        "acc_lg"
      ]
    },
    {
      "cell_type": "code",
      "execution_count": 74,
      "metadata": {
        "id": "C3GSCsBpUM4B",
        "colab": {
          "base_uri": "https://localhost:8080/"
        },
        "outputId": "04217ec0-be90-4bbf-a94d-a49afca98e06"
      },
      "outputs": [
        {
          "output_type": "stream",
          "name": "stdout",
          "text": [
            "[[1680   88]\n",
            " [ 165  230]]\n"
          ]
        }
      ],
      "source": [
        "from sklearn.metrics import confusion_matrix,plot_confusion_matrix\n",
        "cm_lg=confusion_matrix(Y_test_lgbm,y_pred_lgbm)\n",
        "print(cm_lg)"
      ]
    },
    {
      "cell_type": "code",
      "execution_count": 75,
      "metadata": {
        "id": "lLXaditXUM4B",
        "colab": {
          "base_uri": "https://localhost:8080/",
          "height": 265
        },
        "outputId": "5259d7a4-ff3c-4d80-b455-c017b961c1b5"
      },
      "outputs": [
        {
          "output_type": "display_data",
          "data": {
            "text/plain": [
              "<Figure size 432x288 with 2 Axes>"
            ],
            "image/png": "[encoded data removed]"
          },
          "metadata": {
            "needs_background": "light"
          }
        }
      ],
      "source": [
        "group_names = ['True Pos','False Neg','False Pos','True Neg']\n",
        "group_counts = [\"{0:0.0f}\".format(value) for value in\n",
        "                cm_lg.flatten()]\n",
        "group_percentages = ['{0:.2%}'.format(value) for value in\n",
        "                     cm_lg.flatten()/np.sum(cm)]\n",
        "labels = [f\"{v1}\\n{v2}\\n{v3}\" for v1, v2, v3 in\n",
        "          zip(group_names,group_counts,group_percentages)]\n",
        "labels = np.asarray(labels).reshape(2,2)\n",
        "sns.heatmap(cm_lg, annot=labels, fmt=\"\", cmap='Greens');"
      ]
    },
    {
      "cell_type": "code",
      "execution_count": 76,
      "metadata": {
        "id": "_4gCeS93UM4D",
        "colab": {
          "base_uri": "https://localhost:8080/"
        },
        "outputId": "f1637335-071f-4379-b59d-5bca4d1e76df"
      },
      "outputs": [
        {
          "output_type": "stream",
          "name": "stdout",
          "text": [
            "              precision    recall  f1-score   support\n",
            "\n",
            "         0.0       0.91      0.95      0.93      1768\n",
            "         1.0       0.72      0.58      0.65       395\n",
            "\n",
            "    accuracy                           0.88      2163\n",
            "   macro avg       0.82      0.77      0.79      2163\n",
            "weighted avg       0.88      0.88      0.88      2163\n",
            "\n"
          ]
        }
      ],
      "source": [
        "from sklearn.metrics import classification_report\n",
        "print(classification_report(Y_test_lgbm,y_pred_lgbm))"
      ]
    },
    {
      "cell_type": "markdown",
      "source": [
        "# **Xgboost**"
      ],
      "metadata": {
        "id": "cQH50Rq7dpeI"
      }
    },
    {
      "cell_type": "code",
      "source": [
        "!pip install xgboost"
      ],
      "metadata": {
        "colab": {
          "base_uri": "https://localhost:8080/"
        },
        "id": "6rAfEfMLNhBr",
        "outputId": "6cfcf5bb-8403-41a5-91d8-624376d89dd7"
      },
      "execution_count": 77,
      "outputs": [
        {
          "output_type": "stream",
          "name": "stdout",
          "text": [
            "Looking in indexes: https://pypi.org/simple, https://us-python.pkg.dev/colab-wheels/public/simple/\n",
            "Requirement already satisfied: xgboost in /usr/local/lib/python3.7/dist-packages (0.90)\n",
            "Requirement already satisfied: numpy in /usr/local/lib/python3.7/dist-packages (from xgboost) (1.21.6)\n",
            "Requirement already satisfied: scipy in /usr/local/lib/python3.7/dist-packages (from xgboost) (1.7.3)\n"
          ]
        }
      ]
    },
    {
      "cell_type": "code",
      "source": [
        "from xgboost import XGBRegressor\n",
        "clf_xgb = XGBRegressor(random_state=0)\n",
        "clf_xgb.fit(X_train,Y_train)"
      ],
      "metadata": {
        "colab": {
          "base_uri": "https://localhost:8080/"
        },
        "id": "jZzGmTrWNhLE",
        "outputId": "4053aac7-1a5b-412c-c80a-c08be793a0e1"
      },
      "execution_count": 78,
      "outputs": [
        {
          "output_type": "stream",
          "name": "stdout",
          "text": [
            "[07:35:13] WARNING: /workspace/src/objective/regression_obj.cu:152: reg:linear is now deprecated in favor of reg:squarederror.\n"
          ]
        },
        {
          "output_type": "execute_result",
          "data": {
            "text/plain": [
              "XGBRegressor()"
            ]
          },
          "metadata": {},
          "execution_count": 78
        }
      ]
    },
    {
      "cell_type": "code",
      "source": [
        "clf_xgb.score(X_train,Y_train)"
      ],
      "metadata": {
        "colab": {
          "base_uri": "https://localhost:8080/"
        },
        "id": "S1nJ6zW7fgO8",
        "outputId": "ab567fe2-6c34-49e3-ea4f-1c4e796d24a2"
      },
      "execution_count": 79,
      "outputs": [
        {
          "output_type": "execute_result",
          "data": {
            "text/plain": [
              "0.4642120496366705"
            ]
          },
          "metadata": {},
          "execution_count": 79
        }
      ]
    },
    {
      "cell_type": "code",
      "source": [
        "y_pred_xgb = le6.inverse_transform(np.array(clf_xgb.predict(X_test),dtype=int))\n",
        "Y_test_xgb = le6.inverse_transform(np.array(Y_test,dtype=int))"
      ],
      "metadata": {
        "colab": {
          "base_uri": "https://localhost:8080/"
        },
        "id": "2B-n7VUGfu1U",
        "outputId": "971e4fad-52c5-41f4-fde0-11cd450fc983"
      },
      "execution_count": 80,
      "outputs": [
        {
          "output_type": "stream",
          "name": "stderr",
          "text": [
            "/usr/local/lib/python3.7/dist-packages/sklearn/preprocessing/_label.py:154: DataConversionWarning: A column-vector y was passed when a 1d array was expected. Please change the shape of y to (n_samples, ), for example using ravel().\n",
            "  y = column_or_1d(y, warn=True)\n"
          ]
        }
      ]
    },
    {
      "cell_type": "code",
      "source": [
        "print(y_pred_xgb)"
      ],
      "metadata": {
        "colab": {
          "base_uri": "https://localhost:8080/"
        },
        "id": "qeFrW7iBfu8a",
        "outputId": "4e43f18e-7ef5-441b-e781-c14488c17091"
      },
      "execution_count": 81,
      "outputs": [
        {
          "output_type": "stream",
          "name": "stdout",
          "text": [
            "[0. 0. 0. ... 0. 0. 0.]\n"
          ]
        }
      ]
    },
    {
      "cell_type": "code",
      "source": [
        "print(Y_test_xgb)"
      ],
      "metadata": {
        "colab": {
          "base_uri": "https://localhost:8080/"
        },
        "id": "2uQdOtwQgOxt",
        "outputId": "4f732617-62de-45f9-d1a1-b0e907ae4de5"
      },
      "execution_count": 82,
      "outputs": [
        {
          "output_type": "stream",
          "name": "stdout",
          "text": [
            "[0. 0. 0. ... 0. 0. 0.]\n"
          ]
        }
      ]
    },
    {
      "cell_type": "code",
      "source": [
        "y_pred_xgb = y_pred_xgb.reshape(-1,1)\n",
        "Y_test_xgb = Y_test_xgb.reshape(-1,1)"
      ],
      "metadata": {
        "id": "70o5n0PAgO5F"
      },
      "execution_count": 83,
      "outputs": []
    },
    {
      "cell_type": "code",
      "source": [
        "df = np.concatenate((Y_test_xgb,y_pred_xgb),axis=1)\n",
        "dataframe = pd.DataFrame(df,columns=['Rain on Tommorrow','Predition of Rain'])"
      ],
      "metadata": {
        "id": "3A8aU_vXgO7t"
      },
      "execution_count": 84,
      "outputs": []
    },
    {
      "cell_type": "code",
      "source": [
        "print(dataframe)"
      ],
      "metadata": {
        "colab": {
          "base_uri": "https://localhost:8080/"
        },
        "id": "becnKKzagO-M",
        "outputId": "a5d58de9-a898-4013-d9c6-449f018c08ad"
      },
      "execution_count": 85,
      "outputs": [
        {
          "output_type": "stream",
          "name": "stdout",
          "text": [
            "      Rain on Tommorrow  Predition of Rain\n",
            "0                   0.0                0.0\n",
            "1                   0.0                0.0\n",
            "2                   0.0                0.0\n",
            "3                   0.0                0.0\n",
            "4                   0.0                0.0\n",
            "...                 ...                ...\n",
            "2158                0.0                0.0\n",
            "2159                1.0                0.0\n",
            "2160                0.0                0.0\n",
            "2161                0.0                0.0\n",
            "2162                0.0                0.0\n",
            "\n",
            "[2163 rows x 2 columns]\n"
          ]
        }
      ]
    },
    {
      "cell_type": "code",
      "source": [
        "from sklearn.metrics import accuracy_score\n",
        "acc_xgb=accuracy_score(Y_test_xgb,y_pred_xgb)\n",
        "acc_xgb"
      ],
      "metadata": {
        "colab": {
          "base_uri": "https://localhost:8080/"
        },
        "id": "2XYlQJHvgPAz",
        "outputId": "d524843d-9700-48cc-c42a-cd5ec1c5fd08"
      },
      "execution_count": 86,
      "outputs": [
        {
          "output_type": "execute_result",
          "data": {
            "text/plain": [
              "0.8257050392972723"
            ]
          },
          "metadata": {},
          "execution_count": 86
        }
      ]
    },
    {
      "cell_type": "code",
      "source": [
        "from sklearn.metrics import confusion_matrix,plot_confusion_matrix\n",
        "cm_xgb=confusion_matrix(Y_test_xgb,y_pred_xgb)\n",
        "print(cm_xgb)"
      ],
      "metadata": {
        "colab": {
          "base_uri": "https://localhost:8080/"
        },
        "id": "2Sxtbm4DgPDQ",
        "outputId": "4ac0c6ce-8191-4d15-af8b-1b95e6926197"
      },
      "execution_count": 87,
      "outputs": [
        {
          "output_type": "stream",
          "name": "stdout",
          "text": [
            "[[1768    0]\n",
            " [ 377   18]]\n"
          ]
        }
      ]
    },
    {
      "cell_type": "code",
      "source": [
        "group_names = ['True Pos','False Neg','False Pos','True Neg']\n",
        "group_counts = [\"{0:0.0f}\".format(value) for value in\n",
        "                cm_xgb.flatten()]\n",
        "group_percentages = ['{0:.2%}'.format(value) for value in\n",
        "                     cm_xgb.flatten()/np.sum(cm)]\n",
        "labels = [f\"{v1}\\n{v2}\\n{v3}\" for v1, v2, v3 in\n",
        "          zip(group_names,group_counts,group_percentages)]\n",
        "labels = np.asarray(labels).reshape(2,2)\n",
        "sns.heatmap(cm_lg, annot=labels, fmt=\"\", cmap='Greens');"
      ],
      "metadata": {
        "colab": {
          "base_uri": "https://localhost:8080/",
          "height": 265
        },
        "id": "4sDP3mjEgPFz",
        "outputId": "bacd6804-b0c2-4d7f-d67d-0db5833c532d"
      },
      "execution_count": 88,
      "outputs": [
        {
          "output_type": "display_data",
          "data": {
            "text/plain": [
              "<Figure size 432x288 with 2 Axes>"
            ],
            "image/png": "[encoded data removed]"
          },
          "metadata": {
            "needs_background": "light"
          }
        }
      ]
    },
    {
      "cell_type": "code",
      "source": [
        "from sklearn.metrics import classification_report\n",
        "print(classification_report(Y_test_xgb,y_pred_xgb))"
      ],
      "metadata": {
        "colab": {
          "base_uri": "https://localhost:8080/"
        },
        "id": "_c60DNU_hJnn",
        "outputId": "679169bd-e58c-4807-b942-04b606508d3d"
      },
      "execution_count": 89,
      "outputs": [
        {
          "output_type": "stream",
          "name": "stdout",
          "text": [
            "              precision    recall  f1-score   support\n",
            "\n",
            "         0.0       0.82      1.00      0.90      1768\n",
            "         1.0       1.00      0.05      0.09       395\n",
            "\n",
            "    accuracy                           0.83      2163\n",
            "   macro avg       0.91      0.52      0.50      2163\n",
            "weighted avg       0.86      0.83      0.75      2163\n",
            "\n"
          ]
        }
      ]
    },
    {
      "cell_type": "code",
      "source": [],
      "metadata": {
        "id": "26GZhM2khJxj"
      },
      "execution_count": 89,
      "outputs": []
    },
    {
      "cell_type": "markdown",
      "source": [
        "## Accuracy Comparison"
      ],
      "metadata": {
        "id": "2GsFJRYdXc_h"
      }
    },
    {
      "cell_type": "code",
      "source": [
        "accuracy_dict = {\"Logistic Regression\": acc_lr,\n",
        "                 \"Random Forest\": acc_rfs,\n",
        "                 \"Decision Trees\": acc_dt,\n",
        "                 \"LightGBM\": acc_lg,\n",
        "                 \"Xgboost\": acc_xgb}\n",
        "\n",
        "accuracy_df = pd.DataFrame( pd.Series(accuracy_dict, index = accuracy_dict.keys()), columns = [\"Accuracy\"])\n",
        "accuracy_df"
      ],
      "metadata": {
        "id": "FMzeDWMfXiJb",
        "colab": {
          "base_uri": "https://localhost:8080/",
          "height": 206
        },
        "outputId": "eb447569-e3a4-473e-ac92-0bbeabbd4f0c"
      },
      "execution_count": 91,
      "outputs": [
        {
          "output_type": "execute_result",
          "data": {
            "text/plain": [
              "                     Accuracy\n",
              "Logistic Regression  0.879334\n",
              "Random Forest        0.881184\n",
              "Decision Trees       0.825705\n",
              "LightGBM             0.883033\n",
              "Xgboost              0.825705"
            ],
            "text/html": [
              "\n",
              "  <div id=\"df-7853eea1-0c48-4aff-81ed-df5686641f92\">\n",
              "    <div class=\"colab-df-container\">\n",
              "      <div>\n",
              "<style scoped>\n",
              "    .dataframe tbody tr th:only-of-type {\n",
              "        vertical-align: middle;\n",
              "    }\n",
              "\n",
              "    .dataframe tbody tr th {\n",
              "        vertical-align: top;\n",
              "    }\n",
              "\n",
              "    .dataframe thead th {\n",
              "        text-align: right;\n",
              "    }\n",
              "</style>\n",
              "<table border=\"1\" class=\"dataframe\">\n",
              "  <thead>\n",
              "    <tr style=\"text-align: right;\">\n",
              "      <th></th>\n",
              "      <th>Accuracy</th>\n",
              "    </tr>\n",
              "  </thead>\n",
              "  <tbody>\n",
              "    <tr>\n",
              "      <th>Logistic Regression</th>\n",
              "      <td>0.879334</td>\n",
              "    </tr>\n",
              "    <tr>\n",
              "      <th>Random Forest</th>\n",
              "      <td>0.881184</td>\n",
              "    </tr>\n",
              "    <tr>\n",
              "      <th>Decision Trees</th>\n",
              "      <td>0.825705</td>\n",
              "    </tr>\n",
              "    <tr>\n",
              "      <th>LightGBM</th>\n",
              "      <td>0.883033</td>\n",
              "    </tr>\n",
              "    <tr>\n",
              "      <th>Xgboost</th>\n",
              "      <td>0.825705</td>\n",
              "    </tr>\n",
              "  </tbody>\n",
              "</table>\n",
              "</div>\n",
              "      <button class=\"colab-df-convert\" onclick=\"convertToInteractive('df-7853eea1-0c48-4aff-81ed-df5686641f92')\"\n",
              "              title=\"Convert this dataframe to an interactive table.\"\n",
              "              style=\"display:none;\">\n",
              "        \n",
              "  <svg xmlns=\"http://www.w3.org/2000/svg\" height=\"24px\"viewBox=\"0 0 24 24\"\n",
              "       width=\"24px\">\n",
              "    <path d=\"M0 0h24v24H0V0z\" fill=\"none\"/>\n",
              "    <path d=\"M18.56 5.44l.94 2.06.94-2.06 2.06-.94-2.06-.94-.94-2.06-.94 2.06-2.06.94zm-11 1L8.5 8.5l.94-2.06 2.06-.94-2.06-.94L8.5 2.5l-.94 2.06-2.06.94zm10 10l.94 2.06.94-2.06 2.06-.94-2.06-.94-.94-2.06-.94 2.06-2.06.94z\"/><path d=\"M17.41 7.96l-1.37-1.37c-.4-.4-.92-.59-1.43-.59-.52 0-1.04.2-1.43.59L10.3 9.45l-7.72 7.72c-.78.78-.78 2.05 0 2.83L4 21.41c.39.39.9.59 1.41.59.51 0 1.02-.2 1.41-.59l7.78-7.78 2.81-2.81c.8-.78.8-2.07 0-2.86zM5.41 20L4 18.59l7.72-7.72 1.47 1.35L5.41 20z\"/>\n",
              "  </svg>\n",
              "      </button>\n",
              "      \n",
              "  <style>\n",
              "    .colab-df-container {\n",
              "      display:flex;\n",
              "      flex-wrap:wrap;\n",
              "      gap: 12px;\n",
              "    }\n",
              "\n",
              "    .colab-df-convert {\n",
              "      background-color: #E8F0FE;\n",
              "      border: none;\n",
              "      border-radius: 50%;\n",
              "      cursor: pointer;\n",
              "      display: none;\n",
              "      fill: #1967D2;\n",
              "      height: 32px;\n",
              "      padding: 0 0 0 0;\n",
              "      width: 32px;\n",
              "    }\n",
              "\n",
              "    .colab-df-convert:hover {\n",
              "      background-color: #E2EBFA;\n",
              "      box-shadow: 0px 1px 2px rgba(60, 64, 67, 0.3), 0px 1px 3px 1px rgba(60, 64, 67, 0.15);\n",
              "      fill: #174EA6;\n",
              "    }\n",
              "\n",
              "    [theme=dark] .colab-df-convert {\n",
              "      background-color: #3B4455;\n",
              "      fill: #D2E3FC;\n",
              "    }\n",
              "\n",
              "    [theme=dark] .colab-df-convert:hover {\n",
              "      background-color: #434B5C;\n",
              "      box-shadow: 0px 1px 3px 1px rgba(0, 0, 0, 0.15);\n",
              "      filter: drop-shadow(0px 1px 2px rgba(0, 0, 0, 0.3));\n",
              "      fill: #FFFFFF;\n",
              "    }\n",
              "  </style>\n",
              "\n",
              "      <script>\n",
              "        const buttonEl =\n",
              "          document.querySelector('#df-7853eea1-0c48-4aff-81ed-df5686641f92 button.colab-df-convert');\n",
              "        buttonEl.style.display =\n",
              "          google.colab.kernel.accessAllowed ? 'block' : 'none';\n",
              "\n",
              "        async function convertToInteractive(key) {\n",
              "          const element = document.querySelector('#df-7853eea1-0c48-4aff-81ed-df5686641f92');\n",
              "          const dataTable =\n",
              "            await google.colab.kernel.invokeFunction('convertToInteractive',\n",
              "                                                     [key], {});\n",
              "          if (!dataTable) return;\n",
              "\n",
              "          const docLinkHtml = 'Like what you see? Visit the ' +\n",
              "            '<a target=\"_blank\" href=https://colab.research.google.com/notebooks/data_table.ipynb>data table notebook</a>'\n",
              "            + ' to learn more about interactive tables.';\n",
              "          element.innerHTML = '';\n",
              "          dataTable['output_type'] = 'display_data';\n",
              "          await google.colab.output.renderOutput(dataTable, element);\n",
              "          const docLink = document.createElement('div');\n",
              "          docLink.innerHTML = docLinkHtml;\n",
              "          element.appendChild(docLink);\n",
              "        }\n",
              "      </script>\n",
              "    </div>\n",
              "  </div>\n",
              "  "
            ]
          },
          "metadata": {},
          "execution_count": 91
        }
      ]
    },
    {
      "cell_type": "code",
      "source": [
        "fig = plt.gcf();\n",
        "fig.set_size_inches(12, 8);\n",
        "\n",
        "sns.lineplot(x = accuracy_df.index, y = accuracy_df.Accuracy*100);\n",
        "sns.barplot(x = accuracy_df.index, y = accuracy_df.Accuracy*100);\n",
        "\n",
        "for i, val in enumerate(accuracy_df.index):\n",
        "    y = round(accuracy_df.loc[val].sum()*100, 3)\n",
        "    plt.text(i, y-5, str(y), ha = \"center\")"
      ],
      "metadata": {
        "colab": {
          "base_uri": "https://localhost:8080/",
          "height": 483
        },
        "id": "bgv8LHXOeYsE",
        "outputId": "68a3268c-aa9a-4ca7-afd7-46c614c8fdce"
      },
      "execution_count": 92,
      "outputs": [
        {
          "output_type": "display_data",
          "data": {
            "text/plain": [
              "<Figure size 864x576 with 1 Axes>"
            ],
            "image/png": "[encoded data removed]"
          },
          "metadata": {
            "needs_background": "light"
          }
        }
      ]
    },
    {
      "cell_type": "code",
      "source": [
        "import pickle"
      ],
      "metadata": {
        "id": "rjhm0HgoERnx"
      },
      "execution_count": 93,
      "outputs": []
    },
    {
      "cell_type": "code",
      "source": [
        "filename = 'trained_model.sav'\n",
        "pickle.dump(classifier_rf,open(filename,'wb'))"
      ],
      "metadata": {
        "id": "ilBRWGViERvp"
      },
      "execution_count": 94,
      "outputs": []
    },
    {
      "cell_type": "code",
      "source": [
        "loaded_model=pickle.load(open('trained_model.sav','rb'))"
      ],
      "metadata": {
        "id": "DOakVo4SERyc"
      },
      "execution_count": 95,
      "outputs": []
    }
  ],
  "metadata": {
    "colab": {
      "provenance": []
    },
    "kernelspec": {
      "display_name": "Python 3",
      "language": "python",
      "name": "python3"
    },
    "language_info": {
      "codemirror_mode": {
        "name": "ipython",
        "version": 3
      },
      "file_extension": ".py",
      "mimetype": "text/x-python",
      "name": "python",
      "nbconvert_exporter": "python",
      "pygments_lexer": "ipython3",
      "version": "3.8.3"
    }
  },
  "nbformat": 4,
  "nbformat_minor": 0
}