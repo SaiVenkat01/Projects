{
  "cells": [
    {
      "cell_type": "markdown",
      "metadata": {
        "id": "8eSpOZfI0Dcu"
      },
      "source": [
        "#Importing libraries"
      ]
    },
    {
      "cell_type": "code",
      "execution_count": 1,
      "metadata": {
        "id": "yGWJ9lhdz-eP"
      },
      "outputs": [],
      "source": [
        "import numpy as np\n",
        "import pandas as pd\n",
        "import matplotlib.pyplot as plt\n",
        "import seaborn as sns"
      ]
    },
    {
      "cell_type": "markdown",
      "metadata": {
        "id": "hUDysljI18u0"
      },
      "source": [
        "#Importing Dataset"
      ]
    },
    {
      "cell_type": "code",
      "execution_count": 2,
      "metadata": {
        "id": "KsIMacGj17iT"
      },
      "outputs": [],
      "source": [
        "dataset = pd.read_csv('weatherAUS.csv')\n"
      ]
    },
    {
      "cell_type": "code",
      "source": [
        "dataset.head()"
      ],
      "metadata": {
        "colab": {
          "base_uri": "https://localhost:8080/",
          "height": 386
        },
        "id": "dF-E04-WQaDg",
        "outputId": "7979157e-b223-40c5-d9d0-ea37330800e5"
      },
      "execution_count": 3,
      "outputs": [
        {
          "output_type": "execute_result",
          "data": {
            "text/plain": [
              "         Date Location  MinTemp  MaxTemp  Rainfall  Evaporation  Sunshine  \\\n",
              "0  2008-12-01   Albury     13.4     22.9       0.6          NaN       NaN   \n",
              "1  2008-12-02   Albury      7.4     25.1       0.0          NaN       NaN   \n",
              "2  2008-12-03   Albury     12.9     25.7       0.0          NaN       NaN   \n",
              "3  2008-12-04   Albury      9.2     28.0       0.0          NaN       NaN   \n",
              "4  2008-12-05   Albury     17.5     32.3       1.0          NaN       NaN   \n",
              "\n",
              "  WindGustDir  WindGustSpeed WindDir9am  ... Humidity9am  Humidity3pm  \\\n",
              "0           W           44.0          W  ...        71.0         22.0   \n",
              "1         WNW           44.0        NNW  ...        44.0         25.0   \n",
              "2         WSW           46.0          W  ...        38.0         30.0   \n",
              "3          NE           24.0         SE  ...        45.0         16.0   \n",
              "4           W           41.0        ENE  ...        82.0         33.0   \n",
              "\n",
              "   Pressure9am  Pressure3pm  Cloud9am  Cloud3pm  Temp9am  Temp3pm  RainToday  \\\n",
              "0       1007.7       1007.1       8.0       NaN     16.9     21.8         No   \n",
              "1       1010.6       1007.8       NaN       NaN     17.2     24.3         No   \n",
              "2       1007.6       1008.7       NaN       2.0     21.0     23.2         No   \n",
              "3       1017.6       1012.8       NaN       NaN     18.1     26.5         No   \n",
              "4       1010.8       1006.0       7.0       8.0     17.8     29.7         No   \n",
              "\n",
              "   RainTomorrow  \n",
              "0            No  \n",
              "1            No  \n",
              "2            No  \n",
              "3            No  \n",
              "4            No  \n",
              "\n",
              "[5 rows x 23 columns]"
            ],
            "text/html": [
              "\n",
              "  <div id=\"df-03f238f3-fcb2-44a0-8b69-ab6325d185bc\">\n",
              "    <div class=\"colab-df-container\">\n",
              "      <div>\n",
              "<style scoped>\n",
              "    .dataframe tbody tr th:only-of-type {\n",
              "        vertical-align: middle;\n",
              "    }\n",
              "\n",
              "    .dataframe tbody tr th {\n",
              "        vertical-align: top;\n",
              "    }\n",
              "\n",
              "    .dataframe thead th {\n",
              "        text-align: right;\n",
              "    }\n",
              "</style>\n",
              "<table border=\"1\" class=\"dataframe\">\n",
              "  <thead>\n",
              "    <tr style=\"text-align: right;\">\n",
              "      <th></th>\n",
              "      <th>Date</th>\n",
              "      <th>Location</th>\n",
              "      <th>MinTemp</th>\n",
              "      <th>MaxTemp</th>\n",
              "      <th>Rainfall</th>\n",
              "      <th>Evaporation</th>\n",
              "      <th>Sunshine</th>\n",
              "      <th>WindGustDir</th>\n",
              "      <th>WindGustSpeed</th>\n",
              "      <th>WindDir9am</th>\n",
              "      <th>...</th>\n",
              "      <th>Humidity9am</th>\n",
              "      <th>Humidity3pm</th>\n",
              "      <th>Pressure9am</th>\n",
              "      <th>Pressure3pm</th>\n",
              "      <th>Cloud9am</th>\n",
              "      <th>Cloud3pm</th>\n",
              "      <th>Temp9am</th>\n",
              "      <th>Temp3pm</th>\n",
              "      <th>RainToday</th>\n",
              "      <th>RainTomorrow</th>\n",
              "    </tr>\n",
              "  </thead>\n",
              "  <tbody>\n",
              "    <tr>\n",
              "      <th>0</th>\n",
              "      <td>2008-12-01</td>\n",
              "      <td>Albury</td>\n",
              "      <td>13.4</td>\n",
              "      <td>22.9</td>\n",
              "      <td>0.6</td>\n",
              "      <td>NaN</td>\n",
              "      <td>NaN</td>\n",
              "      <td>W</td>\n",
              "      <td>44.0</td>\n",
              "      <td>W</td>\n",
              "      <td>...</td>\n",
              "      <td>71.0</td>\n",
              "      <td>22.0</td>\n",
              "      <td>1007.7</td>\n",
              "      <td>1007.1</td>\n",
              "      <td>8.0</td>\n",
              "      <td>NaN</td>\n",
              "      <td>16.9</td>\n",
              "      <td>21.8</td>\n",
              "      <td>No</td>\n",
              "      <td>No</td>\n",
              "    </tr>\n",
              "    <tr>\n",
              "      <th>1</th>\n",
              "      <td>2008-12-02</td>\n",
              "      <td>Albury</td>\n",
              "      <td>7.4</td>\n",
              "      <td>25.1</td>\n",
              "      <td>0.0</td>\n",
              "      <td>NaN</td>\n",
              "      <td>NaN</td>\n",
              "      <td>WNW</td>\n",
              "      <td>44.0</td>\n",
              "      <td>NNW</td>\n",
              "      <td>...</td>\n",
              "      <td>44.0</td>\n",
              "      <td>25.0</td>\n",
              "      <td>1010.6</td>\n",
              "      <td>1007.8</td>\n",
              "      <td>NaN</td>\n",
              "      <td>NaN</td>\n",
              "      <td>17.2</td>\n",
              "      <td>24.3</td>\n",
              "      <td>No</td>\n",
              "      <td>No</td>\n",
              "    </tr>\n",
              "    <tr>\n",
              "      <th>2</th>\n",
              "      <td>2008-12-03</td>\n",
              "      <td>Albury</td>\n",
              "      <td>12.9</td>\n",
              "      <td>25.7</td>\n",
              "      <td>0.0</td>\n",
              "      <td>NaN</td>\n",
              "      <td>NaN</td>\n",
              "      <td>WSW</td>\n",
              "      <td>46.0</td>\n",
              "      <td>W</td>\n",
              "      <td>...</td>\n",
              "      <td>38.0</td>\n",
              "      <td>30.0</td>\n",
              "      <td>1007.6</td>\n",
              "      <td>1008.7</td>\n",
              "      <td>NaN</td>\n",
              "      <td>2.0</td>\n",
              "      <td>21.0</td>\n",
              "      <td>23.2</td>\n",
              "      <td>No</td>\n",
              "      <td>No</td>\n",
              "    </tr>\n",
              "    <tr>\n",
              "      <th>3</th>\n",
              "      <td>2008-12-04</td>\n",
              "      <td>Albury</td>\n",
              "      <td>9.2</td>\n",
              "      <td>28.0</td>\n",
              "      <td>0.0</td>\n",
              "      <td>NaN</td>\n",
              "      <td>NaN</td>\n",
              "      <td>NE</td>\n",
              "      <td>24.0</td>\n",
              "      <td>SE</td>\n",
              "      <td>...</td>\n",
              "      <td>45.0</td>\n",
              "      <td>16.0</td>\n",
              "      <td>1017.6</td>\n",
              "      <td>1012.8</td>\n",
              "      <td>NaN</td>\n",
              "      <td>NaN</td>\n",
              "      <td>18.1</td>\n",
              "      <td>26.5</td>\n",
              "      <td>No</td>\n",
              "      <td>No</td>\n",
              "    </tr>\n",
              "    <tr>\n",
              "      <th>4</th>\n",
              "      <td>2008-12-05</td>\n",
              "      <td>Albury</td>\n",
              "      <td>17.5</td>\n",
              "      <td>32.3</td>\n",
              "      <td>1.0</td>\n",
              "      <td>NaN</td>\n",
              "      <td>NaN</td>\n",
              "      <td>W</td>\n",
              "      <td>41.0</td>\n",
              "      <td>ENE</td>\n",
              "      <td>...</td>\n",
              "      <td>82.0</td>\n",
              "      <td>33.0</td>\n",
              "      <td>1010.8</td>\n",
              "      <td>1006.0</td>\n",
              "      <td>7.0</td>\n",
              "      <td>8.0</td>\n",
              "      <td>17.8</td>\n",
              "      <td>29.7</td>\n",
              "      <td>No</td>\n",
              "      <td>No</td>\n",
              "    </tr>\n",
              "  </tbody>\n",
              "</table>\n",
              "<p>5 rows × 23 columns</p>\n",
              "</div>\n",
              "      <button class=\"colab-df-convert\" onclick=\"convertToInteractive('df-03f238f3-fcb2-44a0-8b69-ab6325d185bc')\"\n",
              "              title=\"Convert this dataframe to an interactive table.\"\n",
              "              style=\"display:none;\">\n",
              "        \n",
              "  <svg xmlns=\"http://www.w3.org/2000/svg\" height=\"24px\"viewBox=\"0 0 24 24\"\n",
              "       width=\"24px\">\n",
              "    <path d=\"M0 0h24v24H0V0z\" fill=\"none\"/>\n",
              "    <path d=\"M18.56 5.44l.94 2.06.94-2.06 2.06-.94-2.06-.94-.94-2.06-.94 2.06-2.06.94zm-11 1L8.5 8.5l.94-2.06 2.06-.94-2.06-.94L8.5 2.5l-.94 2.06-2.06.94zm10 10l.94 2.06.94-2.06 2.06-.94-2.06-.94-.94-2.06-.94 2.06-2.06.94z\"/><path d=\"M17.41 7.96l-1.37-1.37c-.4-.4-.92-.59-1.43-.59-.52 0-1.04.2-1.43.59L10.3 9.45l-7.72 7.72c-.78.78-.78 2.05 0 2.83L4 21.41c.39.39.9.59 1.41.59.51 0 1.02-.2 1.41-.59l7.78-7.78 2.81-2.81c.8-.78.8-2.07 0-2.86zM5.41 20L4 18.59l7.72-7.72 1.47 1.35L5.41 20z\"/>\n",
              "  </svg>\n",
              "      </button>\n",
              "      \n",
              "  <style>\n",
              "    .colab-df-container {\n",
              "      display:flex;\n",
              "      flex-wrap:wrap;\n",
              "      gap: 12px;\n",
              "    }\n",
              "\n",
              "    .colab-df-convert {\n",
              "      background-color: #E8F0FE;\n",
              "      border: none;\n",
              "      border-radius: 50%;\n",
              "      cursor: pointer;\n",
              "      display: none;\n",
              "      fill: #1967D2;\n",
              "      height: 32px;\n",
              "      padding: 0 0 0 0;\n",
              "      width: 32px;\n",
              "    }\n",
              "\n",
              "    .colab-df-convert:hover {\n",
              "      background-color: #E2EBFA;\n",
              "      box-shadow: 0px 1px 2px rgba(60, 64, 67, 0.3), 0px 1px 3px 1px rgba(60, 64, 67, 0.15);\n",
              "      fill: #174EA6;\n",
              "    }\n",
              "\n",
              "    [theme=dark] .colab-df-convert {\n",
              "      background-color: #3B4455;\n",
              "      fill: #D2E3FC;\n",
              "    }\n",
              "\n",
              "    [theme=dark] .colab-df-convert:hover {\n",
              "      background-color: #434B5C;\n",
              "      box-shadow: 0px 1px 3px 1px rgba(0, 0, 0, 0.15);\n",
              "      filter: drop-shadow(0px 1px 2px rgba(0, 0, 0, 0.3));\n",
              "      fill: #FFFFFF;\n",
              "    }\n",
              "  </style>\n",
              "\n",
              "      <script>\n",
              "        const buttonEl =\n",
              "          document.querySelector('#df-03f238f3-fcb2-44a0-8b69-ab6325d185bc button.colab-df-convert');\n",
              "        buttonEl.style.display =\n",
              "          google.colab.kernel.accessAllowed ? 'block' : 'none';\n",
              "\n",
              "        async function convertToInteractive(key) {\n",
              "          const element = document.querySelector('#df-03f238f3-fcb2-44a0-8b69-ab6325d185bc');\n",
              "          const dataTable =\n",
              "            await google.colab.kernel.invokeFunction('convertToInteractive',\n",
              "                                                     [key], {});\n",
              "          if (!dataTable) return;\n",
              "\n",
              "          const docLinkHtml = 'Like what you see? Visit the ' +\n",
              "            '<a target=\"_blank\" href=https://colab.research.google.com/notebooks/data_table.ipynb>data table notebook</a>'\n",
              "            + ' to learn more about interactive tables.';\n",
              "          element.innerHTML = '';\n",
              "          dataTable['output_type'] = 'display_data';\n",
              "          await google.colab.output.renderOutput(dataTable, element);\n",
              "          const docLink = document.createElement('div');\n",
              "          docLink.innerHTML = docLinkHtml;\n",
              "          element.appendChild(docLink);\n",
              "        }\n",
              "      </script>\n",
              "    </div>\n",
              "  </div>\n",
              "  "
            ]
          },
          "metadata": {},
          "execution_count": 3
        }
      ]
    },
    {
      "cell_type": "code",
      "source": [
        "#Describe Method says the statistics of our data like Maxvalue,Mean,Count..etc for every column\n",
        " \n",
        "dataset.describe() "
      ],
      "metadata": {
        "colab": {
          "base_uri": "https://localhost:8080/",
          "height": 364
        },
        "id": "H8aY7T2mQm48",
        "outputId": "ef92731f-afc4-4aea-93b4-2707eb1acbe0"
      },
      "execution_count": 4,
      "outputs": [
        {
          "output_type": "execute_result",
          "data": {
            "text/plain": [
              "             MinTemp        MaxTemp       Rainfall   Evaporation  \\\n",
              "count  143975.000000  144199.000000  142199.000000  82670.000000   \n",
              "mean       12.194034      23.221348       2.360918      5.468232   \n",
              "std         6.398495       7.119049       8.478060      4.193704   \n",
              "min        -8.500000      -4.800000       0.000000      0.000000   \n",
              "25%         7.600000      17.900000       0.000000      2.600000   \n",
              "50%        12.000000      22.600000       0.000000      4.800000   \n",
              "75%        16.900000      28.200000       0.800000      7.400000   \n",
              "max        33.900000      48.100000     371.000000    145.000000   \n",
              "\n",
              "           Sunshine  WindGustSpeed   WindSpeed9am   WindSpeed3pm  \\\n",
              "count  75625.000000  135197.000000  143693.000000  142398.000000   \n",
              "mean       7.611178      40.035230      14.043426      18.662657   \n",
              "std        3.785483      13.607062       8.915375       8.809800   \n",
              "min        0.000000       6.000000       0.000000       0.000000   \n",
              "25%        4.800000      31.000000       7.000000      13.000000   \n",
              "50%        8.400000      39.000000      13.000000      19.000000   \n",
              "75%       10.600000      48.000000      19.000000      24.000000   \n",
              "max       14.500000     135.000000     130.000000      87.000000   \n",
              "\n",
              "         Humidity9am    Humidity3pm   Pressure9am    Pressure3pm  \\\n",
              "count  142806.000000  140953.000000  130395.00000  130432.000000   \n",
              "mean       68.880831      51.539116    1017.64994    1015.255889   \n",
              "std        19.029164      20.795902       7.10653       7.037414   \n",
              "min         0.000000       0.000000     980.50000     977.100000   \n",
              "25%        57.000000      37.000000    1012.90000    1010.400000   \n",
              "50%        70.000000      52.000000    1017.60000    1015.200000   \n",
              "75%        83.000000      66.000000    1022.40000    1020.000000   \n",
              "max       100.000000     100.000000    1041.00000    1039.600000   \n",
              "\n",
              "           Cloud9am      Cloud3pm        Temp9am       Temp3pm  \n",
              "count  89572.000000  86102.000000  143693.000000  141851.00000  \n",
              "mean       4.447461      4.509930      16.990631      21.68339  \n",
              "std        2.887159      2.720357       6.488753       6.93665  \n",
              "min        0.000000      0.000000      -7.200000      -5.40000  \n",
              "25%        1.000000      2.000000      12.300000      16.60000  \n",
              "50%        5.000000      5.000000      16.700000      21.10000  \n",
              "75%        7.000000      7.000000      21.600000      26.40000  \n",
              "max        9.000000      9.000000      40.200000      46.70000  "
            ],
            "text/html": [
              "\n",
              "  <div id=\"df-e99fc442-49f0-4464-bda4-a308c170e9bc\">\n",
              "    <div class=\"colab-df-container\">\n",
              "      <div>\n",
              "<style scoped>\n",
              "    .dataframe tbody tr th:only-of-type {\n",
              "        vertical-align: middle;\n",
              "    }\n",
              "\n",
              "    .dataframe tbody tr th {\n",
              "        vertical-align: top;\n",
              "    }\n",
              "\n",
              "    .dataframe thead th {\n",
              "        text-align: right;\n",
              "    }\n",
              "</style>\n",
              "<table border=\"1\" class=\"dataframe\">\n",
              "  <thead>\n",
              "    <tr style=\"text-align: right;\">\n",
              "      <th></th>\n",
              "      <th>MinTemp</th>\n",
              "      <th>MaxTemp</th>\n",
              "      <th>Rainfall</th>\n",
              "      <th>Evaporation</th>\n",
              "      <th>Sunshine</th>\n",
              "      <th>WindGustSpeed</th>\n",
              "      <th>WindSpeed9am</th>\n",
              "      <th>WindSpeed3pm</th>\n",
              "      <th>Humidity9am</th>\n",
              "      <th>Humidity3pm</th>\n",
              "      <th>Pressure9am</th>\n",
              "      <th>Pressure3pm</th>\n",
              "      <th>Cloud9am</th>\n",
              "      <th>Cloud3pm</th>\n",
              "      <th>Temp9am</th>\n",
              "      <th>Temp3pm</th>\n",
              "    </tr>\n",
              "  </thead>\n",
              "  <tbody>\n",
              "    <tr>\n",
              "      <th>count</th>\n",
              "      <td>143975.000000</td>\n",
              "      <td>144199.000000</td>\n",
              "      <td>142199.000000</td>\n",
              "      <td>82670.000000</td>\n",
              "      <td>75625.000000</td>\n",
              "      <td>135197.000000</td>\n",
              "      <td>143693.000000</td>\n",
              "      <td>142398.000000</td>\n",
              "      <td>142806.000000</td>\n",
              "      <td>140953.000000</td>\n",
              "      <td>130395.00000</td>\n",
              "      <td>130432.000000</td>\n",
              "      <td>89572.000000</td>\n",
              "      <td>86102.000000</td>\n",
              "      <td>143693.000000</td>\n",
              "      <td>141851.00000</td>\n",
              "    </tr>\n",
              "    <tr>\n",
              "      <th>mean</th>\n",
              "      <td>12.194034</td>\n",
              "      <td>23.221348</td>\n",
              "      <td>2.360918</td>\n",
              "      <td>5.468232</td>\n",
              "      <td>7.611178</td>\n",
              "      <td>40.035230</td>\n",
              "      <td>14.043426</td>\n",
              "      <td>18.662657</td>\n",
              "      <td>68.880831</td>\n",
              "      <td>51.539116</td>\n",
              "      <td>1017.64994</td>\n",
              "      <td>1015.255889</td>\n",
              "      <td>4.447461</td>\n",
              "      <td>4.509930</td>\n",
              "      <td>16.990631</td>\n",
              "      <td>21.68339</td>\n",
              "    </tr>\n",
              "    <tr>\n",
              "      <th>std</th>\n",
              "      <td>6.398495</td>\n",
              "      <td>7.119049</td>\n",
              "      <td>8.478060</td>\n",
              "      <td>4.193704</td>\n",
              "      <td>3.785483</td>\n",
              "      <td>13.607062</td>\n",
              "      <td>8.915375</td>\n",
              "      <td>8.809800</td>\n",
              "      <td>19.029164</td>\n",
              "      <td>20.795902</td>\n",
              "      <td>7.10653</td>\n",
              "      <td>7.037414</td>\n",
              "      <td>2.887159</td>\n",
              "      <td>2.720357</td>\n",
              "      <td>6.488753</td>\n",
              "      <td>6.93665</td>\n",
              "    </tr>\n",
              "    <tr>\n",
              "      <th>min</th>\n",
              "      <td>-8.500000</td>\n",
              "      <td>-4.800000</td>\n",
              "      <td>0.000000</td>\n",
              "      <td>0.000000</td>\n",
              "      <td>0.000000</td>\n",
              "      <td>6.000000</td>\n",
              "      <td>0.000000</td>\n",
              "      <td>0.000000</td>\n",
              "      <td>0.000000</td>\n",
              "      <td>0.000000</td>\n",
              "      <td>980.50000</td>\n",
              "      <td>977.100000</td>\n",
              "      <td>0.000000</td>\n",
              "      <td>0.000000</td>\n",
              "      <td>-7.200000</td>\n",
              "      <td>-5.40000</td>\n",
              "    </tr>\n",
              "    <tr>\n",
              "      <th>25%</th>\n",
              "      <td>7.600000</td>\n",
              "      <td>17.900000</td>\n",
              "      <td>0.000000</td>\n",
              "      <td>2.600000</td>\n",
              "      <td>4.800000</td>\n",
              "      <td>31.000000</td>\n",
              "      <td>7.000000</td>\n",
              "      <td>13.000000</td>\n",
              "      <td>57.000000</td>\n",
              "      <td>37.000000</td>\n",
              "      <td>1012.90000</td>\n",
              "      <td>1010.400000</td>\n",
              "      <td>1.000000</td>\n",
              "      <td>2.000000</td>\n",
              "      <td>12.300000</td>\n",
              "      <td>16.60000</td>\n",
              "    </tr>\n",
              "    <tr>\n",
              "      <th>50%</th>\n",
              "      <td>12.000000</td>\n",
              "      <td>22.600000</td>\n",
              "      <td>0.000000</td>\n",
              "      <td>4.800000</td>\n",
              "      <td>8.400000</td>\n",
              "      <td>39.000000</td>\n",
              "      <td>13.000000</td>\n",
              "      <td>19.000000</td>\n",
              "      <td>70.000000</td>\n",
              "      <td>52.000000</td>\n",
              "      <td>1017.60000</td>\n",
              "      <td>1015.200000</td>\n",
              "      <td>5.000000</td>\n",
              "      <td>5.000000</td>\n",
              "      <td>16.700000</td>\n",
              "      <td>21.10000</td>\n",
              "    </tr>\n",
              "    <tr>\n",
              "      <th>75%</th>\n",
              "      <td>16.900000</td>\n",
              "      <td>28.200000</td>\n",
              "      <td>0.800000</td>\n",
              "      <td>7.400000</td>\n",
              "      <td>10.600000</td>\n",
              "      <td>48.000000</td>\n",
              "      <td>19.000000</td>\n",
              "      <td>24.000000</td>\n",
              "      <td>83.000000</td>\n",
              "      <td>66.000000</td>\n",
              "      <td>1022.40000</td>\n",
              "      <td>1020.000000</td>\n",
              "      <td>7.000000</td>\n",
              "      <td>7.000000</td>\n",
              "      <td>21.600000</td>\n",
              "      <td>26.40000</td>\n",
              "    </tr>\n",
              "    <tr>\n",
              "      <th>max</th>\n",
              "      <td>33.900000</td>\n",
              "      <td>48.100000</td>\n",
              "      <td>371.000000</td>\n",
              "      <td>145.000000</td>\n",
              "      <td>14.500000</td>\n",
              "      <td>135.000000</td>\n",
              "      <td>130.000000</td>\n",
              "      <td>87.000000</td>\n",
              "      <td>100.000000</td>\n",
              "      <td>100.000000</td>\n",
              "      <td>1041.00000</td>\n",
              "      <td>1039.600000</td>\n",
              "      <td>9.000000</td>\n",
              "      <td>9.000000</td>\n",
              "      <td>40.200000</td>\n",
              "      <td>46.70000</td>\n",
              "    </tr>\n",
              "  </tbody>\n",
              "</table>\n",
              "</div>\n",
              "      <button class=\"colab-df-convert\" onclick=\"convertToInteractive('df-e99fc442-49f0-4464-bda4-a308c170e9bc')\"\n",
              "              title=\"Convert this dataframe to an interactive table.\"\n",
              "              style=\"display:none;\">\n",
              "        \n",
              "  <svg xmlns=\"http://www.w3.org/2000/svg\" height=\"24px\"viewBox=\"0 0 24 24\"\n",
              "       width=\"24px\">\n",
              "    <path d=\"M0 0h24v24H0V0z\" fill=\"none\"/>\n",
              "    <path d=\"M18.56 5.44l.94 2.06.94-2.06 2.06-.94-2.06-.94-.94-2.06-.94 2.06-2.06.94zm-11 1L8.5 8.5l.94-2.06 2.06-.94-2.06-.94L8.5 2.5l-.94 2.06-2.06.94zm10 10l.94 2.06.94-2.06 2.06-.94-2.06-.94-.94-2.06-.94 2.06-2.06.94z\"/><path d=\"M17.41 7.96l-1.37-1.37c-.4-.4-.92-.59-1.43-.59-.52 0-1.04.2-1.43.59L10.3 9.45l-7.72 7.72c-.78.78-.78 2.05 0 2.83L4 21.41c.39.39.9.59 1.41.59.51 0 1.02-.2 1.41-.59l7.78-7.78 2.81-2.81c.8-.78.8-2.07 0-2.86zM5.41 20L4 18.59l7.72-7.72 1.47 1.35L5.41 20z\"/>\n",
              "  </svg>\n",
              "      </button>\n",
              "      \n",
              "  <style>\n",
              "    .colab-df-container {\n",
              "      display:flex;\n",
              "      flex-wrap:wrap;\n",
              "      gap: 12px;\n",
              "    }\n",
              "\n",
              "    .colab-df-convert {\n",
              "      background-color: #E8F0FE;\n",
              "      border: none;\n",
              "      border-radius: 50%;\n",
              "      cursor: pointer;\n",
              "      display: none;\n",
              "      fill: #1967D2;\n",
              "      height: 32px;\n",
              "      padding: 0 0 0 0;\n",
              "      width: 32px;\n",
              "    }\n",
              "\n",
              "    .colab-df-convert:hover {\n",
              "      background-color: #E2EBFA;\n",
              "      box-shadow: 0px 1px 2px rgba(60, 64, 67, 0.3), 0px 1px 3px 1px rgba(60, 64, 67, 0.15);\n",
              "      fill: #174EA6;\n",
              "    }\n",
              "\n",
              "    [theme=dark] .colab-df-convert {\n",
              "      background-color: #3B4455;\n",
              "      fill: #D2E3FC;\n",
              "    }\n",
              "\n",
              "    [theme=dark] .colab-df-convert:hover {\n",
              "      background-color: #434B5C;\n",
              "      box-shadow: 0px 1px 3px 1px rgba(0, 0, 0, 0.15);\n",
              "      filter: drop-shadow(0px 1px 2px rgba(0, 0, 0, 0.3));\n",
              "      fill: #FFFFFF;\n",
              "    }\n",
              "  </style>\n",
              "\n",
              "      <script>\n",
              "        const buttonEl =\n",
              "          document.querySelector('#df-e99fc442-49f0-4464-bda4-a308c170e9bc button.colab-df-convert');\n",
              "        buttonEl.style.display =\n",
              "          google.colab.kernel.accessAllowed ? 'block' : 'none';\n",
              "\n",
              "        async function convertToInteractive(key) {\n",
              "          const element = document.querySelector('#df-e99fc442-49f0-4464-bda4-a308c170e9bc');\n",
              "          const dataTable =\n",
              "            await google.colab.kernel.invokeFunction('convertToInteractive',\n",
              "                                                     [key], {});\n",
              "          if (!dataTable) return;\n",
              "\n",
              "          const docLinkHtml = 'Like what you see? Visit the ' +\n",
              "            '<a target=\"_blank\" href=https://colab.research.google.com/notebooks/data_table.ipynb>data table notebook</a>'\n",
              "            + ' to learn more about interactive tables.';\n",
              "          element.innerHTML = '';\n",
              "          dataTable['output_type'] = 'display_data';\n",
              "          await google.colab.output.renderOutput(dataTable, element);\n",
              "          const docLink = document.createElement('div');\n",
              "          docLink.innerHTML = docLinkHtml;\n",
              "          element.appendChild(docLink);\n",
              "        }\n",
              "      </script>\n",
              "    </div>\n",
              "  </div>\n",
              "  "
            ]
          },
          "metadata": {},
          "execution_count": 4
        }
      ]
    },
    {
      "cell_type": "code",
      "source": [
        "#count all the null values in the data\n",
        "dataset.isna().sum()"
      ],
      "metadata": {
        "colab": {
          "base_uri": "https://localhost:8080/"
        },
        "id": "UsZD3ZwmQwRM",
        "outputId": "d0e1a8de-7e06-4bce-9109-071334783eb5"
      },
      "execution_count": 5,
      "outputs": [
        {
          "output_type": "execute_result",
          "data": {
            "text/plain": [
              "Date                 0\n",
              "Location             0\n",
              "MinTemp           1485\n",
              "MaxTemp           1261\n",
              "Rainfall          3261\n",
              "Evaporation      62790\n",
              "Sunshine         69835\n",
              "WindGustDir      10326\n",
              "WindGustSpeed    10263\n",
              "WindDir9am       10566\n",
              "WindDir3pm        4228\n",
              "WindSpeed9am      1767\n",
              "WindSpeed3pm      3062\n",
              "Humidity9am       2654\n",
              "Humidity3pm       4507\n",
              "Pressure9am      15065\n",
              "Pressure3pm      15028\n",
              "Cloud9am         55888\n",
              "Cloud3pm         59358\n",
              "Temp9am           1767\n",
              "Temp3pm           3609\n",
              "RainToday         3261\n",
              "RainTomorrow      3267\n",
              "dtype: int64"
            ]
          },
          "metadata": {},
          "execution_count": 5
        }
      ]
    },
    {
      "cell_type": "code",
      "source": [
        "#it is clear that evaporation and sunshine have more missing values so better remove them "
      ],
      "metadata": {
        "id": "1PJ252nVQ6Xg"
      },
      "execution_count": 6,
      "outputs": []
    },
    {
      "cell_type": "code",
      "source": [
        "#Counting the Count of 'NO' and 'YES' from the column RainTomorrow \n",
        "RT = dataset[\"RainTomorrow\"].value_counts(normalize = True)\n",
        "\n",
        "sns.barplot(x = RT.index, y = RT*100).set_title(\"Percentage of 'No' and 'Yes in 'RainTomorrow'\");"
      ],
      "metadata": {
        "colab": {
          "base_uri": "https://localhost:8080/",
          "height": 281
        },
        "id": "to4rCMiYRPV8",
        "outputId": "d3a7e3ba-aefc-429d-e44e-bb62337f911a"
      },
      "execution_count": 7,
      "outputs": [
        {
          "output_type": "display_data",
          "data": {
            "text/plain": [
              "<Figure size 432x288 with 1 Axes>"
            ],
            "image/png": "[encoded data removed]"
          },
          "metadata": {
            "needs_background": "light"
          }
        }
      ]
    },
    {
      "cell_type": "code",
      "metadata": {
        "id": "Rc3HsLy-RJut",
        "colab": {
          "base_uri": "https://localhost:8080/",
          "height": 774
        },
        "outputId": "c029528c-8bff-48ca-ef8e-096c409696fe"
      },
      "source": [
        "fig = plt.gcf()\n",
        "fig.set_size_inches((15, 12));\n",
        "\n",
        "dataset['RainToday'].replace({'No': 0, 'Yes': 1}, inplace  = True)\n",
        "dataset['RainTomorrow'].replace({'No': 0, 'Yes': 1}, inplace = True)\n",
        "\n",
        "sns.heatmap(dataset.corr(), annot = True, cmap = sns.color_palette(\"coolwarm\", as_cmap = True));"
      ],
      "execution_count": 8,
      "outputs": [
        {
          "output_type": "display_data",
          "data": {
            "text/plain": [
              "<Figure size 1080x864 with 2 Axes>"
            ],
            "image/png": "[encoded data removed]"
          },
          "metadata": {
            "needs_background": "light"
          }
        }
      ]
    },
    {
      "cell_type": "markdown",
      "source": [
        "## **cleaning and preprocessing**"
      ],
      "metadata": {
        "id": "tKfVbilcSFFz"
      }
    },
    {
      "cell_type": "markdown",
      "source": [
        "handling class imbalance\n"
      ],
      "metadata": {
        "id": "j2iwf1RmSTdd"
      }
    },
    {
      "cell_type": "code",
      "source": [
        "from sklearn.utils import resample\n",
        "\n",
        "no = dataset[dataset.RainTomorrow == 0]\n",
        "yes = dataset[dataset.RainTomorrow == 1]\n",
        "yes_oversampled = resample(yes, replace=True, n_samples=len(no), random_state=123)\n",
        "dataset = pd.concat([no, yes_oversampled])\n",
        "\n",
        "\n",
        "fig = plt.figure(figsize = (8,5))\n",
        "dataset.RainTomorrow.value_counts(normalize = True).plot(kind='bar', color= ['skyblue','navy'], alpha = 0.9, rot=0)\n",
        "plt.title('RainTomorrow Indicator No(0) and Yes(1) after Oversampling ')\n",
        "plt.show()"
      ],
      "metadata": {
        "id": "dpzUG4cLSB4K",
        "colab": {
          "base_uri": "https://localhost:8080/",
          "height": 336
        },
        "outputId": "da56ed17-4ae2-4e67-e8cd-4754f06867e3"
      },
      "execution_count": 9,
      "outputs": [
        {
          "output_type": "display_data",
          "data": {
            "text/plain": [
              "<Figure size 576x360 with 1 Axes>"
            ],
            "image/png": "[encoded data removed]"
          },
          "metadata": {
            "needs_background": "light"
          }
        }
      ]
    },
    {
      "cell_type": "markdown",
      "source": [
        ""
      ],
      "metadata": {
        "id": "Kuy1KQIISYA_"
      }
    },
    {
      "cell_type": "markdown",
      "source": [
        "## Feature Selection"
      ],
      "metadata": {
        "id": "DqcamAOVSnjz"
      }
    },
    {
      "cell_type": "markdown",
      "source": [
        "**bold text**"
      ],
      "metadata": {
        "id": "mHKmcVNUSBA0"
      }
    },
    {
      "cell_type": "code",
      "source": [
        "X = dataset.iloc[:,[1,2,3,4,7,8,9,10,11,12,13,14,15,16,17,18,19,20,21]].values\n",
        "Y = dataset.iloc[:,-1].values"
      ],
      "metadata": {
        "id": "C3-F1KblS4Tl"
      },
      "execution_count": 10,
      "outputs": []
    },
    {
      "cell_type": "code",
      "execution_count": 11,
      "metadata": {
        "id": "lmk-Nsft31Jr",
        "colab": {
          "base_uri": "https://localhost:8080/"
        },
        "outputId": "7d2a496e-65fa-47e8-eee3-1b61dd82db45"
      },
      "outputs": [
        {
          "output_type": "stream",
          "name": "stdout",
          "text": [
            "[['Albury' 13.4 22.9 ... 16.9 21.8 0.0]\n",
            " ['Albury' 7.4 25.1 ... 17.2 24.3 0.0]\n",
            " ['Albury' 12.9 25.7 ... 21.0 23.2 0.0]\n",
            " ...\n",
            " ['Cairns' 24.8 31.5 ... 28.7 30.3 0.0]\n",
            " ['Ballarat' 4.2 7.9 ... 4.6 6.8 1.0]\n",
            " ['Richmond' 19.5 31.6 ... 22.5 31.1 0.0]]\n"
          ]
        }
      ],
      "source": [
        "print(X)"
      ]
    },
    {
      "cell_type": "code",
      "execution_count": 12,
      "metadata": {
        "id": "6WaCq0E033ej",
        "colab": {
          "base_uri": "https://localhost:8080/"
        },
        "outputId": "b1e7a5d4-45e4-4613-8f70-4502854891aa"
      },
      "outputs": [
        {
          "output_type": "stream",
          "name": "stdout",
          "text": [
            "[0. 0. 0. ... 1. 1. 1.]\n"
          ]
        }
      ],
      "source": [
        "print(Y)"
      ]
    },
    {
      "cell_type": "code",
      "execution_count": 13,
      "metadata": {
        "id": "YbemIbgA68O-"
      },
      "outputs": [],
      "source": [
        "Y = Y.reshape(-1,1)"
      ]
    },
    {
      "cell_type": "markdown",
      "metadata": {
        "id": "MHIv1iaT4O8A"
      },
      "source": [
        "#Dealing with invalid Data"
      ]
    },
    {
      "cell_type": "code",
      "execution_count": 14,
      "metadata": {
        "id": "E_y92J5-345v"
      },
      "outputs": [],
      "source": [
        "from sklearn.impute import SimpleImputer\n",
        "imputer = SimpleImputer(missing_values=np.nan,strategy='most_frequent')\n",
        "X = imputer.fit_transform(X)\n",
        "Y = imputer.fit_transform(Y)"
      ]
    },
    {
      "cell_type": "code",
      "execution_count": 15,
      "metadata": {
        "id": "XPwVYJ2g5CG_",
        "colab": {
          "base_uri": "https://localhost:8080/"
        },
        "outputId": "aaaac681-1d0f-4e60-dee9-d977901ece12"
      },
      "outputs": [
        {
          "output_type": "stream",
          "name": "stdout",
          "text": [
            "[['Albury' 13.4 22.9 ... 16.9 21.8 0.0]\n",
            " ['Albury' 7.4 25.1 ... 17.2 24.3 0.0]\n",
            " ['Albury' 12.9 25.7 ... 21.0 23.2 0.0]\n",
            " ...\n",
            " ['Cairns' 24.8 31.5 ... 28.7 30.3 0.0]\n",
            " ['Ballarat' 4.2 7.9 ... 4.6 6.8 1.0]\n",
            " ['Richmond' 19.5 31.6 ... 22.5 31.1 0.0]]\n"
          ]
        }
      ],
      "source": [
        "print(X)"
      ]
    },
    {
      "cell_type": "code",
      "execution_count": 16,
      "metadata": {
        "id": "n5m3o-8x6ZWZ",
        "colab": {
          "base_uri": "https://localhost:8080/"
        },
        "outputId": "4a2e95a8-191b-49db-b5d4-1b0b5851b0cd"
      },
      "outputs": [
        {
          "output_type": "stream",
          "name": "stdout",
          "text": [
            "[[0.]\n",
            " [0.]\n",
            " [0.]\n",
            " ...\n",
            " [1.]\n",
            " [1.]\n",
            " [1.]]\n"
          ]
        }
      ],
      "source": [
        "print(Y)"
      ]
    },
    {
      "cell_type": "markdown",
      "metadata": {
        "id": "r2_RFG2N6zXN"
      },
      "source": [
        "#Encoding Dataset"
      ]
    },
    {
      "cell_type": "code",
      "execution_count": 17,
      "metadata": {
        "id": "2N_ESqUX6wZC"
      },
      "outputs": [],
      "source": [
        "from sklearn.preprocessing import LabelEncoder\n",
        "le1 = LabelEncoder()\n",
        "X[:,0] = le1.fit_transform(X[:,0])\n",
        "le2 = LabelEncoder()\n",
        "X[:,4] = le2.fit_transform(X[:,4])\n",
        "le3 = LabelEncoder()\n",
        "X[:,6] = le3.fit_transform(X[:,6])\n",
        "le4 = LabelEncoder()\n",
        "X[:,7] = le4.fit_transform(X[:,7])\n",
        "le5 = LabelEncoder()\n",
        "X[:,-1] = le5.fit_transform(X[:,-1])\n",
        "le6 = LabelEncoder()\n",
        "Y[:,-1] = le6.fit_transform(Y[:,-1])"
      ]
    },
    {
      "cell_type": "code",
      "execution_count": 18,
      "metadata": {
        "id": "Oj8Oj8iV8EIT",
        "colab": {
          "base_uri": "https://localhost:8080/"
        },
        "outputId": "8a96c71b-bb7a-41b1-a542-b02cf95cf17c"
      },
      "outputs": [
        {
          "output_type": "stream",
          "name": "stdout",
          "text": [
            "[[2 13.4 22.9 ... 16.9 21.8 0]\n",
            " [2 7.4 25.1 ... 17.2 24.3 0]\n",
            " [2 12.9 25.7 ... 21.0 23.2 0]\n",
            " ...\n",
            " [8 24.8 31.5 ... 28.7 30.3 0]\n",
            " [5 4.2 7.9 ... 4.6 6.8 1]\n",
            " [34 19.5 31.6 ... 22.5 31.1 0]]\n"
          ]
        }
      ],
      "source": [
        "print(X)"
      ]
    },
    {
      "cell_type": "code",
      "execution_count": 19,
      "metadata": {
        "id": "Nxi3qYsa9nyg",
        "colab": {
          "base_uri": "https://localhost:8080/"
        },
        "outputId": "253a5595-e93b-42a5-fdb6-083b4304a604"
      },
      "outputs": [
        {
          "output_type": "stream",
          "name": "stdout",
          "text": [
            "[[0.]\n",
            " [0.]\n",
            " [0.]\n",
            " ...\n",
            " [1.]\n",
            " [1.]\n",
            " [1.]]\n"
          ]
        }
      ],
      "source": [
        "print(Y)"
      ]
    },
    {
      "cell_type": "code",
      "execution_count": 20,
      "metadata": {
        "id": "NUml4zNfEVcQ",
        "colab": {
          "base_uri": "https://localhost:8080/"
        },
        "outputId": "be55dd4b-2e50-4278-e319-d771eefe4617"
      },
      "outputs": [
        {
          "output_type": "stream",
          "name": "stdout",
          "text": [
            "[[0.]\n",
            " [0.]\n",
            " [0.]\n",
            " ...\n",
            " [1.]\n",
            " [1.]\n",
            " [1.]]\n"
          ]
        }
      ],
      "source": [
        "Y = np.array(Y,dtype=float)\n",
        "print(Y)"
      ]
    },
    {
      "cell_type": "markdown",
      "metadata": {
        "id": "A8ZyRLlk8_PZ"
      },
      "source": [
        "#Feature Scaling"
      ]
    },
    {
      "cell_type": "code",
      "execution_count": 21,
      "metadata": {
        "id": "2XXzjA8k8FMs"
      },
      "outputs": [],
      "source": [
        "from sklearn.preprocessing import StandardScaler\n",
        "sc = StandardScaler()\n",
        "X = sc.fit_transform(X)"
      ]
    },
    {
      "cell_type": "code",
      "execution_count": 22,
      "metadata": {
        "id": "VHGXacqY-Jrg",
        "colab": {
          "base_uri": "https://localhost:8080/"
        },
        "outputId": "6650f4e7-7440-423b-91a8-1c9e94270bcb"
      },
      "outputs": [
        {
          "output_type": "stream",
          "name": "stdout",
          "text": [
            "[[-1.5296304   0.13989127  0.06345497 ...  0.00998997  0.15393456\n",
            "  -0.66291173]\n",
            " [-1.5296304  -0.80100322  0.37304035 ...  0.05663083  0.51760514\n",
            "  -0.66291173]\n",
            " [-1.5296304   0.0614834   0.45747273 ...  0.64741511  0.35759009\n",
            "  -0.66291173]\n",
            " ...\n",
            " [-1.10665539  1.9275908   1.27365237 ...  1.8445306   1.39041454\n",
            "  -0.66291173]\n",
            " [-1.31814289 -1.30281361 -2.04735446 ... -1.90228544 -2.02808893\n",
            "   1.50849646]\n",
            " [ 0.72623631  1.09646733  1.28772444 ...  0.88061942  1.50678913\n",
            "  -0.66291173]]\n"
          ]
        }
      ],
      "source": [
        "print(X)"
      ]
    },
    {
      "cell_type": "code",
      "source": [
        "Y"
      ],
      "metadata": {
        "id": "hiFblSkoTBys",
        "colab": {
          "base_uri": "https://localhost:8080/"
        },
        "outputId": "6c7763cb-11dc-4761-8c8c-5d7ac7a63507"
      },
      "execution_count": 23,
      "outputs": [
        {
          "output_type": "execute_result",
          "data": {
            "text/plain": [
              "array([[0.],\n",
              "       [0.],\n",
              "       [0.],\n",
              "       ...,\n",
              "       [1.],\n",
              "       [1.],\n",
              "       [1.]])"
            ]
          },
          "metadata": {},
          "execution_count": 23
        }
      ]
    },
    {
      "cell_type": "markdown",
      "source": [
        "## MODELLING"
      ],
      "metadata": {
        "id": "sOLvYslXTG9B"
      }
    },
    {
      "cell_type": "markdown",
      "metadata": {
        "id": "aQDbMGGl-QST"
      },
      "source": [
        "#Splitting Dataset into Training set and Test set"
      ]
    },
    {
      "cell_type": "code",
      "execution_count": 24,
      "metadata": {
        "id": "xpVKkTfM-KsN"
      },
      "outputs": [],
      "source": [
        "from sklearn.model_selection import train_test_split\n",
        "X_train,X_test,Y_train,Y_test = train_test_split(X,Y,test_size=0.2,random_state=0)"
      ]
    },
    {
      "cell_type": "code",
      "execution_count": 25,
      "metadata": {
        "id": "eA7K-Ygv_Z5b",
        "colab": {
          "base_uri": "https://localhost:8080/"
        },
        "outputId": "2c179b93-f37f-4757-e9d4-8d930619c8f1"
      },
      "outputs": [
        {
          "output_type": "stream",
          "name": "stdout",
          "text": [
            "[[ 0.02127796  1.34737253  1.37215681 ...  1.11382374  0.11029409\n",
            "  -0.66291173]\n",
            " [ 1.50169049 -0.33055597 -0.58385992 ... -0.79845166 -0.74796848\n",
            "   1.50849646]\n",
            " [ 0.37375714  0.72010954  1.97725552 ...  1.19155851  2.10320888\n",
            "  -0.66291173]\n",
            " ...\n",
            " [ 0.65574047  0.2496623   0.3167521  ...  1.08272983  0.00846633\n",
            "  -0.66291173]\n",
            " [-1.31814289 -0.58146117 -0.6682923  ... -0.67407603 -0.60250025\n",
            "  -0.66291173]\n",
            " [ 0.02127796  0.17125442 -0.5557158  ... -0.05219785 -0.39884472\n",
            "   1.50849646]]\n"
          ]
        }
      ],
      "source": [
        "print(X_train)"
      ]
    },
    {
      "cell_type": "code",
      "execution_count": 26,
      "metadata": {
        "id": "d2lROgxR_Z-e",
        "colab": {
          "base_uri": "https://localhost:8080/"
        },
        "outputId": "b44b055d-4c7b-4b64-d4ca-e99ba6b0618b"
      },
      "outputs": [
        {
          "output_type": "stream",
          "name": "stdout",
          "text": [
            "[[1.]\n",
            " [1.]\n",
            " [0.]\n",
            " ...\n",
            " [1.]\n",
            " [0.]\n",
            " [1.]]\n"
          ]
        }
      ],
      "source": [
        "print(Y_train)"
      ]
    },
    {
      "cell_type": "code",
      "source": [
        "Y_test.shape\n"
      ],
      "metadata": {
        "colab": {
          "base_uri": "https://localhost:8080/"
        },
        "id": "EDllo55_aGKq",
        "outputId": "e6b2c63b-1358-4e27-921d-a7c13c338804"
      },
      "execution_count": 27,
      "outputs": [
        {
          "output_type": "execute_result",
          "data": {
            "text/plain": [
              "(44127, 1)"
            ]
          },
          "metadata": {},
          "execution_count": 27
        }
      ]
    },
    {
      "cell_type": "markdown",
      "source": [
        "## MODELS"
      ],
      "metadata": {
        "id": "w9YbqTLETRiu"
      }
    },
    {
      "cell_type": "markdown",
      "metadata": {
        "id": "9wXaahXT-79-"
      },
      "source": [
        "#Training Model"
      ]
    },
    {
      "cell_type": "markdown",
      "source": [
        "# **Random Forest**"
      ],
      "metadata": {
        "id": "HOB4nqFWTWdk"
      }
    },
    {
      "cell_type": "code",
      "execution_count": 28,
      "metadata": {
        "id": "dgXgeZ43-uih",
        "colab": {
          "base_uri": "https://localhost:8080/"
        },
        "outputId": "b3fb4adc-d3d3-43bd-dea7-f6c7c14ec7e1"
      },
      "outputs": [
        {
          "output_type": "stream",
          "name": "stderr",
          "text": [
            "/usr/local/lib/python3.7/dist-packages/ipykernel_launcher.py:3: DataConversionWarning: A column-vector y was passed when a 1d array was expected. Please change the shape of y to (n_samples,), for example using ravel().\n",
            "  This is separate from the ipykernel package so we can avoid doing imports until\n"
          ]
        },
        {
          "output_type": "execute_result",
          "data": {
            "text/plain": [
              "RandomForestClassifier(random_state=0)"
            ]
          },
          "metadata": {},
          "execution_count": 28
        }
      ],
      "source": [
        "from sklearn.ensemble import RandomForestClassifier\n",
        "classifier_rf = RandomForestClassifier(n_estimators=100,random_state=0)\n",
        "classifier_rf.fit(X_train,Y_train)"
      ]
    },
    {
      "cell_type": "code",
      "execution_count": 29,
      "metadata": {
        "id": "cuEeou4R_UFC",
        "colab": {
          "base_uri": "https://localhost:8080/"
        },
        "outputId": "00fba3dd-0c20-433b-d521-ec5dd73db1c7"
      },
      "outputs": [
        {
          "output_type": "execute_result",
          "data": {
            "text/plain": [
              "0.9998413642673012"
            ]
          },
          "metadata": {},
          "execution_count": 29
        }
      ],
      "source": [
        "classifier_rf.score(X_train,Y_train)"
      ]
    },
    {
      "cell_type": "code",
      "execution_count": 30,
      "metadata": {
        "id": "54o6KevaEsvw",
        "colab": {
          "base_uri": "https://localhost:8080/"
        },
        "outputId": "24b8020a-5b30-42e4-dd8e-6ce8c4830503"
      },
      "outputs": [
        {
          "output_type": "stream",
          "name": "stderr",
          "text": [
            "/usr/local/lib/python3.7/dist-packages/sklearn/preprocessing/_label.py:154: DataConversionWarning: A column-vector y was passed when a 1d array was expected. Please change the shape of y to (n_samples, ), for example using ravel().\n",
            "  y = column_or_1d(y, warn=True)\n"
          ]
        }
      ],
      "source": [
        "y_pred_rf = le6.inverse_transform(np.array(classifier_rf.predict(X_test),dtype=int))\n",
        "Y_test_rf = le6.inverse_transform(np.array(Y_test,dtype=int))"
      ]
    },
    {
      "cell_type": "code",
      "execution_count": 31,
      "metadata": {
        "id": "WxFvXuQzJr7T",
        "colab": {
          "base_uri": "https://localhost:8080/"
        },
        "outputId": "543d217d-8406-4b6b-d09a-f5be5043a26b"
      },
      "outputs": [
        {
          "output_type": "stream",
          "name": "stdout",
          "text": [
            "[1. 1. 0. ... 0. 1. 0.]\n"
          ]
        }
      ],
      "source": [
        "print(y_pred_rf)"
      ]
    },
    {
      "cell_type": "code",
      "execution_count": 32,
      "metadata": {
        "id": "xt5Uti-IJsFk",
        "colab": {
          "base_uri": "https://localhost:8080/"
        },
        "outputId": "d506cb40-cd5e-43a1-cc07-10d2a7a1ac78"
      },
      "outputs": [
        {
          "output_type": "stream",
          "name": "stdout",
          "text": [
            "[0. 1. 0. ... 0. 1. 0.]\n"
          ]
        }
      ],
      "source": [
        "print(Y_test_rf)"
      ]
    },
    {
      "cell_type": "code",
      "execution_count": 33,
      "metadata": {
        "id": "h6ZPXyGhFdtK"
      },
      "outputs": [],
      "source": [
        "y_pred_rf = y_pred_rf.reshape(-1,1)\n",
        "Y_test_rf = Y_test_rf.reshape(-1,1)"
      ]
    },
    {
      "cell_type": "code",
      "execution_count": 34,
      "metadata": {
        "id": "oQsshF72E3Le"
      },
      "outputs": [],
      "source": [
        "df = np.concatenate((Y_test_rf,y_pred_rf),axis=1)\n",
        "dataframe = pd.DataFrame(df,columns=['Rain on Tommorrow','Predition of Rain'])"
      ]
    },
    {
      "cell_type": "code",
      "execution_count": 35,
      "metadata": {
        "id": "H_xbsXHSFVqu",
        "colab": {
          "base_uri": "https://localhost:8080/"
        },
        "outputId": "6b9b8c0a-c60b-4d4d-ef1a-15f094bdd667"
      },
      "outputs": [
        {
          "output_type": "stream",
          "name": "stdout",
          "text": [
            "       Rain on Tommorrow  Predition of Rain\n",
            "0                    0.0                1.0\n",
            "1                    1.0                1.0\n",
            "2                    0.0                0.0\n",
            "3                    0.0                1.0\n",
            "4                    1.0                1.0\n",
            "...                  ...                ...\n",
            "44122                0.0                0.0\n",
            "44123                1.0                1.0\n",
            "44124                0.0                0.0\n",
            "44125                1.0                1.0\n",
            "44126                0.0                0.0\n",
            "\n",
            "[44127 rows x 2 columns]\n"
          ]
        }
      ],
      "source": [
        "print(dataframe)"
      ]
    },
    {
      "cell_type": "markdown",
      "metadata": {
        "id": "yd9wEmlNFyE1"
      },
      "source": [
        "Calculating Accuracy of random forest"
      ]
    },
    {
      "cell_type": "code",
      "execution_count": 36,
      "metadata": {
        "id": "8dpLQaQiFpPV",
        "colab": {
          "base_uri": "https://localhost:8080/"
        },
        "outputId": "ec46652b-39b4-46b2-a382-b1a0d9b36402"
      },
      "outputs": [
        {
          "output_type": "execute_result",
          "data": {
            "text/plain": [
              "0.9471751988578422"
            ]
          },
          "metadata": {},
          "execution_count": 36
        }
      ],
      "source": [
        "from sklearn.metrics import accuracy_score\n",
        "acc_rfs=accuracy_score(Y_test_rf,y_pred_rf)\n",
        "acc_rfs"
      ]
    },
    {
      "cell_type": "code",
      "execution_count": 37,
      "metadata": {
        "id": "eCTjPeUjUM3Z",
        "colab": {
          "base_uri": "https://localhost:8080/"
        },
        "outputId": "4dfe5a26-ee2a-474a-968d-de996b4b9592"
      },
      "outputs": [
        {
          "output_type": "stream",
          "name": "stdout",
          "text": [
            "[[20233  1770]\n",
            " [  561 21563]]\n"
          ]
        }
      ],
      "source": [
        "from sklearn.metrics import confusion_matrix,plot_confusion_matrix\n",
        "cm=confusion_matrix(Y_test_rf,y_pred_rf)\n",
        "print(cm)\n"
      ]
    },
    {
      "cell_type": "code",
      "source": [
        "group_names = ['True Neg','False Pos','False Neg','True Pos']\n",
        "group_counts = [\"{0:0.0f}\".format(value) for value in\n",
        "                cm.flatten()]\n",
        "group_percentages = ['{0:.2%}'.format(value) for value in\n",
        "                     cm.flatten()/np.sum(cm)]\n",
        "labels = [f\"{v1}\\n{v2}\\n{v3}\" for v1, v2, v3 in\n",
        "          zip(group_names,group_counts,group_percentages)]\n",
        "labels = np.asarray(labels).reshape(2,2)\n",
        "sns.heatmap(cm, annot=labels, fmt=\"\", cmap='Blues');"
      ],
      "metadata": {
        "id": "XyPJP3x5WgZw",
        "colab": {
          "base_uri": "https://localhost:8080/",
          "height": 265
        },
        "outputId": "01c56453-d429-405f-f853-bb88d6967c47"
      },
      "execution_count": 38,
      "outputs": [
        {
          "output_type": "display_data",
          "data": {
            "text/plain": [
              "<Figure size 432x288 with 2 Axes>"
            ],
            "image/png": "[encoded data removed]"
          },
          "metadata": {
            "needs_background": "light"
          }
        }
      ]
    },
    {
      "cell_type": "code",
      "execution_count": 39,
      "metadata": {
        "id": "5daOdUGxUM3d",
        "colab": {
          "base_uri": "https://localhost:8080/"
        },
        "outputId": "853f1b80-960f-43fe-8597-c6d5b69bf110"
      },
      "outputs": [
        {
          "output_type": "stream",
          "name": "stdout",
          "text": [
            "              precision    recall  f1-score   support\n",
            "\n",
            "         0.0       0.97      0.92      0.95     22003\n",
            "         1.0       0.92      0.97      0.95     22124\n",
            "\n",
            "    accuracy                           0.95     44127\n",
            "   macro avg       0.95      0.95      0.95     44127\n",
            "weighted avg       0.95      0.95      0.95     44127\n",
            "\n"
          ]
        }
      ],
      "source": [
        "from sklearn.metrics import classification_report\n",
        "print(classification_report(Y_test_rf,y_pred_rf))"
      ]
    },
    {
      "cell_type": "markdown",
      "source": [
        "# **Logisitic Regression**"
      ],
      "metadata": {
        "id": "HN8lM5VjVMi1"
      }
    },
    {
      "cell_type": "code",
      "execution_count": 40,
      "metadata": {
        "id": "0EAkqZYQUM3e",
        "colab": {
          "base_uri": "https://localhost:8080/"
        },
        "outputId": "a916a23f-a60d-4418-c4dc-99e2622dab5a"
      },
      "outputs": [
        {
          "output_type": "stream",
          "name": "stderr",
          "text": [
            "/usr/local/lib/python3.7/dist-packages/sklearn/utils/validation.py:993: DataConversionWarning: A column-vector y was passed when a 1d array was expected. Please change the shape of y to (n_samples, ), for example using ravel().\n",
            "  y = column_or_1d(y, warn=True)\n"
          ]
        },
        {
          "output_type": "execute_result",
          "data": {
            "text/plain": [
              "LogisticRegression(random_state=0)"
            ]
          },
          "metadata": {},
          "execution_count": 40
        }
      ],
      "source": [
        "from sklearn.linear_model import LogisticRegression  \n",
        "classifier_lr = LogisticRegression(random_state=0)  \n",
        "classifier_lr.fit(X_train, Y_train)"
      ]
    },
    {
      "cell_type": "code",
      "execution_count": 41,
      "metadata": {
        "id": "iR3f9Rg5UM3f",
        "colab": {
          "base_uri": "https://localhost:8080/"
        },
        "outputId": "8791c21a-85a8-421f-f753-1afb13aa0b73"
      },
      "outputs": [
        {
          "output_type": "execute_result",
          "data": {
            "text/plain": [
              "0.7752528256989887"
            ]
          },
          "metadata": {},
          "execution_count": 41
        }
      ],
      "source": [
        "classifier_lr.score(X_train,Y_train)"
      ]
    },
    {
      "cell_type": "code",
      "execution_count": 42,
      "metadata": {
        "id": "VZAMDObSUM3g",
        "colab": {
          "base_uri": "https://localhost:8080/"
        },
        "outputId": "a722eeec-f028-4020-9b32-d76472703df6"
      },
      "outputs": [
        {
          "output_type": "stream",
          "name": "stderr",
          "text": [
            "/usr/local/lib/python3.7/dist-packages/sklearn/preprocessing/_label.py:154: DataConversionWarning: A column-vector y was passed when a 1d array was expected. Please change the shape of y to (n_samples, ), for example using ravel().\n",
            "  y = column_or_1d(y, warn=True)\n"
          ]
        }
      ],
      "source": [
        "y_pred_lr = le6.inverse_transform(np.array(classifier_lr.predict(X_test),dtype=int))\n",
        "Y_test_lr = le6.inverse_transform(np.array(Y_test,dtype=int))"
      ]
    },
    {
      "cell_type": "code",
      "execution_count": 43,
      "metadata": {
        "id": "OWZIXlM0UM3h",
        "colab": {
          "base_uri": "https://localhost:8080/"
        },
        "outputId": "34d77197-ca68-4c91-cc3a-22224d7dc7cd"
      },
      "outputs": [
        {
          "output_type": "stream",
          "name": "stdout",
          "text": [
            "[1. 1. 1. ... 0. 1. 1.]\n"
          ]
        }
      ],
      "source": [
        "print(y_pred_lr)"
      ]
    },
    {
      "cell_type": "code",
      "execution_count": 44,
      "metadata": {
        "id": "JkfEj6E-UM3h",
        "colab": {
          "base_uri": "https://localhost:8080/"
        },
        "outputId": "f7d20ada-febb-489e-d9b5-3cf52f6b58d6"
      },
      "outputs": [
        {
          "output_type": "stream",
          "name": "stdout",
          "text": [
            "[0. 1. 0. ... 0. 1. 0.]\n"
          ]
        }
      ],
      "source": [
        "print(Y_test_lr)"
      ]
    },
    {
      "cell_type": "code",
      "execution_count": 45,
      "metadata": {
        "id": "5X6q4npWUM3i"
      },
      "outputs": [],
      "source": [
        "y_pred_lr = y_pred_lr.reshape(-1,1)\n",
        "Y_test_lr = Y_test_lr.reshape(-1,1)"
      ]
    },
    {
      "cell_type": "code",
      "execution_count": 46,
      "metadata": {
        "id": "VQN_3topUM3i"
      },
      "outputs": [],
      "source": [
        "df = np.concatenate((Y_test_lr,y_pred_lr),axis=1)\n",
        "dataframe = pd.DataFrame(df,columns=['Rain on Tommorrow','Predition of Rain'])"
      ]
    },
    {
      "cell_type": "code",
      "execution_count": 47,
      "metadata": {
        "id": "Ztkl2K0rUM3j",
        "colab": {
          "base_uri": "https://localhost:8080/"
        },
        "outputId": "bb379e52-eeb4-45dd-d011-358087b6d91e"
      },
      "outputs": [
        {
          "output_type": "stream",
          "name": "stdout",
          "text": [
            "       Rain on Tommorrow  Predition of Rain\n",
            "0                    0.0                1.0\n",
            "1                    1.0                1.0\n",
            "2                    0.0                1.0\n",
            "3                    0.0                1.0\n",
            "4                    1.0                1.0\n",
            "...                  ...                ...\n",
            "44122                0.0                0.0\n",
            "44123                1.0                1.0\n",
            "44124                0.0                0.0\n",
            "44125                1.0                1.0\n",
            "44126                0.0                1.0\n",
            "\n",
            "[44127 rows x 2 columns]\n"
          ]
        }
      ],
      "source": [
        "print(dataframe)"
      ]
    },
    {
      "cell_type": "code",
      "execution_count": 48,
      "metadata": {
        "id": "AKgPBp4kUM3j",
        "colab": {
          "base_uri": "https://localhost:8080/"
        },
        "outputId": "b4ba0050-38e9-4735-b1da-16b2285e25ec"
      },
      "outputs": [
        {
          "output_type": "execute_result",
          "data": {
            "text/plain": [
              "0.7745824551861672"
            ]
          },
          "metadata": {},
          "execution_count": 48
        }
      ],
      "source": [
        "from sklearn.metrics import accuracy_score\n",
        "acc_lr=accuracy_score(Y_test_lr,y_pred_lr)\n",
        "acc_lr"
      ]
    },
    {
      "cell_type": "code",
      "execution_count": 49,
      "metadata": {
        "id": "v0MSXURIUM3k",
        "colab": {
          "base_uri": "https://localhost:8080/"
        },
        "outputId": "32a4f8b8-d9a2-4372-c4d7-ae00b13ec830"
      },
      "outputs": [
        {
          "output_type": "stream",
          "name": "stdout",
          "text": [
            "[[17398  4605]\n",
            " [ 5342 16782]]\n"
          ]
        }
      ],
      "source": [
        "from sklearn.metrics import confusion_matrix,plot_confusion_matrix\n",
        "cm_lr=confusion_matrix(Y_test_lr,y_pred_lr)\n",
        "print(cm_lr)\n"
      ]
    },
    {
      "cell_type": "code",
      "execution_count": 50,
      "metadata": {
        "id": "O_Gf85Z0UM3k",
        "colab": {
          "base_uri": "https://localhost:8080/",
          "height": 265
        },
        "outputId": "c9e203df-6ad5-476d-ef02-e41c581e9058"
      },
      "outputs": [
        {
          "output_type": "display_data",
          "data": {
            "text/plain": [
              "<Figure size 432x288 with 2 Axes>"
            ],
            "image/png": "[encoded data removed]"
          },
          "metadata": {
            "needs_background": "light"
          }
        }
      ],
      "source": [
        "group_names = ['True Neg','False Pos','False Neg','True Pos']\n",
        "group_counts = [\"{0:0.0f}\".format(value) for value in\n",
        "                cm_lr.flatten()]\n",
        "group_percentages = ['{0:.2%}'.format(value) for value in\n",
        "                     cm_lr.flatten()/np.sum(cm_lr)]\n",
        "labels = [f\"{v1}\\n{v2}\\n{v3}\" for v1, v2, v3 in\n",
        "          zip(group_names,group_counts,group_percentages)]\n",
        "labels = np.asarray(labels).reshape(2,2)\n",
        "sns.heatmap(cm, annot=labels, fmt=\"\", cmap='Reds');"
      ]
    },
    {
      "cell_type": "code",
      "execution_count": 51,
      "metadata": {
        "id": "Kzpu2Y0pUM3m",
        "colab": {
          "base_uri": "https://localhost:8080/"
        },
        "outputId": "f2903ea2-55bb-43f7-a391-fee6bcbbf263"
      },
      "outputs": [
        {
          "output_type": "stream",
          "name": "stdout",
          "text": [
            "              precision    recall  f1-score   support\n",
            "\n",
            "         0.0       0.77      0.79      0.78     22003\n",
            "         1.0       0.78      0.76      0.77     22124\n",
            "\n",
            "    accuracy                           0.77     44127\n",
            "   macro avg       0.77      0.77      0.77     44127\n",
            "weighted avg       0.77      0.77      0.77     44127\n",
            "\n"
          ]
        }
      ],
      "source": [
        "from sklearn.metrics import classification_report\n",
        "print(classification_report(Y_test_lr,y_pred_lr))"
      ]
    },
    {
      "cell_type": "markdown",
      "source": [
        "# **DecisionTree Classifier**"
      ],
      "metadata": {
        "id": "3WPc5rw_bvI0"
      }
    },
    {
      "cell_type": "code",
      "execution_count": 52,
      "metadata": {
        "id": "8b9XkER3UM3m",
        "colab": {
          "base_uri": "https://localhost:8080/"
        },
        "outputId": "ac863f75-2595-4984-cb9a-43efcff3a4b9"
      },
      "outputs": [
        {
          "output_type": "execute_result",
          "data": {
            "text/plain": [
              "DecisionTreeClassifier(criterion='entropy', random_state=0)"
            ]
          },
          "metadata": {},
          "execution_count": 52
        }
      ],
      "source": [
        "from sklearn.tree import DecisionTreeClassifier  \n",
        "classifier_dt = DecisionTreeClassifier(criterion='entropy', random_state=0)  \n",
        "classifier_dt.fit(X_train, Y_train)  "
      ]
    },
    {
      "cell_type": "code",
      "execution_count": 53,
      "metadata": {
        "id": "A1_Owql8UM3n",
        "colab": {
          "base_uri": "https://localhost:8080/"
        },
        "outputId": "2287adb0-9e65-40c2-d346-6ef6a1e346e9"
      },
      "outputs": [
        {
          "output_type": "execute_result",
          "data": {
            "text/plain": [
              "0.9998413642673012"
            ]
          },
          "metadata": {},
          "execution_count": 53
        }
      ],
      "source": [
        "classifier_dt.score(X_train,Y_train)"
      ]
    },
    {
      "cell_type": "code",
      "execution_count": 54,
      "metadata": {
        "id": "-Nu4WH8kUM3p",
        "colab": {
          "base_uri": "https://localhost:8080/"
        },
        "outputId": "f0e8c156-65b8-4e95-87b3-313f72ac0dd9"
      },
      "outputs": [
        {
          "output_type": "stream",
          "name": "stderr",
          "text": [
            "/usr/local/lib/python3.7/dist-packages/sklearn/preprocessing/_label.py:154: DataConversionWarning: A column-vector y was passed when a 1d array was expected. Please change the shape of y to (n_samples, ), for example using ravel().\n",
            "  y = column_or_1d(y, warn=True)\n"
          ]
        }
      ],
      "source": [
        "y_pred_dt = le6.inverse_transform(np.array(classifier_dt.predict(X_test),dtype=int))\n",
        "Y_test_dt = le6.inverse_transform(np.array(Y_test,dtype=int))"
      ]
    },
    {
      "cell_type": "code",
      "execution_count": 55,
      "metadata": {
        "id": "--QdrSKUUM3q",
        "colab": {
          "base_uri": "https://localhost:8080/"
        },
        "outputId": "4b71442b-a597-462d-d331-e08beb9a9d35"
      },
      "outputs": [
        {
          "output_type": "stream",
          "name": "stdout",
          "text": [
            "[0. 1. 0. ... 0. 1. 0.]\n"
          ]
        }
      ],
      "source": [
        "print(y_pred_dt)"
      ]
    },
    {
      "cell_type": "code",
      "execution_count": 56,
      "metadata": {
        "id": "1UsBkFqrUM3s",
        "colab": {
          "base_uri": "https://localhost:8080/"
        },
        "outputId": "19bcab63-7e39-40ea-8450-1c325897a509"
      },
      "outputs": [
        {
          "output_type": "stream",
          "name": "stdout",
          "text": [
            "[0. 1. 0. ... 0. 1. 0.]\n"
          ]
        }
      ],
      "source": [
        "print(Y_test_dt)"
      ]
    },
    {
      "cell_type": "code",
      "execution_count": 57,
      "metadata": {
        "id": "cuS1ZhUGUM3u"
      },
      "outputs": [],
      "source": [
        "y_pred_dt = y_pred_dt.reshape(-1,1)\n",
        "Y_test_dt = Y_test_dt.reshape(-1,1)"
      ]
    },
    {
      "cell_type": "code",
      "execution_count": 58,
      "metadata": {
        "id": "GhJo6wZSUM3x"
      },
      "outputs": [],
      "source": [
        "df = np.concatenate((Y_test_dt,y_pred_dt),axis=1)\n",
        "dataframe = pd.DataFrame(df,columns=['Rain on Tommorrow','Predition of Rain'])"
      ]
    },
    {
      "cell_type": "code",
      "execution_count": 59,
      "metadata": {
        "id": "DKbvlXmjUM3y",
        "colab": {
          "base_uri": "https://localhost:8080/"
        },
        "outputId": "02395f7c-684f-4561-ea27-fe4da5e4d6f5"
      },
      "outputs": [
        {
          "output_type": "stream",
          "name": "stdout",
          "text": [
            "       Rain on Tommorrow  Predition of Rain\n",
            "0                    0.0                0.0\n",
            "1                    1.0                1.0\n",
            "2                    0.0                0.0\n",
            "3                    0.0                1.0\n",
            "4                    1.0                1.0\n",
            "...                  ...                ...\n",
            "44122                0.0                0.0\n",
            "44123                1.0                1.0\n",
            "44124                0.0                0.0\n",
            "44125                1.0                1.0\n",
            "44126                0.0                0.0\n",
            "\n",
            "[44127 rows x 2 columns]\n"
          ]
        }
      ],
      "source": [
        "print(dataframe)"
      ]
    },
    {
      "cell_type": "code",
      "execution_count": 60,
      "metadata": {
        "id": "xXZLoj5aUM30",
        "colab": {
          "base_uri": "https://localhost:8080/"
        },
        "outputId": "b4f5a715-7a6c-423c-ffe3-a58bb077c885"
      },
      "outputs": [
        {
          "output_type": "execute_result",
          "data": {
            "text/plain": [
              "0.909307226867904"
            ]
          },
          "metadata": {},
          "execution_count": 60
        }
      ],
      "source": [
        "from sklearn.metrics import accuracy_score\n",
        "acc_dt=accuracy_score(Y_test_dt,y_pred_dt)\n",
        "acc_dt"
      ]
    },
    {
      "cell_type": "code",
      "execution_count": 61,
      "metadata": {
        "scrolled": true,
        "id": "LzAE81QXUM31",
        "colab": {
          "base_uri": "https://localhost:8080/"
        },
        "outputId": "40e42593-98bf-4b5b-ca33-097ec65cd1a4"
      },
      "outputs": [
        {
          "output_type": "stream",
          "name": "stdout",
          "text": [
            "[[18645  3358]\n",
            " [  644 21480]]\n"
          ]
        }
      ],
      "source": [
        "from sklearn.metrics import confusion_matrix,plot_confusion_matrix\n",
        "cm_dt=confusion_matrix(Y_test_dt,y_pred_dt)\n",
        "print(cm_dt)"
      ]
    },
    {
      "cell_type": "code",
      "execution_count": 62,
      "metadata": {
        "id": "zgJo11PeUM33",
        "colab": {
          "base_uri": "https://localhost:8080/",
          "height": 265
        },
        "outputId": "cffc88e9-d30d-4d23-9601-2dcf22951d30"
      },
      "outputs": [
        {
          "output_type": "display_data",
          "data": {
            "text/plain": [
              "<Figure size 432x288 with 2 Axes>"
            ],
            "image/png": "[encoded data removed]"
          },
          "metadata": {
            "needs_background": "light"
          }
        }
      ],
      "source": [
        "group_names = ['True Neg','False Pos','False Neg','True Pos']\n",
        "group_counts = [\"{0:0.0f}\".format(value) for value in\n",
        "                cm_dt.flatten()]\n",
        "group_percentages = ['{0:.2%}'.format(value) for value in\n",
        "                     cm_dt.flatten()/np.sum(cm_dt)]\n",
        "labels = [f\"{v1}\\n{v2}\\n{v3}\" for v1, v2, v3 in\n",
        "          zip(group_names,group_counts,group_percentages)]\n",
        "labels = np.asarray(labels).reshape(2,2)\n",
        "sns.heatmap(cm_dt, annot=labels, fmt=\"\", cmap='Purples');"
      ]
    },
    {
      "cell_type": "code",
      "execution_count": 63,
      "metadata": {
        "id": "dTnkPSEKUM34",
        "colab": {
          "base_uri": "https://localhost:8080/"
        },
        "outputId": "5b9117db-569c-46e6-bf2b-aa415702faf8"
      },
      "outputs": [
        {
          "output_type": "stream",
          "name": "stdout",
          "text": [
            "              precision    recall  f1-score   support\n",
            "\n",
            "         0.0       0.97      0.85      0.90     22003\n",
            "         1.0       0.86      0.97      0.91     22124\n",
            "\n",
            "    accuracy                           0.91     44127\n",
            "   macro avg       0.92      0.91      0.91     44127\n",
            "weighted avg       0.92      0.91      0.91     44127\n",
            "\n"
          ]
        }
      ],
      "source": [
        "from sklearn.metrics import classification_report\n",
        "print(classification_report(Y_test_dt,y_pred_dt))"
      ]
    },
    {
      "cell_type": "markdown",
      "source": [
        "# **Light Gbm**"
      ],
      "metadata": {
        "id": "mQB6hxOUcg4W"
      }
    },
    {
      "cell_type": "code",
      "execution_count": 64,
      "metadata": {
        "id": "VYmnMCnAUM35",
        "colab": {
          "base_uri": "https://localhost:8080/"
        },
        "outputId": "ded92fff-a891-40cf-e64d-70793906742f"
      },
      "outputs": [
        {
          "output_type": "stream",
          "name": "stdout",
          "text": [
            "Looking in indexes: https://pypi.org/simple, https://us-python.pkg.dev/colab-wheels/public/simple/\n",
            "Requirement already satisfied: lightgbm in /usr/local/lib/python3.7/dist-packages (2.2.3)\n",
            "Requirement already satisfied: numpy in /usr/local/lib/python3.7/dist-packages (from lightgbm) (1.21.6)\n",
            "Requirement already satisfied: scikit-learn in /usr/local/lib/python3.7/dist-packages (from lightgbm) (1.0.2)\n",
            "Requirement already satisfied: scipy in /usr/local/lib/python3.7/dist-packages (from lightgbm) (1.7.3)\n",
            "Requirement already satisfied: joblib>=0.11 in /usr/local/lib/python3.7/dist-packages (from scikit-learn->lightgbm) (1.1.0)\n",
            "Requirement already satisfied: threadpoolctl>=2.0.0 in /usr/local/lib/python3.7/dist-packages (from scikit-learn->lightgbm) (3.1.0)\n"
          ]
        }
      ],
      "source": [
        "!pip install lightgbm"
      ]
    },
    {
      "cell_type": "code",
      "execution_count": 65,
      "metadata": {
        "id": "qlGnpBPzUM35",
        "colab": {
          "base_uri": "https://localhost:8080/"
        },
        "outputId": "907c53f2-2f64-4741-e57c-02a944e65c65"
      },
      "outputs": [
        {
          "output_type": "stream",
          "name": "stderr",
          "text": [
            "/usr/local/lib/python3.7/dist-packages/sklearn/preprocessing/_label.py:98: DataConversionWarning: A column-vector y was passed when a 1d array was expected. Please change the shape of y to (n_samples, ), for example using ravel().\n",
            "  y = column_or_1d(y, warn=True)\n",
            "/usr/local/lib/python3.7/dist-packages/sklearn/preprocessing/_label.py:133: DataConversionWarning: A column-vector y was passed when a 1d array was expected. Please change the shape of y to (n_samples, ), for example using ravel().\n",
            "  y = column_or_1d(y, warn=True)\n"
          ]
        },
        {
          "output_type": "execute_result",
          "data": {
            "text/plain": [
              "LGBMClassifier(random_state=0)"
            ]
          },
          "metadata": {},
          "execution_count": 65
        }
      ],
      "source": [
        "from lightgbm import LGBMClassifier\n",
        "classifier_lgbm = LGBMClassifier(random_state = 0)\n",
        "classifier_lgbm.fit(X_train, Y_train)"
      ]
    },
    {
      "cell_type": "code",
      "execution_count": 66,
      "metadata": {
        "id": "toPqw68SUM36",
        "colab": {
          "base_uri": "https://localhost:8080/"
        },
        "outputId": "3b28c6d4-9672-4c3c-b0e9-9c448c2a9aa1"
      },
      "outputs": [
        {
          "output_type": "execute_result",
          "data": {
            "text/plain": [
              "0.81376164981162"
            ]
          },
          "metadata": {},
          "execution_count": 66
        }
      ],
      "source": [
        "classifier_lgbm.score(X_train,Y_train)"
      ]
    },
    {
      "cell_type": "code",
      "execution_count": 67,
      "metadata": {
        "id": "mv4LyQxAUM37",
        "colab": {
          "base_uri": "https://localhost:8080/"
        },
        "outputId": "10f49904-e701-4bab-c9c0-1b7760f245fd"
      },
      "outputs": [
        {
          "output_type": "stream",
          "name": "stderr",
          "text": [
            "/usr/local/lib/python3.7/dist-packages/sklearn/preprocessing/_label.py:154: DataConversionWarning: A column-vector y was passed when a 1d array was expected. Please change the shape of y to (n_samples, ), for example using ravel().\n",
            "  y = column_or_1d(y, warn=True)\n"
          ]
        }
      ],
      "source": [
        "y_pred_lgbm = le6.inverse_transform(np.array(classifier_lgbm.predict(X_test),dtype=int))\n",
        "Y_test_lgbm = le6.inverse_transform(np.array(Y_test,dtype=int))"
      ]
    },
    {
      "cell_type": "code",
      "execution_count": 68,
      "metadata": {
        "id": "ZzUvHU2AUM38",
        "colab": {
          "base_uri": "https://localhost:8080/"
        },
        "outputId": "4f6b24f0-3119-477b-e878-6a7097a3c347"
      },
      "outputs": [
        {
          "output_type": "stream",
          "name": "stdout",
          "text": [
            "[1. 1. 1. ... 0. 1. 0.]\n"
          ]
        }
      ],
      "source": [
        "print(y_pred_lgbm)"
      ]
    },
    {
      "cell_type": "code",
      "execution_count": 69,
      "metadata": {
        "id": "TTAKsGYaUM39",
        "colab": {
          "base_uri": "https://localhost:8080/"
        },
        "outputId": "17e8e256-b29f-40d6-dac4-04892da747c8"
      },
      "outputs": [
        {
          "output_type": "stream",
          "name": "stdout",
          "text": [
            "[0. 1. 0. ... 0. 1. 0.]\n"
          ]
        }
      ],
      "source": [
        "print(Y_test_lgbm)"
      ]
    },
    {
      "cell_type": "code",
      "execution_count": 70,
      "metadata": {
        "id": "rqzmue4pUM3_"
      },
      "outputs": [],
      "source": [
        "y_pred_lgbm = y_pred_lgbm.reshape(-1,1)\n",
        "Y_test_lgbm = Y_test_lgbm.reshape(-1,1)"
      ]
    },
    {
      "cell_type": "code",
      "execution_count": 71,
      "metadata": {
        "id": "AZTNJVUAUM3_"
      },
      "outputs": [],
      "source": [
        "df = np.concatenate((Y_test_lgbm,y_pred_lgbm),axis=1)\n",
        "dataframe = pd.DataFrame(df,columns=['Rain on Tommorrow','Predition of Rain'])"
      ]
    },
    {
      "cell_type": "code",
      "execution_count": 72,
      "metadata": {
        "id": "sR8zjv3oUM4A",
        "colab": {
          "base_uri": "https://localhost:8080/"
        },
        "outputId": "2c14f77d-2b76-42d3-b113-d46d53dfe965"
      },
      "outputs": [
        {
          "output_type": "stream",
          "name": "stdout",
          "text": [
            "       Rain on Tommorrow  Predition of Rain\n",
            "0                    0.0                1.0\n",
            "1                    1.0                1.0\n",
            "2                    0.0                1.0\n",
            "3                    0.0                1.0\n",
            "4                    1.0                1.0\n",
            "...                  ...                ...\n",
            "44122                0.0                0.0\n",
            "44123                1.0                1.0\n",
            "44124                0.0                0.0\n",
            "44125                1.0                1.0\n",
            "44126                0.0                0.0\n",
            "\n",
            "[44127 rows x 2 columns]\n"
          ]
        }
      ],
      "source": [
        "print(dataframe)"
      ]
    },
    {
      "cell_type": "code",
      "execution_count": 73,
      "metadata": {
        "id": "dhOoiifyUM4A",
        "colab": {
          "base_uri": "https://localhost:8080/"
        },
        "outputId": "9441052d-895c-41aa-931c-30188502c9be"
      },
      "outputs": [
        {
          "output_type": "execute_result",
          "data": {
            "text/plain": [
              "0.8076007886328098"
            ]
          },
          "metadata": {},
          "execution_count": 73
        }
      ],
      "source": [
        "from sklearn.metrics import accuracy_score\n",
        "acc_lg=accuracy_score(Y_test_lgbm,y_pred_lgbm)\n",
        "acc_lg"
      ]
    },
    {
      "cell_type": "code",
      "execution_count": 74,
      "metadata": {
        "id": "C3GSCsBpUM4B",
        "colab": {
          "base_uri": "https://localhost:8080/"
        },
        "outputId": "c7e83f6d-dfee-4831-b580-1612b48770c9"
      },
      "outputs": [
        {
          "output_type": "stream",
          "name": "stdout",
          "text": [
            "[[18000  4003]\n",
            " [ 4487 17637]]\n"
          ]
        }
      ],
      "source": [
        "from sklearn.metrics import confusion_matrix,plot_confusion_matrix\n",
        "cm_lg=confusion_matrix(Y_test_lgbm,y_pred_lgbm)\n",
        "print(cm_lg)"
      ]
    },
    {
      "cell_type": "code",
      "execution_count": 75,
      "metadata": {
        "id": "lLXaditXUM4B",
        "colab": {
          "base_uri": "https://localhost:8080/",
          "height": 269
        },
        "outputId": "e44e8ffd-298e-482a-d48d-18bf16b87cc3"
      },
      "outputs": [
        {
          "output_type": "display_data",
          "data": {
            "text/plain": [
              "<Figure size 432x288 with 2 Axes>"
            ],
            "image/png": "[encoded data removed]"
          },
          "metadata": {
            "needs_background": "light"
          }
        }
      ],
      "source": [
        "group_names = ['True Neg','False Pos','False Neg','True Pos']\n",
        "group_counts = [\"{0:0.0f}\".format(value) for value in\n",
        "                cm_lg.flatten()]\n",
        "group_percentages = ['{0:.2%}'.format(value) for value in\n",
        "                     cm_lg.flatten()/np.sum(cm)]\n",
        "labels = [f\"{v1}\\n{v2}\\n{v3}\" for v1, v2, v3 in\n",
        "          zip(group_names,group_counts,group_percentages)]\n",
        "labels = np.asarray(labels).reshape(2,2)\n",
        "sns.heatmap(cm_lg, annot=labels, fmt=\"\", cmap='Greens');"
      ]
    },
    {
      "cell_type": "code",
      "execution_count": 76,
      "metadata": {
        "id": "_4gCeS93UM4D",
        "colab": {
          "base_uri": "https://localhost:8080/"
        },
        "outputId": "30d59446-0229-4091-b49c-9d84c91f58c2"
      },
      "outputs": [
        {
          "output_type": "stream",
          "name": "stdout",
          "text": [
            "              precision    recall  f1-score   support\n",
            "\n",
            "         0.0       0.80      0.82      0.81     22003\n",
            "         1.0       0.82      0.80      0.81     22124\n",
            "\n",
            "    accuracy                           0.81     44127\n",
            "   macro avg       0.81      0.81      0.81     44127\n",
            "weighted avg       0.81      0.81      0.81     44127\n",
            "\n"
          ]
        }
      ],
      "source": [
        "from sklearn.metrics import classification_report\n",
        "print(classification_report(Y_test_lgbm,y_pred_lgbm))"
      ]
    },
    {
      "cell_type": "markdown",
      "source": [
        "# **Naive Bayes**"
      ],
      "metadata": {
        "id": "cQH50Rq7dpeI"
      }
    },
    {
      "cell_type": "code",
      "execution_count": 77,
      "metadata": {
        "id": "aVAGuTLTUM4D",
        "colab": {
          "base_uri": "https://localhost:8080/"
        },
        "outputId": "3c5eb3ac-4290-4c4f-e595-66b9683cb9b6"
      },
      "outputs": [
        {
          "output_type": "stream",
          "name": "stderr",
          "text": [
            "/usr/local/lib/python3.7/dist-packages/sklearn/utils/validation.py:993: DataConversionWarning: A column-vector y was passed when a 1d array was expected. Please change the shape of y to (n_samples, ), for example using ravel().\n",
            "  y = column_or_1d(y, warn=True)\n"
          ]
        },
        {
          "output_type": "execute_result",
          "data": {
            "text/plain": [
              "GaussianNB()"
            ]
          },
          "metadata": {},
          "execution_count": 77
        }
      ],
      "source": [
        "from sklearn.naive_bayes import GaussianNB\n",
        "classifier_nb = GaussianNB()\n",
        "classifier_nb.fit(X_train, Y_train)"
      ]
    },
    {
      "cell_type": "code",
      "execution_count": 78,
      "metadata": {
        "id": "0wZbllvmUM4E",
        "colab": {
          "base_uri": "https://localhost:8080/"
        },
        "outputId": "f1ae0fdd-ebc5-42a1-dc36-939b233b9d8e"
      },
      "outputs": [
        {
          "output_type": "execute_result",
          "data": {
            "text/plain": [
              "0.742585195886802"
            ]
          },
          "metadata": {},
          "execution_count": 78
        }
      ],
      "source": [
        "classifier_nb.score(X_train,Y_train)"
      ]
    },
    {
      "cell_type": "code",
      "execution_count": 79,
      "metadata": {
        "id": "v8X92cjtUM4E",
        "colab": {
          "base_uri": "https://localhost:8080/"
        },
        "outputId": "0f5913fc-c52d-4653-cc90-fe45b65dbc9a"
      },
      "outputs": [
        {
          "output_type": "stream",
          "name": "stderr",
          "text": [
            "/usr/local/lib/python3.7/dist-packages/sklearn/preprocessing/_label.py:154: DataConversionWarning: A column-vector y was passed when a 1d array was expected. Please change the shape of y to (n_samples, ), for example using ravel().\n",
            "  y = column_or_1d(y, warn=True)\n"
          ]
        }
      ],
      "source": [
        "y_pred_nb = le6.inverse_transform(np.array(classifier_nb.predict(X_test),dtype=int))\n",
        "Y_test_nb = le6.inverse_transform(np.array(Y_test,dtype=int))"
      ]
    },
    {
      "cell_type": "code",
      "execution_count": 80,
      "metadata": {
        "id": "C0po3rYuUM4F",
        "colab": {
          "base_uri": "https://localhost:8080/"
        },
        "outputId": "179578e9-c220-45a6-afd2-e489a51f52b1"
      },
      "outputs": [
        {
          "output_type": "stream",
          "name": "stdout",
          "text": [
            "[1. 1. 1. ... 0. 1. 1.]\n"
          ]
        }
      ],
      "source": [
        "print(y_pred_nb)"
      ]
    },
    {
      "cell_type": "code",
      "execution_count": 81,
      "metadata": {
        "id": "6kWHrLPZUM4F",
        "colab": {
          "base_uri": "https://localhost:8080/"
        },
        "outputId": "4f625882-f913-4e4a-d616-215a6a0fd485"
      },
      "outputs": [
        {
          "output_type": "stream",
          "name": "stdout",
          "text": [
            "[0. 1. 0. ... 0. 1. 0.]\n"
          ]
        }
      ],
      "source": [
        "print(Y_test_nb)"
      ]
    },
    {
      "cell_type": "code",
      "execution_count": 82,
      "metadata": {
        "id": "8cQKKYUzUM4G"
      },
      "outputs": [],
      "source": [
        "y_pred_nb = y_pred_nb.reshape(-1,1)\n",
        "Y_test_nb = Y_test_nb.reshape(-1,1)"
      ]
    },
    {
      "cell_type": "code",
      "execution_count": 83,
      "metadata": {
        "id": "9KMGNuk6UM4G"
      },
      "outputs": [],
      "source": [
        "df = np.concatenate((Y_test_nb,y_pred_nb),axis=1)\n",
        "dataframe = pd.DataFrame(df,columns=['Rain on Tommorrow','Predition of Rain'])"
      ]
    },
    {
      "cell_type": "code",
      "execution_count": 84,
      "metadata": {
        "id": "PpvzkZudUM4H",
        "colab": {
          "base_uri": "https://localhost:8080/"
        },
        "outputId": "c9c3d940-4aad-4f98-d4a3-39fb611debbd"
      },
      "outputs": [
        {
          "output_type": "stream",
          "name": "stdout",
          "text": [
            "       Rain on Tommorrow  Predition of Rain\n",
            "0                    0.0                1.0\n",
            "1                    1.0                1.0\n",
            "2                    0.0                1.0\n",
            "3                    0.0                1.0\n",
            "4                    1.0                1.0\n",
            "...                  ...                ...\n",
            "44122                0.0                0.0\n",
            "44123                1.0                0.0\n",
            "44124                0.0                0.0\n",
            "44125                1.0                1.0\n",
            "44126                0.0                1.0\n",
            "\n",
            "[44127 rows x 2 columns]\n"
          ]
        }
      ],
      "source": [
        "print(dataframe)"
      ]
    },
    {
      "cell_type": "code",
      "execution_count": 85,
      "metadata": {
        "id": "wU2wsjl_UM4H",
        "colab": {
          "base_uri": "https://localhost:8080/"
        },
        "outputId": "c37f4012-17d3-46c9-8ffd-4277d245853f"
      },
      "outputs": [
        {
          "output_type": "execute_result",
          "data": {
            "text/plain": [
              "0.7405896616583951"
            ]
          },
          "metadata": {},
          "execution_count": 85
        }
      ],
      "source": [
        "from sklearn.metrics import accuracy_score\n",
        "acc_nb=accuracy_score(Y_test_nb,y_pred_nb)\n",
        "acc_nb"
      ]
    },
    {
      "cell_type": "code",
      "execution_count": 86,
      "metadata": {
        "id": "2cfCh4KRUM4H",
        "colab": {
          "base_uri": "https://localhost:8080/"
        },
        "outputId": "34455bc5-713f-4b02-e35e-f9c6c7371bad"
      },
      "outputs": [
        {
          "output_type": "stream",
          "name": "stdout",
          "text": [
            "[[17603  4400]\n",
            " [ 7047 15077]]\n"
          ]
        }
      ],
      "source": [
        "from sklearn.metrics import confusion_matrix,plot_confusion_matrix\n",
        "cm_nb=confusion_matrix(Y_test_nb,y_pred_nb)\n",
        "print(cm_nb)"
      ]
    },
    {
      "cell_type": "code",
      "execution_count": 87,
      "metadata": {
        "id": "xwXw-mEsUM4I",
        "colab": {
          "base_uri": "https://localhost:8080/",
          "height": 265
        },
        "outputId": "ff22da18-deea-4049-e928-9e46fb90fcab"
      },
      "outputs": [
        {
          "output_type": "display_data",
          "data": {
            "text/plain": [
              "<Figure size 432x288 with 2 Axes>"
            ],
            "image/png": "[encoded data removed]"
          },
          "metadata": {
            "needs_background": "light"
          }
        }
      ],
      "source": [
        "group_names = ['True Neg','False Pos','False Neg','True Pos']\n",
        "group_counts = [\"{0:0.0f}\".format(value) for value in\n",
        "                cm_nb.flatten()]\n",
        "group_percentages = ['{0:.2%}'.format(value) for value in\n",
        "                     cm_nb.flatten()/np.sum(cm)]\n",
        "labels = [f\"{v1}\\n{v2}\\n{v3}\" for v1, v2, v3 in\n",
        "          zip(group_names,group_counts,group_percentages)]\n",
        "labels = np.asarray(labels).reshape(2,2)\n",
        "sns.heatmap(cm_nb, annot=labels, fmt=\"\", cmap='magma');"
      ]
    },
    {
      "cell_type": "code",
      "execution_count": 88,
      "metadata": {
        "id": "Qvhnl_xqUM4J",
        "colab": {
          "base_uri": "https://localhost:8080/"
        },
        "outputId": "1eab568b-68d4-4780-e0d1-2667d75ecce0"
      },
      "outputs": [
        {
          "output_type": "stream",
          "name": "stdout",
          "text": [
            "              precision    recall  f1-score   support\n",
            "\n",
            "         0.0       0.71      0.80      0.75     22003\n",
            "         1.0       0.77      0.68      0.72     22124\n",
            "\n",
            "    accuracy                           0.74     44127\n",
            "   macro avg       0.74      0.74      0.74     44127\n",
            "weighted avg       0.74      0.74      0.74     44127\n",
            "\n"
          ]
        }
      ],
      "source": [
        "from sklearn.metrics import classification_report\n",
        "print(classification_report(Y_test_nb,y_pred_nb))"
      ]
    },
    {
      "cell_type": "markdown",
      "source": [
        "## Accuracy Comparison"
      ],
      "metadata": {
        "id": "2GsFJRYdXc_h"
      }
    },
    {
      "cell_type": "code",
      "source": [
        "accuracy_dict = {\"Logistic Regression\": acc_lr,\n",
        "                 \"Random Forest\": acc_rfs,\n",
        "                 \"Decision Trees\": acc_dt,\n",
        "                 \"LightGBM\": acc_lg,\n",
        "                 \"Naive Bayes\": acc_nb}\n",
        "\n",
        "accuracy_df = pd.DataFrame( pd.Series(accuracy_dict, index = accuracy_dict.keys()), columns = [\"Accuracy\"])\n",
        "accuracy_df"
      ],
      "metadata": {
        "id": "FMzeDWMfXiJb",
        "colab": {
          "base_uri": "https://localhost:8080/",
          "height": 206
        },
        "outputId": "0133ca23-c2e0-45a3-9c8b-383e1136b9f7"
      },
      "execution_count": 89,
      "outputs": [
        {
          "output_type": "execute_result",
          "data": {
            "text/plain": [
              "                     Accuracy\n",
              "Logistic Regression  0.774582\n",
              "Random Forest        0.947175\n",
              "Decision Trees       0.909307\n",
              "LightGBM             0.807601\n",
              "Naive Bayes          0.740590"
            ],
            "text/html": [
              "\n",
              "  <div id=\"df-3d186f72-0747-45e2-b868-5a5af8502200\">\n",
              "    <div class=\"colab-df-container\">\n",
              "      <div>\n",
              "<style scoped>\n",
              "    .dataframe tbody tr th:only-of-type {\n",
              "        vertical-align: middle;\n",
              "    }\n",
              "\n",
              "    .dataframe tbody tr th {\n",
              "        vertical-align: top;\n",
              "    }\n",
              "\n",
              "    .dataframe thead th {\n",
              "        text-align: right;\n",
              "    }\n",
              "</style>\n",
              "<table border=\"1\" class=\"dataframe\">\n",
              "  <thead>\n",
              "    <tr style=\"text-align: right;\">\n",
              "      <th></th>\n",
              "      <th>Accuracy</th>\n",
              "    </tr>\n",
              "  </thead>\n",
              "  <tbody>\n",
              "    <tr>\n",
              "      <th>Logistic Regression</th>\n",
              "      <td>0.774582</td>\n",
              "    </tr>\n",
              "    <tr>\n",
              "      <th>Random Forest</th>\n",
              "      <td>0.947175</td>\n",
              "    </tr>\n",
              "    <tr>\n",
              "      <th>Decision Trees</th>\n",
              "      <td>0.909307</td>\n",
              "    </tr>\n",
              "    <tr>\n",
              "      <th>LightGBM</th>\n",
              "      <td>0.807601</td>\n",
              "    </tr>\n",
              "    <tr>\n",
              "      <th>Naive Bayes</th>\n",
              "      <td>0.740590</td>\n",
              "    </tr>\n",
              "  </tbody>\n",
              "</table>\n",
              "</div>\n",
              "      <button class=\"colab-df-convert\" onclick=\"convertToInteractive('df-3d186f72-0747-45e2-b868-5a5af8502200')\"\n",
              "              title=\"Convert this dataframe to an interactive table.\"\n",
              "              style=\"display:none;\">\n",
              "        \n",
              "  <svg xmlns=\"http://www.w3.org/2000/svg\" height=\"24px\"viewBox=\"0 0 24 24\"\n",
              "       width=\"24px\">\n",
              "    <path d=\"M0 0h24v24H0V0z\" fill=\"none\"/>\n",
              "    <path d=\"M18.56 5.44l.94 2.06.94-2.06 2.06-.94-2.06-.94-.94-2.06-.94 2.06-2.06.94zm-11 1L8.5 8.5l.94-2.06 2.06-.94-2.06-.94L8.5 2.5l-.94 2.06-2.06.94zm10 10l.94 2.06.94-2.06 2.06-.94-2.06-.94-.94-2.06-.94 2.06-2.06.94z\"/><path d=\"M17.41 7.96l-1.37-1.37c-.4-.4-.92-.59-1.43-.59-.52 0-1.04.2-1.43.59L10.3 9.45l-7.72 7.72c-.78.78-.78 2.05 0 2.83L4 21.41c.39.39.9.59 1.41.59.51 0 1.02-.2 1.41-.59l7.78-7.78 2.81-2.81c.8-.78.8-2.07 0-2.86zM5.41 20L4 18.59l7.72-7.72 1.47 1.35L5.41 20z\"/>\n",
              "  </svg>\n",
              "      </button>\n",
              "      \n",
              "  <style>\n",
              "    .colab-df-container {\n",
              "      display:flex;\n",
              "      flex-wrap:wrap;\n",
              "      gap: 12px;\n",
              "    }\n",
              "\n",
              "    .colab-df-convert {\n",
              "      background-color: #E8F0FE;\n",
              "      border: none;\n",
              "      border-radius: 50%;\n",
              "      cursor: pointer;\n",
              "      display: none;\n",
              "      fill: #1967D2;\n",
              "      height: 32px;\n",
              "      padding: 0 0 0 0;\n",
              "      width: 32px;\n",
              "    }\n",
              "\n",
              "    .colab-df-convert:hover {\n",
              "      background-color: #E2EBFA;\n",
              "      box-shadow: 0px 1px 2px rgba(60, 64, 67, 0.3), 0px 1px 3px 1px rgba(60, 64, 67, 0.15);\n",
              "      fill: #174EA6;\n",
              "    }\n",
              "\n",
              "    [theme=dark] .colab-df-convert {\n",
              "      background-color: #3B4455;\n",
              "      fill: #D2E3FC;\n",
              "    }\n",
              "\n",
              "    [theme=dark] .colab-df-convert:hover {\n",
              "      background-color: #434B5C;\n",
              "      box-shadow: 0px 1px 3px 1px rgba(0, 0, 0, 0.15);\n",
              "      filter: drop-shadow(0px 1px 2px rgba(0, 0, 0, 0.3));\n",
              "      fill: #FFFFFF;\n",
              "    }\n",
              "  </style>\n",
              "\n",
              "      <script>\n",
              "        const buttonEl =\n",
              "          document.querySelector('#df-3d186f72-0747-45e2-b868-5a5af8502200 button.colab-df-convert');\n",
              "        buttonEl.style.display =\n",
              "          google.colab.kernel.accessAllowed ? 'block' : 'none';\n",
              "\n",
              "        async function convertToInteractive(key) {\n",
              "          const element = document.querySelector('#df-3d186f72-0747-45e2-b868-5a5af8502200');\n",
              "          const dataTable =\n",
              "            await google.colab.kernel.invokeFunction('convertToInteractive',\n",
              "                                                     [key], {});\n",
              "          if (!dataTable) return;\n",
              "\n",
              "          const docLinkHtml = 'Like what you see? Visit the ' +\n",
              "            '<a target=\"_blank\" href=https://colab.research.google.com/notebooks/data_table.ipynb>data table notebook</a>'\n",
              "            + ' to learn more about interactive tables.';\n",
              "          element.innerHTML = '';\n",
              "          dataTable['output_type'] = 'display_data';\n",
              "          await google.colab.output.renderOutput(dataTable, element);\n",
              "          const docLink = document.createElement('div');\n",
              "          docLink.innerHTML = docLinkHtml;\n",
              "          element.appendChild(docLink);\n",
              "        }\n",
              "      </script>\n",
              "    </div>\n",
              "  </div>\n",
              "  "
            ]
          },
          "metadata": {},
          "execution_count": 89
        }
      ]
    },
    {
      "cell_type": "code",
      "source": [
        "fig = plt.gcf();\n",
        "fig.set_size_inches(12, 8);\n",
        "\n",
        "sns.lineplot(x = accuracy_df.index, y = accuracy_df.Accuracy*100);\n",
        "sns.barplot(x = accuracy_df.index, y = accuracy_df.Accuracy*100);\n",
        "\n",
        "for i, val in enumerate(accuracy_df.index):\n",
        "    y = round(accuracy_df.loc[val].sum()*100, 3)\n",
        "    plt.text(i, y-5, str(y), ha = \"center\")"
      ],
      "metadata": {
        "colab": {
          "base_uri": "https://localhost:8080/",
          "height": 483
        },
        "id": "bgv8LHXOeYsE",
        "outputId": "417dd41c-5a85-4080-f8b2-709fe7d9af28"
      },
      "execution_count": 90,
      "outputs": [
        {
          "output_type": "display_data",
          "data": {
            "text/plain": [
              "<Figure size 864x576 with 1 Axes>"
            ],
            "image/png": "[encoded data removed]"
          },
          "metadata": {
            "needs_background": "light"
          }
        }
      ]
    }
  ],
  "metadata": {
    "colab": {
      "name": "RainfallPredictionDoneUntilConfusionMatrix_(1).ipynb",
      "provenance": [],
      "collapsed_sections": []
    },
    "kernelspec": {
      "display_name": "Python 3",
      "language": "python",
      "name": "python3"
    },
    "language_info": {
      "codemirror_mode": {
        "name": "ipython",
        "version": 3
      },
      "file_extension": ".py",
      "mimetype": "text/x-python",
      "name": "python",
      "nbconvert_exporter": "python",
      "pygments_lexer": "ipython3",
      "version": "3.8.3"
    }
  },
  "nbformat": 4,
  "nbformat_minor": 0
}